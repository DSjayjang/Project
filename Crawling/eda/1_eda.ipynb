{
 "cells": [
  {
   "cell_type": "code",
   "execution_count": 1,
   "id": "d441c11f",
   "metadata": {},
   "outputs": [],
   "source": [
    "import numpy as np\n",
    "import pandas as pd\n",
    "import matplotlib.pyplot as plt\n",
    "import matplotlib.cm as cm\n",
    "from matplotlib.ticker import PercentFormatter\n",
    "from matplotlib.colors import Normalize"
   ]
  },
  {
   "cell_type": "code",
   "execution_count": 2,
   "id": "265a070a",
   "metadata": {},
   "outputs": [],
   "source": [
    "# 폰트 설정\n",
    "import matplotlib as mpl\n",
    "import matplotlib.font_manager as fm\n",
    "\n",
    "font_path = r\"C:\\Windows\\Fonts\\malgun.ttf\"  \n",
    "font_prop = fm.FontProperties(fname=font_path)\n",
    "mpl.rcParams['font.family'] = font_prop.get_name()\n",
    "mpl.rcParams['axes.unicode_minus'] = False"
   ]
  },
  {
   "cell_type": "code",
   "execution_count": 5,
   "id": "2c13a816",
   "metadata": {},
   "outputs": [
    {
     "name": "stdout",
     "output_type": "stream",
     "text": [
      "   순번                   출발지 주소              중간집결지 주소            최종 도착지 주소  \\\n",
      "0   1  경기도 고양시 덕양구 중앙로633번길 12   경기도 고양시 덕양구 혜음로 142  경기도 고양시 덕양구 혜음로 142   \n",
      "1   2   대구광역시 서구 북비산로61길 20-24      경상북도 경주시 태종로 516  경기도 고양시 덕양구 동헌로 305   \n",
      "2   3   서울특별시 양천구 목동중앙본로11길 19  서울특별시 서초구 사평대로45길 26  강원특별자치도 동해시 대동로 430   \n",
      "3   4        서울특별시 강남구 학동로 432       경기도 과천시 중앙로 294      경기도 과천시 중앙로 294   \n",
      "4   5         대구광역시 남구 명덕로 236      대구광역시 수성구 무열로 56     대구광역시 수성구 무열로 56   \n",
      "\n",
      "    중간집결 기한    최종도착 기한 이동방법  \n",
      "0  0+1일 14시   0+1일 14시   개별  \n",
      "1  0+28일 9시  0+28일 14시   집단  \n",
      "2   0+3일 8시   0+3일 14시   집단  \n",
      "3  0+1일 14시   0+1일 14시   개별  \n",
      "4  0+3일 14시   0+3일 14시   개별  \n",
      "   num  start_lat   start_lng    mid_lat     mid_lng    end_lat     end_lng\n",
      "0    1  37.626949  126.827581  37.713020  126.902443  37.713020  126.902443\n",
      "1    2  35.881731  128.567540  35.839566  129.185196  37.713651  126.889915\n",
      "2    3  37.540484  126.867756  37.506451  127.012692  37.503393  129.130509\n",
      "3    4  37.517981  127.048764  37.441493  126.996973  37.441493  126.996973\n",
      "4    5  35.854689  128.595157  35.863198  128.651230  35.863198  128.651230\n"
     ]
    }
   ],
   "source": [
    "# data load\n",
    "df = pd.read_excel(r'..\\datasets\\250716.xlsx')\n",
    "df_geo = pd.read_csv(r'..\\datasets\\df_geo.csv') # 위경도 좌표\n",
    "\n",
    "print(df.head())\n",
    "print(df_geo.head())"
   ]
  },
  {
   "cell_type": "code",
   "execution_count": 6,
   "id": "43b2912e",
   "metadata": {},
   "outputs": [],
   "source": [
    "# 위경도 소수점 넷 째 자리까지 반올림\n",
    "df_geo['start_lat'] = np.around(df_geo['start_lat'], 4)\n",
    "df_geo['start_lng'] = np.around(df_geo['start_lat'], 4)\n",
    "df_geo['mid_lat'] = np.around(df_geo['mid_lat'], 4)\n",
    "df_geo['mid_lng'] = np.around(df_geo['mid_lng'], 4)\n",
    "df_geo['end_lat'] = np.around(df_geo['end_lat'], 4)\n",
    "df_geo['end_lng'] = np.around(df_geo['end_lng'], 4)"
   ]
  },
  {
   "cell_type": "code",
   "execution_count": 7,
   "id": "fe36f874",
   "metadata": {},
   "outputs": [
    {
     "name": "stdout",
     "output_type": "stream",
     "text": [
      "   순번                   출발지 주소              중간집결지 주소            최종 도착지 주소  \\\n",
      "0   1  경기도 고양시 덕양구 중앙로633번길 12   경기도 고양시 덕양구 혜음로 142  경기도 고양시 덕양구 혜음로 142   \n",
      "1   2   대구광역시 서구 북비산로61길 20-24      경상북도 경주시 태종로 516  경기도 고양시 덕양구 동헌로 305   \n",
      "2   3   서울특별시 양천구 목동중앙본로11길 19  서울특별시 서초구 사평대로45길 26  강원특별자치도 동해시 대동로 430   \n",
      "\n",
      "    중간집결 기한    최종도착 기한 이동방법  start_lat  start_lng  mid_lat   mid_lng  end_lat  \\\n",
      "0  0+1일 14시   0+1일 14시   개별    37.6269    37.6269  37.7130  126.9024  37.7130   \n",
      "1  0+28일 9시  0+28일 14시   집단    35.8817    35.8817  35.8396  129.1852  37.7137   \n",
      "2   0+3일 8시   0+3일 14시   집단    37.5405    37.5405  37.5065  127.0127  37.5034   \n",
      "\n",
      "    end_lng  \n",
      "0  126.9024  \n",
      "1  126.8899  \n",
      "2  129.1305  \n",
      "            순번                    출발지 주소               중간집결지 주소  \\\n",
      "815772  815773      광주광역시 광산구 장신로19번길 10       광주광역시 북구 우치로 339   \n",
      "815773  815774        서울특별시 동작구 사당로8길 55  서울특별시 강동구 양재대로156길 11   \n",
      "815774  815775  경기도 성남시 중원구 자혜로17번길 42-3     강원특별자치도 원주시 연세대길 1   \n",
      "\n",
      "                      최종 도착지 주소   중간집결 기한   최종도착 기한 이동방법  start_lat  \\\n",
      "815772         광주광역시 북구 우치로 339  0+1일 14시  0+1일 14시   개별    35.1920   \n",
      "815773  강원특별자치도 인제군 인제로277번길 20  0+7일 10시  0+7일 14시   집단    37.4830   \n",
      "815774       강원특별자치도 원주시 연세대길 1  0+2일 14시  0+2일 14시   개별    37.4537   \n",
      "\n",
      "        start_lng  mid_lat   mid_lng  end_lat   end_lng  \n",
      "815772    35.1920  35.1950  126.9038  35.1950  126.9038  \n",
      "815773    37.4830  37.5569  127.1466  38.0757  128.1784  \n",
      "815774    37.4537  37.2809  127.9010  37.2809  127.9010  \n"
     ]
    }
   ],
   "source": [
    "# Merge\n",
    "df_merge = pd.merge(df, df_geo, left_on = '순번', right_on = 'num', how = 'left').drop(columns = ['num'])\n",
    "\n",
    "print(df_merge.head(3))\n",
    "print(df_merge.tail(3))"
   ]
  },
  {
   "cell_type": "code",
   "execution_count": 8,
   "id": "afa91985",
   "metadata": {},
   "outputs": [
    {
     "name": "stdout",
     "output_type": "stream",
     "text": [
      "(815775, 13)\n",
      "이동방법\n",
      "개별    412505\n",
      "집단    403270\n",
      "Name: count, dtype: int64\n",
      "num_na: 16233\n",
      "            순번                    출발지 주소               중간집결지 주소  \\\n",
      "0            1   경기도 고양시 덕양구 중앙로633번길 12    경기도 고양시 덕양구 혜음로 142   \n",
      "1            2    대구광역시 서구 북비산로61길 20-24       경상북도 경주시 태종로 516   \n",
      "2            3    서울특별시 양천구 목동중앙본로11길 19   서울특별시 서초구 사평대로45길 26   \n",
      "3            4         서울특별시 강남구 학동로 432        경기도 과천시 중앙로 294   \n",
      "4            5          대구광역시 남구 명덕로 236       대구광역시 수성구 무열로 56   \n",
      "...        ...                       ...                    ...   \n",
      "799537  815770  서울특별시 관악구 남부순환로230길 43-5   경기도 이천시 청강가창로 389-94   \n",
      "799538  815771         서울특별시 마포구 만리재로 60       경기도 남양주시 덕릉로 967   \n",
      "799539  815773      광주광역시 광산구 장신로19번길 10       광주광역시 북구 우치로 339   \n",
      "799540  815774        서울특별시 동작구 사당로8길 55  서울특별시 강동구 양재대로156길 11   \n",
      "799541  815775  경기도 성남시 중원구 자혜로17번길 42-3     강원특별자치도 원주시 연세대길 1   \n",
      "\n",
      "                      최종 도착지 주소    중간집결 기한    최종도착 기한 이동방법  start_lat  \\\n",
      "0           경기도 고양시 덕양구 혜음로 142   0+1일 14시   0+1일 14시   개별    37.6269   \n",
      "1           경기도 고양시 덕양구 동헌로 305   0+28일 9시  0+28일 14시   집단    35.8817   \n",
      "2           강원특별자치도 동해시 대동로 430    0+3일 8시   0+3일 14시   집단    37.5405   \n",
      "3               경기도 과천시 중앙로 294   0+1일 14시   0+1일 14시   개별    37.5180   \n",
      "4              대구광역시 수성구 무열로 56   0+3일 14시   0+3일 14시   개별    35.8547   \n",
      "...                         ...        ...        ...  ...        ...   \n",
      "799537     경기도 이천시 청강가창로 389-94  0+11일 14시  0+11일 14시   개별    37.4782   \n",
      "799538         경기도 남양주시 덕릉로 967   0+3일 14시   0+3일 14시   개별    37.5454   \n",
      "799539         광주광역시 북구 우치로 339   0+1일 14시   0+1일 14시   개별    35.1920   \n",
      "799540  강원특별자치도 인제군 인제로277번길 20   0+7일 10시   0+7일 14시   집단    37.4830   \n",
      "799541       강원특별자치도 원주시 연세대길 1   0+2일 14시   0+2일 14시   개별    37.4537   \n",
      "\n",
      "        start_lng  mid_lat   mid_lng  end_lat   end_lng  \n",
      "0         37.6269  37.7130  126.9024  37.7130  126.9024  \n",
      "1         35.8817  35.8396  129.1852  37.7137  126.8899  \n",
      "2         37.5405  37.5065  127.0127  37.5034  129.1305  \n",
      "3         37.5180  37.4415  126.9970  37.4415  126.9970  \n",
      "4         35.8547  35.8632  128.6512  35.8632  128.6512  \n",
      "...           ...      ...       ...      ...       ...  \n",
      "799537    37.4782  37.2051  127.3556  37.2051  127.3556  \n",
      "799538    37.5454  37.6810  127.0948  37.6810  127.0948  \n",
      "799539    35.1920  35.1950  126.9038  35.1950  126.9038  \n",
      "799540    37.4830  37.5569  127.1466  38.0757  128.1784  \n",
      "799541    37.4537  37.2809  127.9010  37.2809  127.9010  \n",
      "\n",
      "[799542 rows x 13 columns]\n"
     ]
    }
   ],
   "source": [
    "# statistics\n",
    "print(df_merge.shape)\n",
    "print(df_merge['이동방법'].value_counts())\n",
    "\n",
    "# 위경도 NA 확인\n",
    "num_na = df_merge.isna().any(axis = 1).sum()\n",
    "mask = df_merge.notna().all(axis = 1)\n",
    "print('num_na:', num_na)\n",
    "\n",
    "df_merge = df_merge[mask].reset_index(drop = True)\n",
    "print(df_merge)\n",
    "# 변환안된 것: 16,233행\n",
    "# 사용가능 총: 799,542행"
   ]
  },
  {
   "cell_type": "code",
   "execution_count": 9,
   "id": "16b5fc3f",
   "metadata": {},
   "outputs": [
    {
     "name": "stdout",
     "output_type": "stream",
     "text": [
      "   순번                   출발지 주소              중간집결지 주소            최종 도착지 주소  \\\n",
      "0   1  경기도 고양시 덕양구 중앙로633번길 12   경기도 고양시 덕양구 혜음로 142  경기도 고양시 덕양구 혜음로 142   \n",
      "1   2   대구광역시 서구 북비산로61길 20-24      경상북도 경주시 태종로 516  경기도 고양시 덕양구 동헌로 305   \n",
      "2   3   서울특별시 양천구 목동중앙본로11길 19  서울특별시 서초구 사평대로45길 26  강원특별자치도 동해시 대동로 430   \n",
      "\n",
      "  이동방법  start_lat  start_lng  mid_lat   mid_lng  end_lat   end_lng  \\\n",
      "0   개별    37.6269    37.6269  37.7130  126.9024  37.7130  126.9024   \n",
      "1   집단    35.8817    35.8817  35.8396  129.1852  37.7137  126.8899   \n",
      "2   집단    37.5405    37.5405  37.5065  127.0127  37.5034  129.1305   \n",
      "\n",
      "            mid_td           end_td  \n",
      "0  1 days 14:00:00  1 days 14:00:00  \n",
      "1 28 days 09:00:00 28 days 14:00:00  \n",
      "2  3 days 08:00:00  3 days 14:00:00  \n"
     ]
    }
   ],
   "source": [
    "# 시간 변환\n",
    "# 중간시간 변환\n",
    "df_merge_mid = df_merge['중간집결 기한'].str.split('일', expand = True)\n",
    "df_merge_mid.columns = ['Mday_mid', 'Mhour_mid']\n",
    "df_merge_mid['Mday_mid'] = df_merge_mid['Mday_mid'].str.replace('0+', '').astype(int)\n",
    "df_merge_mid['Mhour_mid'] = df_merge_mid['Mhour_mid'].str.replace('시', '').astype(int)\n",
    "df_merge_mid['mid_td'] = (pd.to_timedelta(df_merge_mid['Mday_mid'], unit = 'D') + pd.to_timedelta(df_merge_mid['Mhour_mid'], unit = 'h'))\n",
    "\n",
    "# 최종시간 변환\n",
    "df_merge_end = df_merge['최종도착 기한'].str.split('일', expand = True)\n",
    "df_merge_end.columns = ['Mday_end', 'Mhour_end']\n",
    "df_merge_end['Mday_end'] = df_merge_end['Mday_end'].str.replace('0+', '').astype(int)\n",
    "df_merge_end['Mhour_end'] = df_merge_end['Mhour_end'].str.replace('시', '').astype(int)\n",
    "df_merge_end['end_td'] = (pd.to_timedelta(df_merge_end['Mday_end'], unit = 'D') + pd.to_timedelta(df_merge_end['Mhour_end'], unit = 'h'))\n",
    "\n",
    "df_merge = pd.concat([df_merge, df_merge_mid, df_merge_end], axis = 1).drop(columns = ['중간집결 기한', '최종도착 기한', 'Mday_mid', 'Mhour_mid', 'Mday_end', 'Mhour_end']).reset_index(drop = True)\n",
    "print(df_merge.head(3))"
   ]
  },
  {
   "cell_type": "code",
   "execution_count": null,
   "id": "563d36a8",
   "metadata": {},
   "outputs": [],
   "source": [
    "# 집단 / 개별 split\n",
    "df_group = df_merge[df_merge['이동방법'] == '집단'].drop(columns = '이동방법')\n",
    "df_solo = df_merge[df_merge['이동방법'] == '개별'].drop(columns = '이동방법')"
   ]
  },
  {
   "cell_type": "code",
   "execution_count": null,
   "id": "f05488d3",
   "metadata": {},
   "outputs": [
    {
     "name": "stdout",
     "output_type": "stream",
     "text": [
      "mid_td\n",
      "1    186137\n",
      "2     47639\n",
      "3     31554\n",
      "4     16868\n",
      "5     12281\n",
      "Name: count, dtype: int64\n",
      "end_td\n",
      "1    186137\n",
      "2     47639\n",
      "3     31554\n",
      "4     16868\n",
      "5     12281\n",
      "Name: count, dtype: int64\n"
     ]
    },
    {
     "data": {
      "image/png": "[encoded data removed]",
      "text/plain": [
       "<Figure size 1200x600 with 2 Axes>"
      ]
     },
     "metadata": {},
     "output_type": "display_data"
    }
   ],
   "source": [
    "# (집단) 도착 기한 시각화\n",
    "temp1 = df_group['mid_td'].dt.days.value_counts().sort_index()\n",
    "x1 = temp1.index\n",
    "y1 = temp1.values\n",
    "\n",
    "temp2 = df_group['end_td'].dt.days.value_counts().sort_index()\n",
    "x2 = temp2.index\n",
    "y2 = temp2.values\n",
    "\n",
    "print(temp1.head(5))\n",
    "print(temp2.head(5))\n",
    "\n",
    "fig = plt.figure(figsize = (12,6))\n",
    "ax = fig.add_subplot(1,2,1)\n",
    "ax.bar(x = x1, height = y1)\n",
    "ax.set_xlabel('경과 일수 (days)')\n",
    "ax.set_ylabel('인원')\n",
    "ax.set_title('집단-중간 도착까지 M+d')\n",
    "ax.set_xticks(x1)\n",
    "ax.tick_params(axis='y')\n",
    "\n",
    "ax = fig.add_subplot(1,2,2)\n",
    "ax.bar(x = x2, height = y2)\n",
    "ax.set_xlabel('경과 일수 (days)')\n",
    "ax.set_ylabel('인원')\n",
    "ax.set_title('집단-최종 도착까지 M+d')\n",
    "ax.set_xticks(x2)\n",
    "ax.tick_params(axis='y')\n",
    "\n",
    "plt.show()"
   ]
  },
  {
   "cell_type": "code",
   "execution_count": null,
   "id": "dfd0ec25",
   "metadata": {},
   "outputs": [
    {
     "name": "stdout",
     "output_type": "stream",
     "text": [
      "mid_td\n",
      "1    223536\n",
      "2     39111\n",
      "3     32867\n",
      "4     16614\n",
      "5     15709\n",
      "Name: count, dtype: int64\n",
      "end_td\n",
      "1    223536\n",
      "2     39111\n",
      "3     32867\n",
      "4     16614\n",
      "5     15709\n",
      "Name: count, dtype: int64\n"
     ]
    },
    {
     "data": {
      "image/png": "[encoded data removed]",
      "text/plain": [
       "<Figure size 1200x600 with 2 Axes>"
      ]
     },
     "metadata": {},
     "output_type": "display_data"
    }
   ],
   "source": [
    "# (개인) 도착 기한 시각화\n",
    "temp1 = df_solo['mid_td'].dt.days.value_counts().sort_index()\n",
    "x1 = temp1.index\n",
    "y1 = temp1.values\n",
    "\n",
    "temp2 = df_solo['end_td'].dt.days.value_counts().sort_index()\n",
    "x2 = temp2.index\n",
    "y2 = temp2.values\n",
    "\n",
    "print(temp1.head(5))\n",
    "print(temp2.head(5))\n",
    "\n",
    "fig = plt.figure(figsize = (12,6))\n",
    "ax = fig.add_subplot(1,2,1)\n",
    "ax.bar(x = x1, height = y1)\n",
    "ax.set_xlabel('경과 일수 (days)')\n",
    "ax.set_ylabel('인원')\n",
    "ax.set_title('개인-중간 도착까지 M+d')\n",
    "ax.set_xticks(x1)\n",
    "ax.tick_params(axis='y')\n",
    "\n",
    "ax = fig.add_subplot(1,2,2)\n",
    "ax.bar(x = x2, height = y2)\n",
    "ax.set_xlabel('경과 일수 (days)')\n",
    "ax.set_ylabel('인원')\n",
    "ax.set_title('개인-최종 도착까지 M+d')\n",
    "ax.set_xticks(x2)\n",
    "ax.tick_params(axis='y')\n",
    "\n",
    "plt.show()"
   ]
  },
  {
   "cell_type": "markdown",
   "id": "b47dc178",
   "metadata": {},
   "source": [
    "# EDA"
   ]
  },
  {
   "cell_type": "markdown",
   "id": "0a63b5a7",
   "metadata": {},
   "source": [
    "## 집단"
   ]
  },
  {
   "cell_type": "code",
   "execution_count": null,
   "id": "78cfe64e",
   "metadata": {},
   "outputs": [
    {
     "data": {
      "text/html": [
       "<div>\n",
       "<style scoped>\n",
       "    .dataframe tbody tr th:only-of-type {\n",
       "        vertical-align: middle;\n",
       "    }\n",
       "\n",
       "    .dataframe tbody tr th {\n",
       "        vertical-align: top;\n",
       "    }\n",
       "\n",
       "    .dataframe thead th {\n",
       "        text-align: right;\n",
       "    }\n",
       "</style>\n",
       "<table border=\"1\" class=\"dataframe\">\n",
       "  <thead>\n",
       "    <tr style=\"text-align: right;\">\n",
       "      <th></th>\n",
       "      <th>순번</th>\n",
       "      <th>출발지 주소</th>\n",
       "      <th>중간집결지 주소</th>\n",
       "      <th>최종 도착지 주소</th>\n",
       "      <th>start_lat</th>\n",
       "      <th>start_lng</th>\n",
       "      <th>mid_lat</th>\n",
       "      <th>mid_lng</th>\n",
       "      <th>end_lat</th>\n",
       "      <th>end_lng</th>\n",
       "      <th>mid_td</th>\n",
       "      <th>end_td</th>\n",
       "    </tr>\n",
       "  </thead>\n",
       "  <tbody>\n",
       "    <tr>\n",
       "      <th>5</th>\n",
       "      <td>6</td>\n",
       "      <td>충청북도 청주시 상당구 수영로 328</td>\n",
       "      <td>충청북도 증평군 초평로 1717</td>\n",
       "      <td>충청북도 증평군 초평로 1717</td>\n",
       "      <td>36.6321</td>\n",
       "      <td>36.6321</td>\n",
       "      <td>36.8044</td>\n",
       "      <td>127.5606</td>\n",
       "      <td>36.8044</td>\n",
       "      <td>127.5606</td>\n",
       "      <td>23 days 14:00:00</td>\n",
       "      <td>23 days 14:00:00</td>\n",
       "    </tr>\n",
       "    <tr>\n",
       "      <th>21</th>\n",
       "      <td>22</td>\n",
       "      <td>인천광역시 부평구 부평북로 431</td>\n",
       "      <td>인천광역시 부평구 무네미로 447</td>\n",
       "      <td>인천광역시 부평구 무네미로 447</td>\n",
       "      <td>37.5229</td>\n",
       "      <td>37.5229</td>\n",
       "      <td>37.4745</td>\n",
       "      <td>126.7523</td>\n",
       "      <td>37.4745</td>\n",
       "      <td>126.7523</td>\n",
       "      <td>2 days 14:00:00</td>\n",
       "      <td>2 days 14:00:00</td>\n",
       "    </tr>\n",
       "    <tr>\n",
       "      <th>75</th>\n",
       "      <td>77</td>\n",
       "      <td>경상북도 영주시 장수면 용주로 224-31</td>\n",
       "      <td>경상북도 안동시 경동로 1375</td>\n",
       "      <td>경상북도 안동시 경동로 1375</td>\n",
       "      <td>36.7854</td>\n",
       "      <td>36.7854</td>\n",
       "      <td>36.5422</td>\n",
       "      <td>128.7971</td>\n",
       "      <td>36.5422</td>\n",
       "      <td>128.7971</td>\n",
       "      <td>30 days 14:00:00</td>\n",
       "      <td>30 days 14:00:00</td>\n",
       "    </tr>\n",
       "    <tr>\n",
       "      <th>101</th>\n",
       "      <td>104</td>\n",
       "      <td>전북특별자치도 익산시 무왕로 1195</td>\n",
       "      <td>전북특별자치도 익산시 함라2길 162</td>\n",
       "      <td>전북특별자치도 익산시 함라2길 162</td>\n",
       "      <td>35.9602</td>\n",
       "      <td>35.9602</td>\n",
       "      <td>36.0452</td>\n",
       "      <td>126.8927</td>\n",
       "      <td>36.0452</td>\n",
       "      <td>126.8927</td>\n",
       "      <td>1 days 14:00:00</td>\n",
       "      <td>1 days 14:00:00</td>\n",
       "    </tr>\n",
       "    <tr>\n",
       "      <th>130</th>\n",
       "      <td>134</td>\n",
       "      <td>경기도 수원시 권선구 곡선로49번길 39-18</td>\n",
       "      <td>경기도 평택시 2함대길 122</td>\n",
       "      <td>경기도 평택시 2함대길 122</td>\n",
       "      <td>37.2410</td>\n",
       "      <td>37.2410</td>\n",
       "      <td>37.0004</td>\n",
       "      <td>126.8217</td>\n",
       "      <td>37.0004</td>\n",
       "      <td>126.8217</td>\n",
       "      <td>2 days 14:00:00</td>\n",
       "      <td>2 days 14:00:00</td>\n",
       "    </tr>\n",
       "    <tr>\n",
       "      <th>...</th>\n",
       "      <td>...</td>\n",
       "      <td>...</td>\n",
       "      <td>...</td>\n",
       "      <td>...</td>\n",
       "      <td>...</td>\n",
       "      <td>...</td>\n",
       "      <td>...</td>\n",
       "      <td>...</td>\n",
       "      <td>...</td>\n",
       "      <td>...</td>\n",
       "      <td>...</td>\n",
       "      <td>...</td>\n",
       "    </tr>\n",
       "    <tr>\n",
       "      <th>799440</th>\n",
       "      <td>815673</td>\n",
       "      <td>경상남도 진주시 숙호산로 54</td>\n",
       "      <td>경상남도 진주시 송백로 46</td>\n",
       "      <td>경상남도 진주시 송백로 46</td>\n",
       "      <td>35.1866</td>\n",
       "      <td>35.1866</td>\n",
       "      <td>35.2036</td>\n",
       "      <td>128.1456</td>\n",
       "      <td>35.2036</td>\n",
       "      <td>128.1456</td>\n",
       "      <td>7 days 14:00:00</td>\n",
       "      <td>7 days 14:00:00</td>\n",
       "    </tr>\n",
       "    <tr>\n",
       "      <th>799466</th>\n",
       "      <td>815699</td>\n",
       "      <td>경기도 성남시 분당구 판교원로 209</td>\n",
       "      <td>경기도 평택시 2함대길 122</td>\n",
       "      <td>경기도 평택시 2함대길 122</td>\n",
       "      <td>37.3879</td>\n",
       "      <td>37.3879</td>\n",
       "      <td>37.0004</td>\n",
       "      <td>126.8217</td>\n",
       "      <td>37.0004</td>\n",
       "      <td>126.8217</td>\n",
       "      <td>7 days 14:00:00</td>\n",
       "      <td>7 days 14:00:00</td>\n",
       "    </tr>\n",
       "    <tr>\n",
       "      <th>799475</th>\n",
       "      <td>815708</td>\n",
       "      <td>경기도 의정부시 외미로 64</td>\n",
       "      <td>경기도 성남시 수정구 대왕판교로 1210</td>\n",
       "      <td>경기도 성남시 수정구 대왕판교로 1210</td>\n",
       "      <td>37.7237</td>\n",
       "      <td>37.7237</td>\n",
       "      <td>37.4381</td>\n",
       "      <td>127.1069</td>\n",
       "      <td>37.4381</td>\n",
       "      <td>127.1069</td>\n",
       "      <td>1 days 14:00:00</td>\n",
       "      <td>1 days 14:00:00</td>\n",
       "    </tr>\n",
       "    <tr>\n",
       "      <th>799496</th>\n",
       "      <td>815729</td>\n",
       "      <td>경기도 안산시 상록구 반석로 44</td>\n",
       "      <td>경기도 남양주시 경복대로 425</td>\n",
       "      <td>경기도 남양주시 경복대로 425</td>\n",
       "      <td>37.2950</td>\n",
       "      <td>37.2950</td>\n",
       "      <td>37.7351</td>\n",
       "      <td>127.2116</td>\n",
       "      <td>37.7351</td>\n",
       "      <td>127.2116</td>\n",
       "      <td>1 days 14:00:00</td>\n",
       "      <td>1 days 14:00:00</td>\n",
       "    </tr>\n",
       "    <tr>\n",
       "      <th>799506</th>\n",
       "      <td>815739</td>\n",
       "      <td>서울특별시 노원구 화랑로 556</td>\n",
       "      <td>경기도 평택시 고덕북로 75</td>\n",
       "      <td>경기도 평택시 고덕북로 75</td>\n",
       "      <td>37.6212</td>\n",
       "      <td>37.6212</td>\n",
       "      <td>37.0735</td>\n",
       "      <td>127.0321</td>\n",
       "      <td>37.0735</td>\n",
       "      <td>127.0321</td>\n",
       "      <td>7 days 14:00:00</td>\n",
       "      <td>7 days 14:00:00</td>\n",
       "    </tr>\n",
       "  </tbody>\n",
       "</table>\n",
       "<p>50639 rows × 12 columns</p>\n",
       "</div>"
      ],
      "text/plain": [
       "            순번                     출발지 주소                중간집결지 주소  \\\n",
       "5            6       충청북도 청주시 상당구 수영로 328       충청북도 증평군 초평로 1717   \n",
       "21          22         인천광역시 부평구 부평북로 431      인천광역시 부평구 무네미로 447   \n",
       "75          77    경상북도 영주시 장수면 용주로 224-31       경상북도 안동시 경동로 1375   \n",
       "101        104       전북특별자치도 익산시 무왕로 1195    전북특별자치도 익산시 함라2길 162   \n",
       "130        134  경기도 수원시 권선구 곡선로49번길 39-18        경기도 평택시 2함대길 122   \n",
       "...        ...                        ...                     ...   \n",
       "799440  815673           경상남도 진주시 숙호산로 54         경상남도 진주시 송백로 46   \n",
       "799466  815699       경기도 성남시 분당구 판교원로 209        경기도 평택시 2함대길 122   \n",
       "799475  815708            경기도 의정부시 외미로 64  경기도 성남시 수정구 대왕판교로 1210   \n",
       "799496  815729         경기도 안산시 상록구 반석로 44       경기도 남양주시 경복대로 425   \n",
       "799506  815739          서울특별시 노원구 화랑로 556         경기도 평택시 고덕북로 75   \n",
       "\n",
       "                     최종 도착지 주소  start_lat  start_lng  mid_lat   mid_lng  \\\n",
       "5            충청북도 증평군 초평로 1717    36.6321    36.6321  36.8044  127.5606   \n",
       "21          인천광역시 부평구 무네미로 447    37.5229    37.5229  37.4745  126.7523   \n",
       "75           경상북도 안동시 경동로 1375    36.7854    36.7854  36.5422  128.7971   \n",
       "101       전북특별자치도 익산시 함라2길 162    35.9602    35.9602  36.0452  126.8927   \n",
       "130           경기도 평택시 2함대길 122    37.2410    37.2410  37.0004  126.8217   \n",
       "...                        ...        ...        ...      ...       ...   \n",
       "799440         경상남도 진주시 송백로 46    35.1866    35.1866  35.2036  128.1456   \n",
       "799466        경기도 평택시 2함대길 122    37.3879    37.3879  37.0004  126.8217   \n",
       "799475  경기도 성남시 수정구 대왕판교로 1210    37.7237    37.7237  37.4381  127.1069   \n",
       "799496       경기도 남양주시 경복대로 425    37.2950    37.2950  37.7351  127.2116   \n",
       "799506         경기도 평택시 고덕북로 75    37.6212    37.6212  37.0735  127.0321   \n",
       "\n",
       "        end_lat   end_lng           mid_td           end_td  \n",
       "5       36.8044  127.5606 23 days 14:00:00 23 days 14:00:00  \n",
       "21      37.4745  126.7523  2 days 14:00:00  2 days 14:00:00  \n",
       "75      36.5422  128.7971 30 days 14:00:00 30 days 14:00:00  \n",
       "101     36.0452  126.8927  1 days 14:00:00  1 days 14:00:00  \n",
       "130     37.0004  126.8217  2 days 14:00:00  2 days 14:00:00  \n",
       "...         ...       ...              ...              ...  \n",
       "799440  35.2036  128.1456  7 days 14:00:00  7 days 14:00:00  \n",
       "799466  37.0004  126.8217  7 days 14:00:00  7 days 14:00:00  \n",
       "799475  37.4381  127.1069  1 days 14:00:00  1 days 14:00:00  \n",
       "799496  37.7351  127.2116  1 days 14:00:00  1 days 14:00:00  \n",
       "799506  37.0735  127.0321  7 days 14:00:00  7 days 14:00:00  \n",
       "\n",
       "[50639 rows x 12 columns]"
      ]
     },
     "execution_count": 11,
     "metadata": {},
     "output_type": "execute_result"
    }
   ],
   "source": [
    "# (집단) 중간 시간 = 최종 시간\n",
    "mask1 = df_group['mid_td'] == df_group['end_td']\n",
    "mask2 = (df_group['mid_lat'] == df_group['end_lat']) & (df_group['mid_lng'] == df_group['end_lng'])\n",
    "\n",
    "mask3 = mask1 & mask2\n",
    "df_group[mask3]"
   ]
  },
  {
   "cell_type": "code",
   "execution_count": null,
   "id": "a403ab9c",
   "metadata": {},
   "outputs": [
    {
     "name": "stdout",
     "output_type": "stream",
     "text": [
      "(50640, 12)\n"
     ]
    },
    {
     "data": {
      "text/html": [
       "<div>\n",
       "<style scoped>\n",
       "    .dataframe tbody tr th:only-of-type {\n",
       "        vertical-align: middle;\n",
       "    }\n",
       "\n",
       "    .dataframe tbody tr th {\n",
       "        vertical-align: top;\n",
       "    }\n",
       "\n",
       "    .dataframe thead th {\n",
       "        text-align: right;\n",
       "    }\n",
       "</style>\n",
       "<table border=\"1\" class=\"dataframe\">\n",
       "  <thead>\n",
       "    <tr style=\"text-align: right;\">\n",
       "      <th></th>\n",
       "      <th>순번</th>\n",
       "      <th>출발지 주소</th>\n",
       "      <th>중간집결지 주소</th>\n",
       "      <th>최종 도착지 주소</th>\n",
       "      <th>start_lat</th>\n",
       "      <th>start_lng</th>\n",
       "      <th>mid_lat</th>\n",
       "      <th>mid_lng</th>\n",
       "      <th>end_lat</th>\n",
       "      <th>end_lng</th>\n",
       "      <th>mid_td</th>\n",
       "      <th>end_td</th>\n",
       "    </tr>\n",
       "  </thead>\n",
       "  <tbody>\n",
       "    <tr>\n",
       "      <th>168497</th>\n",
       "      <td>171406</td>\n",
       "      <td>경기도 시흥시 하중로209번길 9</td>\n",
       "      <td>강원특별자치도 원주시 북원로 2777</td>\n",
       "      <td>강원특별자치도 원주시 북원로 2777</td>\n",
       "      <td>37.3946</td>\n",
       "      <td>37.3946</td>\n",
       "      <td>37.39</td>\n",
       "      <td>127.9441</td>\n",
       "      <td>37.39</td>\n",
       "      <td>127.9441</td>\n",
       "      <td>3 days 11:00:00</td>\n",
       "      <td>3 days 14:00:00</td>\n",
       "    </tr>\n",
       "  </tbody>\n",
       "</table>\n",
       "</div>"
      ],
      "text/plain": [
       "            순번              출발지 주소              중간집결지 주소  \\\n",
       "168497  171406  경기도 시흥시 하중로209번길 9  강원특별자치도 원주시 북원로 2777   \n",
       "\n",
       "                   최종 도착지 주소  start_lat  start_lng  mid_lat   mid_lng  \\\n",
       "168497  강원특별자치도 원주시 북원로 2777    37.3946    37.3946    37.39  127.9441   \n",
       "\n",
       "        end_lat   end_lng          mid_td          end_td  \n",
       "168497    37.39  127.9441 3 days 11:00:00 3 days 14:00:00  "
      ]
     },
     "execution_count": 12,
     "metadata": {},
     "output_type": "execute_result"
    }
   ],
   "source": [
    "# (집단) 중간 장소 = 최종 장소\n",
    "mask1 = (df_group['mid_lat'] == df_group['end_lat']) & (df_group['mid_lng'] == df_group['end_lng'])\n",
    "print(df_group[mask1].shape)\n",
    "# 50,640건\n",
    "\n",
    "#  (중간 장소 = 최종 장소) & (중간 시간 != 최종 시간)\n",
    "mask2 = df_group['mid_td'] != df_group['end_td']\n",
    "mask3 = mask1 & mask2\n",
    "df_group[mask3]\n",
    "# 1건"
   ]
  },
  {
   "cell_type": "code",
   "execution_count": null,
   "id": "2958d303",
   "metadata": {},
   "outputs": [
    {
     "name": "stdout",
     "output_type": "stream",
     "text": [
      "(10959, 15)\n"
     ]
    }
   ],
   "source": [
    "#(중간 장소 != 최종 장소) & (중간 시간 = 최종 시간)\n",
    "mask1 = (df_group['mid_lat'] != df_group['end_lat']) | (df_group['mid_lng'] != df_group['end_lng'])\n",
    "mask2 = df_group['mid_td'] == df_group['end_td']\n",
    "mask3 = mask1 & mask2\n",
    "\n",
    "df_temp = df_group.loc[mask3].copy()\n",
    "print(df_temp.shape)\n",
    "# 10,959건 존재\n",
    "\n",
    "# 그렇다면 실제로 떨어진 거리는? 위경도로 거리 계산.\n",
    "# >> geopy 라이브러리 활용\n",
    "from geopy.distance import geodesic\n",
    "\n",
    "def distance(row):\n",
    "    try:\n",
    "        return geodesic((row['mid_lat'], row['mid_lng']), (row['end_lat'], row['end_lng'])).km\n",
    "    except Exception:\n",
    "        return np.nan\n",
    "\n",
    "df_temp['mid_to_end'] = df_temp.apply(distance, axis = 1)\n",
    "\n",
    "df_temp[df_temp[df_temp.notna()]['mid_to_end'] >= 3]\n",
    "# 가정: \"1시간에 늦어도 3km를 걷는다고 하면, 3km 이상 떨어진 것은 데이터가 잘못된 것이다.\"\n",
    "# 2562건 존재.\n",
    "\n",
    "df_temp.to_csv('error_df.csv', index = False, encoding = 'cp949')"
   ]
  },
  {
   "cell_type": "code",
   "execution_count": null,
   "id": "26f8d484",
   "metadata": {},
   "outputs": [
    {
     "data": {
      "text/html": [
       "<div>\n",
       "<style scoped>\n",
       "    .dataframe tbody tr th:only-of-type {\n",
       "        vertical-align: middle;\n",
       "    }\n",
       "\n",
       "    .dataframe tbody tr th {\n",
       "        vertical-align: top;\n",
       "    }\n",
       "\n",
       "    .dataframe thead th {\n",
       "        text-align: right;\n",
       "    }\n",
       "</style>\n",
       "<table border=\"1\" class=\"dataframe\">\n",
       "  <thead>\n",
       "    <tr style=\"text-align: right;\">\n",
       "      <th></th>\n",
       "      <th>순번</th>\n",
       "      <th>출발지 주소</th>\n",
       "      <th>중간집결지 주소</th>\n",
       "      <th>최종 도착지 주소</th>\n",
       "      <th>start_lat</th>\n",
       "      <th>start_lng</th>\n",
       "      <th>mid_lat</th>\n",
       "      <th>mid_lng</th>\n",
       "      <th>end_lat</th>\n",
       "      <th>end_lng</th>\n",
       "      <th>mid_td</th>\n",
       "      <th>end_td</th>\n",
       "    </tr>\n",
       "  </thead>\n",
       "  <tbody>\n",
       "  </tbody>\n",
       "</table>\n",
       "</div>"
      ],
      "text/plain": [
       "Empty DataFrame\n",
       "Columns: [순번, 출발지 주소, 중간집결지 주소, 최종 도착지 주소, start_lat, start_lng, mid_lat, mid_lng, end_lat, end_lng, mid_td, end_td]\n",
       "Index: []"
      ]
     },
     "execution_count": 14,
     "metadata": {},
     "output_type": "execute_result"
    }
   ],
   "source": [
    "#  중간 시간 > 최종 시간\n",
    "df_group[df_group['mid_td'] > df_group['end_td']]\n",
    "# 없다. 정상."
   ]
  },
  {
   "cell_type": "code",
   "execution_count": null,
   "id": "f676d466",
   "metadata": {},
   "outputs": [],
   "source": []
  },
  {
   "cell_type": "code",
   "execution_count": null,
   "id": "3132808b",
   "metadata": {},
   "outputs": [],
   "source": []
  },
  {
   "cell_type": "code",
   "execution_count": null,
   "id": "48170a10",
   "metadata": {},
   "outputs": [],
   "source": []
  },
  {
   "cell_type": "code",
   "execution_count": null,
   "id": "d5779745",
   "metadata": {},
   "outputs": [],
   "source": []
  },
  {
   "cell_type": "code",
   "execution_count": null,
   "id": "32877970",
   "metadata": {},
   "outputs": [],
   "source": []
  },
  {
   "cell_type": "markdown",
   "id": "3bb1baa2",
   "metadata": {},
   "source": [
    "## ■ 개별"
   ]
  },
  {
   "cell_type": "code",
   "execution_count": null,
   "id": "1ff04985",
   "metadata": {},
   "outputs": [
    {
     "name": "stdout",
     "output_type": "stream",
     "text": [
      "(1, 12)\n"
     ]
    },
    {
     "data": {
      "text/html": [
       "<div>\n",
       "<style scoped>\n",
       "    .dataframe tbody tr th:only-of-type {\n",
       "        vertical-align: middle;\n",
       "    }\n",
       "\n",
       "    .dataframe tbody tr th {\n",
       "        vertical-align: top;\n",
       "    }\n",
       "\n",
       "    .dataframe thead th {\n",
       "        text-align: right;\n",
       "    }\n",
       "</style>\n",
       "<table border=\"1\" class=\"dataframe\">\n",
       "  <thead>\n",
       "    <tr style=\"text-align: right;\">\n",
       "      <th></th>\n",
       "      <th>순번</th>\n",
       "      <th>출발지 주소</th>\n",
       "      <th>중간집결지 주소</th>\n",
       "      <th>최종 도착지 주소</th>\n",
       "      <th>start_lat</th>\n",
       "      <th>start_lng</th>\n",
       "      <th>mid_lat</th>\n",
       "      <th>mid_lng</th>\n",
       "      <th>end_lat</th>\n",
       "      <th>end_lng</th>\n",
       "      <th>mid_td</th>\n",
       "      <th>end_td</th>\n",
       "    </tr>\n",
       "  </thead>\n",
       "  <tbody>\n",
       "    <tr>\n",
       "      <th>304860</th>\n",
       "      <td>311085</td>\n",
       "      <td>경기도 수원시 권선구 권중로 110</td>\n",
       "      <td>경기도 화성시 푸른들판로 1263</td>\n",
       "      <td>경기도 화성시 푸른들판로 1263</td>\n",
       "      <td>37.2487</td>\n",
       "      <td>37.2487</td>\n",
       "      <td>37.216</td>\n",
       "      <td>126.8721</td>\n",
       "      <td>37.2161</td>\n",
       "      <td>126.8721</td>\n",
       "      <td>1 days 14:00:00</td>\n",
       "      <td>1 days 14:00:00</td>\n",
       "    </tr>\n",
       "  </tbody>\n",
       "</table>\n",
       "</div>"
      ],
      "text/plain": [
       "            순번               출발지 주소            중간집결지 주소           최종 도착지 주소  \\\n",
       "304860  311085  경기도 수원시 권선구 권중로 110  경기도 화성시 푸른들판로 1263  경기도 화성시 푸른들판로 1263   \n",
       "\n",
       "        start_lat  start_lng  mid_lat   mid_lng  end_lat   end_lng  \\\n",
       "304860    37.2487    37.2487   37.216  126.8721  37.2161  126.8721   \n",
       "\n",
       "                mid_td          end_td  \n",
       "304860 1 days 14:00:00 1 days 14:00:00  "
      ]
     },
     "execution_count": 15,
     "metadata": {},
     "output_type": "execute_result"
    }
   ],
   "source": [
    "# (개별) 중간 장소 != 최종 장소\n",
    "print(df_solo[(df_solo['mid_lat'] != df_solo['end_lat']) | (df_solo['mid_lng'] != df_solo['end_lng'])].shape)\n",
    "df_solo[(df_solo['mid_lat'] != df_solo['end_lat']) | (df_solo['mid_lng'] != df_solo['end_lng'])].head()\n",
    "# 1건\n",
    "# 거의 차이 없음. 무시가능"
   ]
  },
  {
   "cell_type": "code",
   "execution_count": null,
   "id": "b4b23d25",
   "metadata": {},
   "outputs": [
    {
     "name": "stdout",
     "output_type": "stream",
     "text": [
      "(296, 12)\n",
      "          순번                출발지 주소                중간집결지 주소  \\\n",
      "8895    9022  강원특별자치도 원주시 서원대로 290  강원특별자치도 춘천시 영서로 3272-1   \n",
      "10457  10602      경기도 파주시 와석순환로 15        경기도 양주시 감악산로 218   \n",
      "20730  21019  강원특별자치도 춘천시 영서로 3034  강원특별자치도 춘천시 영서로 3272-1   \n",
      "22497  22817   경기도 수원시 장안구 수성로 271     경기도 수원시 팔달구 고화로 120   \n",
      "25616  25971    경기도 고양시 덕양구 신원로 60        경기도 양주시 감악산로 218   \n",
      "\n",
      "                    최종 도착지 주소  start_lat  start_lng  mid_lat   mid_lng  \\\n",
      "8895   강원특별자치도 춘천시 영서로 3272-1    37.3372    37.3372  37.9418  127.7146   \n",
      "10457        경기도 양주시 감악산로 218    37.7093    37.7093  37.8847  126.9800   \n",
      "20730  강원특별자치도 춘천시 영서로 3272-1    37.9230    37.9230  37.9418  127.7146   \n",
      "22497     경기도 수원시 팔달구 고화로 120    37.2904    37.2904  37.2802  127.0075   \n",
      "25616        경기도 양주시 감악산로 218    37.6657    37.6657  37.8847  126.9800   \n",
      "\n",
      "       end_lat   end_lng          mid_td          end_td  \n",
      "8895   37.9418  127.7146 1 days 08:00:00 1 days 10:00:00  \n",
      "10457  37.8847  126.9800 1 days 11:00:00 1 days 14:00:00  \n",
      "20730  37.9418  127.7146 1 days 08:00:00 1 days 10:00:00  \n",
      "22497  37.2802  127.0075 1 days 08:00:00 1 days 14:00:00  \n",
      "25616  37.8847  126.9800 1 days 11:00:00 1 days 14:00:00  \n"
     ]
    },
    {
     "data": {
      "text/html": [
       "<div>\n",
       "<style scoped>\n",
       "    .dataframe tbody tr th:only-of-type {\n",
       "        vertical-align: middle;\n",
       "    }\n",
       "\n",
       "    .dataframe tbody tr th {\n",
       "        vertical-align: top;\n",
       "    }\n",
       "\n",
       "    .dataframe thead th {\n",
       "        text-align: right;\n",
       "    }\n",
       "</style>\n",
       "<table border=\"1\" class=\"dataframe\">\n",
       "  <thead>\n",
       "    <tr style=\"text-align: right;\">\n",
       "      <th></th>\n",
       "      <th>순번</th>\n",
       "      <th>출발지 주소</th>\n",
       "      <th>중간집결지 주소</th>\n",
       "      <th>최종 도착지 주소</th>\n",
       "      <th>start_lat</th>\n",
       "      <th>start_lng</th>\n",
       "      <th>mid_lat</th>\n",
       "      <th>mid_lng</th>\n",
       "      <th>end_lat</th>\n",
       "      <th>end_lng</th>\n",
       "      <th>mid_td</th>\n",
       "      <th>end_td</th>\n",
       "    </tr>\n",
       "  </thead>\n",
       "  <tbody>\n",
       "  </tbody>\n",
       "</table>\n",
       "</div>"
      ],
      "text/plain": [
       "Empty DataFrame\n",
       "Columns: [순번, 출발지 주소, 중간집결지 주소, 최종 도착지 주소, start_lat, start_lng, mid_lat, mid_lng, end_lat, end_lng, mid_td, end_td]\n",
       "Index: []"
      ]
     },
     "execution_count": 16,
     "metadata": {},
     "output_type": "execute_result"
    }
   ],
   "source": [
    "# (개별) 중간 시간 != 최종 시간\n",
    "mask1 = df_solo['mid_td'] != df_solo['end_td']\n",
    "print(df_solo[mask1].shape)\n",
    "print(df_solo[mask1].head())\n",
    "# 296건\n",
    "\n",
    "# (중간 시간 != 최종 시간) & (중간 장소 != 최종 장소)\n",
    "mask2 = (df_solo['mid_lat'] != df_solo['end_lat']) | (df_solo['mid_lng'] != df_solo['end_lng'])\n",
    "mask3 = mask1 & mask2\n",
    "\n",
    "df_solo[mask3]\n",
    "# 0건\n",
    "\n",
    "# 중간장소와 최종장소는 모두 같은데, 도착시간이 다른 경우가 296건 있다."
   ]
  },
  {
   "cell_type": "code",
   "execution_count": null,
   "id": "effa8765",
   "metadata": {},
   "outputs": [
    {
     "data": {
      "text/html": [
       "<div>\n",
       "<style scoped>\n",
       "    .dataframe tbody tr th:only-of-type {\n",
       "        vertical-align: middle;\n",
       "    }\n",
       "\n",
       "    .dataframe tbody tr th {\n",
       "        vertical-align: top;\n",
       "    }\n",
       "\n",
       "    .dataframe thead th {\n",
       "        text-align: right;\n",
       "    }\n",
       "</style>\n",
       "<table border=\"1\" class=\"dataframe\">\n",
       "  <thead>\n",
       "    <tr style=\"text-align: right;\">\n",
       "      <th></th>\n",
       "      <th>순번</th>\n",
       "      <th>출발지 주소</th>\n",
       "      <th>중간집결지 주소</th>\n",
       "      <th>최종 도착지 주소</th>\n",
       "      <th>start_lat</th>\n",
       "      <th>start_lng</th>\n",
       "      <th>mid_lat</th>\n",
       "      <th>mid_lng</th>\n",
       "      <th>end_lat</th>\n",
       "      <th>end_lng</th>\n",
       "      <th>mid_td</th>\n",
       "      <th>end_td</th>\n",
       "    </tr>\n",
       "  </thead>\n",
       "  <tbody>\n",
       "  </tbody>\n",
       "</table>\n",
       "</div>"
      ],
      "text/plain": [
       "Empty DataFrame\n",
       "Columns: [순번, 출발지 주소, 중간집결지 주소, 최종 도착지 주소, start_lat, start_lng, mid_lat, mid_lng, end_lat, end_lng, mid_td, end_td]\n",
       "Index: []"
      ]
     },
     "execution_count": 17,
     "metadata": {},
     "output_type": "execute_result"
    }
   ],
   "source": [
    "#  중간 시간 > 최종 시간\n",
    "df_solo[df_solo['mid_td'] > df_solo['end_td']]\n",
    "# 없다. 정상."
   ]
  },
  {
   "cell_type": "code",
   "execution_count": null,
   "id": "379b0635",
   "metadata": {},
   "outputs": [],
   "source": []
  },
  {
   "cell_type": "code",
   "execution_count": null,
   "id": "a72b2c50",
   "metadata": {},
   "outputs": [],
   "source": []
  },
  {
   "cell_type": "code",
   "execution_count": null,
   "id": "f3468006",
   "metadata": {},
   "outputs": [],
   "source": []
  },
  {
   "cell_type": "code",
   "execution_count": null,
   "id": "25c843bb",
   "metadata": {},
   "outputs": [],
   "source": []
  },
  {
   "cell_type": "code",
   "execution_count": null,
   "id": "b838bd37",
   "metadata": {},
   "outputs": [],
   "source": []
  },
  {
   "cell_type": "markdown",
   "id": "01745d40",
   "metadata": {},
   "source": [
    "# 시각화"
   ]
  },
  {
   "cell_type": "markdown",
   "id": "14b49171",
   "metadata": {},
   "source": [
    "## 이동인원 시뮬레이션"
   ]
  },
  {
   "cell_type": "code",
   "execution_count": null,
   "id": "be8f61b7",
   "metadata": {},
   "outputs": [
    {
     "data": {
      "image/png": "[encoded data removed]",
      "text/plain": [
       "<Figure size 1200x200 with 2 Axes>"
      ]
     },
     "metadata": {},
     "output_type": "display_data"
    }
   ],
   "source": [
    "# (집단) 출발 -> 중간집결지\n",
    "temp1 = df_group['mid_td'].dt.days.value_counts().sort_index()\n",
    "total = temp1.sum()\n",
    "cum = temp1.cumsum()\n",
    "\n",
    "moving = total - cum.shift(fill_value = 0)\n",
    "\n",
    "norm = Normalize(vmin=0, vmax=moving.max())\n",
    "cmap = plt.get_cmap('Blues')\n",
    "\n",
    "moving_array = moving.values[np.newaxis, :]\n",
    "min_day = temp1.index.min()\n",
    "max_day = temp1.index.max()\n",
    "\n",
    "fig, ax = plt.subplots(figsize=(12, 2))\n",
    "im = ax.imshow(\n",
    "    moving_array,\n",
    "    aspect = 'auto',\n",
    "    cmap = cmap,\n",
    "    norm = norm,\n",
    "    # extent=[min_day-1.25, max_day, 0, 1]\n",
    ")\n",
    "\n",
    "ax.set_xlabel('경과일 M+d')\n",
    "ax.set_title('(집단) 중간집결지까지 - 경과일별 이동인원 시뮬레이션')\n",
    "\n",
    "ax.set_xticks(np.arange(min_day-1, max_day))\n",
    "ax.set_xticklabels(np.arange(min_day, max_day+1))\n",
    "ax.set_yticks([])\n",
    "\n",
    "cbar = fig.colorbar(im, ax = ax, orientation = 'horizontal', pad = 0.5)\n",
    "cbar.set_label('이동 인원')\n",
    "\n",
    "fig.subplots_adjust(bottom=0.25)\n",
    "\n",
    "plt.tight_layout()\n",
    "plt.show()\n"
   ]
  },
  {
   "cell_type": "code",
   "execution_count": null,
   "id": "e829cc46",
   "metadata": {},
   "outputs": [
    {
     "data": {
      "image/png": "[encoded data removed]",
      "text/plain": [
       "<Figure size 1200x200 with 2 Axes>"
      ]
     },
     "metadata": {},
     "output_type": "display_data"
    }
   ],
   "source": [
    "# (집단) 중간 -> 최종집결지\n",
    "temp1 = df_group['end_td'].dt.days.value_counts().sort_index()\n",
    "total = temp1.sum()\n",
    "cum = temp1.cumsum()\n",
    "\n",
    "moving = total - cum.shift(fill_value = 0)\n",
    "\n",
    "norm = Normalize(vmin=0, vmax=moving.max())\n",
    "cmap = plt.get_cmap('Blues')\n",
    "\n",
    "moving_array = moving.values[np.newaxis, :]\n",
    "min_day = temp1.index.min()\n",
    "max_day = temp1.index.max()\n",
    "\n",
    "fig, ax = plt.subplots(figsize=(12, 2))\n",
    "im = ax.imshow(\n",
    "    moving_array,\n",
    "    aspect = 'auto',\n",
    "    cmap = cmap,\n",
    "    norm = norm,\n",
    "    # extent=[min_day-1.25, max_day, 0, 1]\n",
    ")\n",
    "\n",
    "ax.set_xlabel('경과일 M+d')\n",
    "ax.set_title('(집단) 최종집결지까지 - 경과일별 이동인원 시뮬레이션')\n",
    "\n",
    "ax.set_xticks(np.arange(min_day-1, max_day))\n",
    "ax.set_xticklabels(np.arange(min_day, max_day+1))\n",
    "ax.set_yticks([])\n",
    "\n",
    "cbar = fig.colorbar(im, ax = ax, orientation = 'horizontal', pad = 0.5)\n",
    "cbar.set_label('이동 인원')\n",
    "\n",
    "fig.subplots_adjust(bottom=0.25)\n",
    "\n",
    "plt.tight_layout()\n",
    "plt.show()\n"
   ]
  },
  {
   "cell_type": "code",
   "execution_count": null,
   "id": "502013e6",
   "metadata": {},
   "outputs": [
    {
     "data": {
      "image/png": "[encoded data removed]",
      "text/plain": [
       "<Figure size 1200x200 with 2 Axes>"
      ]
     },
     "metadata": {},
     "output_type": "display_data"
    }
   ],
   "source": [
    "# (집단) 출발 -> 중간집결지\n",
    "# 하루전에 출발하지 않을까 보통...\n",
    "temp1 = df_group['mid_td'].dt.days.value_counts().sort_index()\n",
    "\n",
    "norm = Normalize(vmin=0, vmax=temp1.max())\n",
    "cmap = plt.get_cmap('Blues')\n",
    "\n",
    "moving_array = temp1.values[np.newaxis, :]\n",
    "min_day = temp1.index.min()\n",
    "max_day = temp1.index.max()\n",
    "\n",
    "fig, ax = plt.subplots(figsize=(12, 2))\n",
    "im = ax.imshow(\n",
    "    moving_array,\n",
    "    aspect = 'auto',\n",
    "    cmap = cmap,\n",
    "    norm = norm,\n",
    "    # extent=[min_day-1.25, max_day, 0, 1]\n",
    ")\n",
    "\n",
    "ax.set_xlabel('경과일 M+d')\n",
    "ax.set_title('(집단) 중간집결지까지 - 경과일별 이동인원 시뮬레이션')\n",
    "\n",
    "ax.set_xticks(np.arange(min_day-1, max_day))\n",
    "ax.set_xticklabels(np.arange(min_day, max_day+1))\n",
    "ax.set_yticks([])\n",
    "\n",
    "cbar = fig.colorbar(im, ax = ax, orientation = 'horizontal', pad = 0.5)\n",
    "cbar.set_label('이동 인원')\n",
    "\n",
    "fig.subplots_adjust(bottom=0.25)\n",
    "\n",
    "plt.tight_layout()\n",
    "plt.show()\n"
   ]
  },
  {
   "cell_type": "code",
   "execution_count": null,
   "id": "5aa729b2",
   "metadata": {},
   "outputs": [
    {
     "data": {
      "image/png": "[encoded data removed]",
      "text/plain": [
       "<Figure size 1200x200 with 2 Axes>"
      ]
     },
     "metadata": {},
     "output_type": "display_data"
    }
   ],
   "source": [
    "# (개인) 출발 -> 최종집결지\n",
    "temp1 = df_solo['end_td'].dt.days.value_counts().sort_index()\n",
    "total = temp1.sum()\n",
    "cum = temp1.cumsum()\n",
    "\n",
    "moving = total - cum.shift(fill_value = 0)\n",
    "\n",
    "norm = Normalize(vmin=0, vmax=moving.max())\n",
    "cmap = plt.get_cmap('Blues')\n",
    "\n",
    "moving_array = moving.values[np.newaxis, :]\n",
    "min_day = temp1.index.min()\n",
    "max_day = temp1.index.max()\n",
    "\n",
    "fig, ax = plt.subplots(figsize=(12, 2))\n",
    "im = ax.imshow(\n",
    "    moving_array,\n",
    "    aspect = 'auto',\n",
    "    cmap = cmap,\n",
    "    norm = norm,\n",
    "    # extent=[min_day-1.25, max_day, 0, 1]\n",
    ")\n",
    "\n",
    "ax.set_xlabel('경과일 M+d')\n",
    "ax.set_title('(개인) 경과일별 이동인원 시뮬레이션')\n",
    "\n",
    "ax.set_xticks(np.arange(min_day-1, max_day))\n",
    "ax.set_xticklabels(np.arange(min_day, max_day+1))\n",
    "ax.set_yticks([])\n",
    "\n",
    "cbar = fig.colorbar(im, ax = ax, orientation = 'horizontal', pad = 0.5)\n",
    "cbar.set_label('이동 인원')\n",
    "\n",
    "fig.subplots_adjust(bottom=0.25)\n",
    "\n",
    "plt.tight_layout()\n",
    "plt.show()\n"
   ]
  },
  {
   "cell_type": "code",
   "execution_count": null,
   "id": "cbb52c9d",
   "metadata": {},
   "outputs": [
    {
     "data": {
      "image/png": "[encoded data removed]",
      "text/plain": [
       "<Figure size 1200x200 with 2 Axes>"
      ]
     },
     "metadata": {},
     "output_type": "display_data"
    }
   ],
   "source": [
    "# (개인) 출발 -> 최종집결지\n",
    "# 이것도 하루전날에 출발하지 않을까...\n",
    "temp1 = df_solo['end_td'].dt.days.value_counts().sort_index()\n",
    "\n",
    "norm = Normalize(vmin=0, vmax=moving.max())\n",
    "cmap = plt.get_cmap('Blues')\n",
    "\n",
    "moving_array = temp1.values[np.newaxis, :]\n",
    "min_day = temp1.index.min()\n",
    "max_day = temp1.index.max()\n",
    "\n",
    "fig, ax = plt.subplots(figsize=(12, 2))\n",
    "im = ax.imshow(\n",
    "    moving_array,\n",
    "    aspect = 'auto',\n",
    "    cmap = cmap,\n",
    "    norm = norm,\n",
    "    # extent=[min_day-1.25, max_day, 0, 1]\n",
    ")\n",
    "\n",
    "ax.set_xlabel('경과일 M+d')\n",
    "ax.set_title('(개인) 경과일별 이동인원 시뮬레이션')\n",
    "\n",
    "ax.set_xticks(np.arange(min_day-1, max_day))\n",
    "ax.set_xticklabels(np.arange(min_day, max_day+1))\n",
    "ax.set_yticks([])\n",
    "\n",
    "cbar = fig.colorbar(im, ax = ax, orientation = 'horizontal', pad = 0.5)\n",
    "cbar.set_label('이동 인원')\n",
    "\n",
    "fig.subplots_adjust(bottom=0.25)\n",
    "\n",
    "plt.tight_layout()\n",
    "plt.show()\n"
   ]
  },
  {
   "cell_type": "code",
   "execution_count": null,
   "id": "0402aebc",
   "metadata": {},
   "outputs": [
    {
     "data": {
      "text/plain": [
       "end_td\n",
       "1     223536\n",
       "2      39111\n",
       "3      32867\n",
       "4      16614\n",
       "5      15709\n",
       "6       3943\n",
       "7      16793\n",
       "8       1720\n",
       "9        154\n",
       "10      1648\n",
       "11      3466\n",
       "12     11182\n",
       "13      2868\n",
       "14      2168\n",
       "15      4341\n",
       "16       750\n",
       "17       787\n",
       "18       849\n",
       "19      3421\n",
       "20      7758\n",
       "21      3243\n",
       "23      2108\n",
       "24       228\n",
       "25        99\n",
       "26       265\n",
       "27       794\n",
       "28      4707\n",
       "29        72\n",
       "30      8217\n",
       "Name: count, dtype: int64"
      ]
     },
     "execution_count": 23,
     "metadata": {},
     "output_type": "execute_result"
    }
   ],
   "source": [
    "temp1"
   ]
  },
  {
   "cell_type": "markdown",
   "id": "ff9a1c1c",
   "metadata": {},
   "source": [
    "## 도착가능 여부 시뮬레이션"
   ]
  },
  {
   "cell_type": "code",
   "execution_count": null,
   "id": "c0874c32",
   "metadata": {},
   "outputs": [],
   "source": [
    "# 데이터 임의 생성\n",
    "temp1 = df_group['mid_td'].dt.days\n",
    "\n",
    "mid_result_lim = np.around((1-(temp1-1)/(max(temp1))) * 0.3, 2) # 첫 날 제한 30%라 가정\n",
    "mid_result_impos = np.around((1-(temp1-1)/(max(temp1))) * 0.2, 2) # 첫 날 불가능 20%라 가정\n",
    "mid_result_pos = 1 - mid_result_impos - mid_result_lim\n",
    "\n",
    "df_group['mid_result_pos'] = mid_result_pos\n",
    "df_group['mid_result_lim'] = mid_result_lim\n",
    "df_group['mid_result_impos'] = mid_result_impos"
   ]
  },
  {
   "cell_type": "code",
   "execution_count": null,
   "id": "12f94c16",
   "metadata": {},
   "outputs": [
    {
     "data": {
      "image/png": "[encoded data removed]",
      "text/plain": [
       "<Figure size 1200x600 with 1 Axes>"
      ]
     },
     "metadata": {},
     "output_type": "display_data"
    }
   ],
   "source": [
    "# 가능/제한/불가 시각화\n",
    "df = df_group.copy()\n",
    "df['mid_day'] = df['mid_td'].dt.days\n",
    "\n",
    "# 일별 평균 비율\n",
    "daily = df.groupby('mid_day')[['mid_result_pos','mid_result_lim','mid_result_impos']] \\\n",
    "    .mean().sort_index()\n",
    "real_days = daily.index.values\n",
    "positions = np.arange(len(real_days))\n",
    "\n",
    "fig, ax = plt.subplots(figsize=(12, 6))\n",
    "\n",
    "ax.bar(positions, daily['mid_result_pos'],\n",
    "       label = '가능', color = 'steelblue')\n",
    "ax.bar(positions, daily['mid_result_lim'], \n",
    "       bottom = daily['mid_result_pos'], label='제한', color = 'orange')\n",
    "ax.bar(positions, daily['mid_result_impos'], \n",
    "       bottom = daily['mid_result_pos'] + daily['mid_result_lim'], \n",
    "       label = '불가', color = 'lightgray')\n",
    "\n",
    "ax.set_xlabel('경과 일수 M+d')\n",
    "ax.set_ylabel('비율 (%)')\n",
    "ax.set_title('(집단) 중간집결지 - 경과 일수별 도착가능 시뮬레이션')\n",
    "\n",
    "ax.set_ylim(0, 1)\n",
    "ax.set_xticks(positions)\n",
    "ax.set_xticklabels(real_days)  \n",
    "\n",
    "ax.legend(loc = 'upper left', bbox_to_anchor = (1.02, 1), title='도착 상태')\n",
    "ax.yaxis.set_major_formatter(PercentFormatter(xmax = 1.0, decimals = 0))\n",
    "\n",
    "plt.tight_layout()\n",
    "plt.show()"
   ]
  },
  {
   "cell_type": "code",
   "execution_count": null,
   "id": "82d1e009",
   "metadata": {},
   "outputs": [
    {
     "data": {
      "image/png": "[encoded data removed]",
      "text/plain": [
       "<Figure size 1200x200 with 2 Axes>"
      ]
     },
     "metadata": {},
     "output_type": "display_data"
    }
   ],
   "source": [
    "import matplotlib.pyplot as plt\n",
    "import numpy as np\n",
    "from matplotlib import cm\n",
    "from matplotlib.colors import Normalize\n",
    "\n",
    "score = 1.0 * daily['mid_result_pos'] + \\\n",
    "        0.1 * daily['mid_result_lim'] + \\\n",
    "        0.05 * daily['mid_result_impos']\n",
    "score_array = score.values[np.newaxis, :]\n",
    "\n",
    "norm = Normalize(vmin=0, vmax=1)\n",
    "cmap = plt.get_cmap('GnBu')\n",
    "\n",
    "\n",
    "fig, ax = plt.subplots(figsize=(12, 2))\n",
    "im = ax.imshow(\n",
    "    score_array,\n",
    "    aspect='auto',\n",
    "    cmap=cmap,\n",
    "    norm=norm,\n",
    "    extent=[daily.index.min()-1, daily.index.max(), 0, 1]\n",
    ")\n",
    "\n",
    "ax.set_xlabel('경과 일수 M+d')\n",
    "# ax.set_title('(집단) 중간집결지 - 경과 일수별 도착가능 시뮬레이션')\n",
    "\n",
    "ax.set_xticks(np.array(range(daily.index.min(),daily.index.max()+1)))\n",
    "ax.set_yticks([])\n",
    "\n",
    "cbar = fig.colorbar(im, ax=ax, orientation='horizontal', pad=0.5)\n",
    "cbar.set_label('가능여부 (0:불가능 ~ 1:가능)')\n",
    "\n",
    "fig.subplots_adjust(bottom=0.25)  # 그림 아래쪽 여유 공간 확보\n",
    "\n",
    "plt.tight_layout()\n",
    "plt.show()\n"
   ]
  }
 ],
 "metadata": {
  "kernelspec": {
   "display_name": "navermap",
   "language": "python",
   "name": "python3"
  },
  "language_info": {
   "codemirror_mode": {
    "name": "ipython",
    "version": 3
   },
   "file_extension": ".py",
   "mimetype": "text/x-python",
   "name": "python",
   "nbconvert_exporter": "python",
   "pygments_lexer": "ipython3",
   "version": "3.13.5"
  }
 },
 "nbformat": 4,
 "nbformat_minor": 5
}
