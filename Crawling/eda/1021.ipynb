{
 "cells": [
  {
   "cell_type": "code",
   "execution_count": 1,
   "id": "c06e547d",
   "metadata": {},
   "outputs": [],
   "source": [
    "import numpy as np\n",
    "import pandas as pd\n",
    "import matplotlib.pyplot as plt"
   ]
  },
  {
   "cell_type": "code",
   "execution_count": 2,
   "id": "4d61ef2d",
   "metadata": {},
   "outputs": [],
   "source": [
    "# 폰트 설정\n",
    "import matplotlib as mpl\n",
    "import matplotlib.font_manager as fm\n",
    "\n",
    "font_path = r\"C:\\Windows\\Fonts\\malgun.ttf\"  \n",
    "font_prop = fm.FontProperties(fname=font_path)\n",
    "mpl.rcParams['font.family'] = font_prop.get_name()\n",
    "mpl.rcParams['axes.unicode_minus'] = False"
   ]
  },
  {
   "cell_type": "code",
   "execution_count": 3,
   "id": "9f702c4b",
   "metadata": {},
   "outputs": [
    {
     "data": {
      "text/html": [
       "<div>\n",
       "<style scoped>\n",
       "    .dataframe tbody tr th:only-of-type {\n",
       "        vertical-align: middle;\n",
       "    }\n",
       "\n",
       "    .dataframe tbody tr th {\n",
       "        vertical-align: top;\n",
       "    }\n",
       "\n",
       "    .dataframe thead th {\n",
       "        text-align: right;\n",
       "    }\n",
       "</style>\n",
       "<table border=\"1\" class=\"dataframe\">\n",
       "  <thead>\n",
       "    <tr style=\"text-align: right;\">\n",
       "      <th></th>\n",
       "      <th>중간집결지 주소</th>\n",
       "      <th>count</th>\n",
       "    </tr>\n",
       "  </thead>\n",
       "  <tbody>\n",
       "    <tr>\n",
       "      <th>0</th>\n",
       "      <td>서울특별시 강동구 양재대로156길 11</td>\n",
       "      <td>12481</td>\n",
       "    </tr>\n",
       "    <tr>\n",
       "      <th>1</th>\n",
       "      <td>인천광역시 남동구 무네미로 238</td>\n",
       "      <td>11498</td>\n",
       "    </tr>\n",
       "    <tr>\n",
       "      <th>2</th>\n",
       "      <td>대구광역시 북구 고성로 191</td>\n",
       "      <td>9357</td>\n",
       "    </tr>\n",
       "    <tr>\n",
       "      <th>3</th>\n",
       "      <td>경기도 부천시 소사로 482</td>\n",
       "      <td>9020</td>\n",
       "    </tr>\n",
       "    <tr>\n",
       "      <th>4</th>\n",
       "      <td>서울특별시 송파구 올림픽로 424</td>\n",
       "      <td>8067</td>\n",
       "    </tr>\n",
       "    <tr>\n",
       "      <th>...</th>\n",
       "      <td>...</td>\n",
       "      <td>...</td>\n",
       "    </tr>\n",
       "    <tr>\n",
       "      <th>146</th>\n",
       "      <td>충청북도 청주시 청원구  대성로 298</td>\n",
       "      <td>82</td>\n",
       "    </tr>\n",
       "    <tr>\n",
       "      <th>147</th>\n",
       "      <td>서울특별시 동작구 솔밭로 51</td>\n",
       "      <td>78</td>\n",
       "    </tr>\n",
       "    <tr>\n",
       "      <th>148</th>\n",
       "      <td>강원특별자치도 춘천시 강원대학길 1</td>\n",
       "      <td>69</td>\n",
       "    </tr>\n",
       "    <tr>\n",
       "      <th>149</th>\n",
       "      <td>대전광역시 유성구 대덕대로 481</td>\n",
       "      <td>61</td>\n",
       "    </tr>\n",
       "    <tr>\n",
       "      <th>150</th>\n",
       "      <td>강원특별자치도 원주시 북원로 2777</td>\n",
       "      <td>1</td>\n",
       "    </tr>\n",
       "  </tbody>\n",
       "</table>\n",
       "<p>151 rows × 2 columns</p>\n",
       "</div>"
      ],
      "text/plain": [
       "                  중간집결지 주소  count\n",
       "0    서울특별시 강동구 양재대로156길 11  12481\n",
       "1       인천광역시 남동구 무네미로 238  11498\n",
       "2         대구광역시 북구 고성로 191   9357\n",
       "3          경기도 부천시 소사로 482   9020\n",
       "4       서울특별시 송파구 올림픽로 424   8067\n",
       "..                     ...    ...\n",
       "146  충청북도 청주시 청원구  대성로 298     82\n",
       "147       서울특별시 동작구 솔밭로 51     78\n",
       "148    강원특별자치도 춘천시 강원대학길 1     69\n",
       "149     대전광역시 유성구 대덕대로 481     61\n",
       "150   강원특별자치도 원주시 북원로 2777      1\n",
       "\n",
       "[151 rows x 2 columns]"
      ]
     },
     "execution_count": 3,
     "metadata": {},
     "output_type": "execute_result"
    }
   ],
   "source": [
    "df = pd.read_csv('중간집결지개수및인원.csv', encoding = 'cp949')\n",
    "df"
   ]
  },
  {
   "cell_type": "code",
   "execution_count": 4,
   "id": "f14879ea",
   "metadata": {},
   "outputs": [],
   "source": [
    "sum1000 = np.sum(df.loc[df['count'] <= 1000, 'count'].value_counts())\n",
    "sum3000 = np.sum(df.loc[(df['count'] > 1000) & (df['count'] <= 3000), 'count'].value_counts())\n",
    "sum5000 = np.sum(df.loc[(df['count'] > 3000) & (df['count'] <= 5000), 'count'].value_counts())\n",
    "sum10000 = np.sum(df.loc[(df['count'] > 5000) & (df['count'] <= 10000), 'count'].value_counts())\n",
    "sum20000 = np.sum(df.loc[(df['count'] > 10000), 'count'].value_counts())\n"
   ]
  },
  {
   "cell_type": "code",
   "execution_count": 5,
   "id": "47ee0030",
   "metadata": {},
   "outputs": [
    {
     "data": {
      "text/plain": [
       "[np.int64(70), np.int64(55), np.int64(15), np.int64(9), np.int64(2)]"
      ]
     },
     "execution_count": 5,
     "metadata": {},
     "output_type": "execute_result"
    }
   ],
   "source": [
    "x = ['<=1,000', '<=3,000', '<=5,000', '<=10,000', '>10,000']\n",
    "y = [sum1000,sum3000,sum5000,sum10000, sum20000]\n",
    "y"
   ]
  },
  {
   "cell_type": "code",
   "execution_count": 6,
   "id": "bd4fd97c",
   "metadata": {},
   "outputs": [
    {
     "data": {
      "image/png": "[encoded data removed]",
      "text/plain": [
       "<Figure size 800x600 with 1 Axes>"
      ]
     },
     "metadata": {},
     "output_type": "display_data"
    }
   ],
   "source": [
    "plt.figure(figsize = (8,6))\n",
    "\n",
    "barplot = plt.bar(x, y, align= 'center')\n",
    "for bar in barplot:\n",
    "    value = bar.get_height()\n",
    "    plt.text(\n",
    "        bar.get_x() + bar.get_width() / 2,  # x 위치 (막대 중앙)\n",
    "        value/2,                            # y 위치 (막대 높이)\n",
    "        f'{value:,}',                       # 표시할 텍스트\n",
    "        ha='center', fontsize=15, fontweight = 'bold'\n",
    "    )\n",
    "plt.title('이동 인원별 중간집결지 개수')\n",
    "plt.xlabel('이동 인원(명)')\n",
    "plt.show()"
   ]
  },
  {
   "cell_type": "code",
   "execution_count": 7,
   "id": "ee035cfb",
   "metadata": {},
   "outputs": [],
   "source": [
    "sum100 = np.sum(df.loc[df['count'] <= 100, 'count'].value_counts())\n",
    "sum300 = np.sum(df.loc[(df['count'] > 100) & (df['count'] <= 300), 'count'].value_counts())\n",
    "sum500 = np.sum(df.loc[(df['count'] > 300) & (df['count'] <= 500), 'count'].value_counts())\n",
    "sum700 = np.sum(df.loc[(df['count'] > 500) & (df['count'] <= 700), 'count'].value_counts())\n",
    "sum1000 = np.sum(df.loc[(df['count'] > 700) & (df['count'] <= 1000), 'count'].value_counts())"
   ]
  },
  {
   "cell_type": "code",
   "execution_count": 11,
   "id": "865dd454",
   "metadata": {},
   "outputs": [
    {
     "data": {
      "text/plain": [
       "[np.int64(5), np.int64(12), np.int64(17), np.int64(16), np.int64(20)]"
      ]
     },
     "execution_count": 11,
     "metadata": {},
     "output_type": "execute_result"
    }
   ],
   "source": [
    "x = ['<=100', '<=300', '<=500', '<=700', '<=1000']\n",
    "y = [sum100,sum300,sum500,sum700, sum1000]\n",
    "y"
   ]
  },
  {
   "cell_type": "code",
   "execution_count": 12,
   "id": "f07cafd1",
   "metadata": {},
   "outputs": [
    {
     "data": {
      "image/png": "[encoded data removed]",
      "text/plain": [
       "<Figure size 800x600 with 1 Axes>"
      ]
     },
     "metadata": {},
     "output_type": "display_data"
    }
   ],
   "source": [
    "plt.figure(figsize = (8,6))\n",
    "\n",
    "barplot = plt.bar(x, y, align= 'center')\n",
    "for bar in barplot:\n",
    "    value = bar.get_height()\n",
    "    plt.text(\n",
    "        bar.get_x() + bar.get_width() / 2,  # x 위치 (막대 중앙)\n",
    "        value/2,                            # y 위치 (막대 높이)\n",
    "        f'{value:,}',                       # 표시할 텍스트\n",
    "        ha='center', fontsize=15, fontweight = 'bold'\n",
    "    )\n",
    "plt.title('이동 인원별 중간집결지 개수')\n",
    "plt.xlabel('이동 인원(명)')\n",
    "plt.show()"
   ]
  },
  {
   "cell_type": "code",
   "execution_count": 21,
   "id": "79e2442d",
   "metadata": {},
   "outputs": [
    {
     "data": {
      "text/html": [
       "<div>\n",
       "<style scoped>\n",
       "    .dataframe tbody tr th:only-of-type {\n",
       "        vertical-align: middle;\n",
       "    }\n",
       "\n",
       "    .dataframe tbody tr th {\n",
       "        vertical-align: top;\n",
       "    }\n",
       "\n",
       "    .dataframe thead th {\n",
       "        text-align: right;\n",
       "    }\n",
       "</style>\n",
       "<table border=\"1\" class=\"dataframe\">\n",
       "  <thead>\n",
       "    <tr style=\"text-align: right;\">\n",
       "      <th></th>\n",
       "      <th>중간집결지 주소</th>\n",
       "      <th>count</th>\n",
       "    </tr>\n",
       "  </thead>\n",
       "  <tbody>\n",
       "    <tr>\n",
       "      <th>146</th>\n",
       "      <td>충청북도 청주시 청원구  대성로 298</td>\n",
       "      <td>82</td>\n",
       "    </tr>\n",
       "    <tr>\n",
       "      <th>147</th>\n",
       "      <td>서울특별시 동작구 솔밭로 51</td>\n",
       "      <td>78</td>\n",
       "    </tr>\n",
       "    <tr>\n",
       "      <th>148</th>\n",
       "      <td>강원특별자치도 춘천시 강원대학길 1</td>\n",
       "      <td>69</td>\n",
       "    </tr>\n",
       "    <tr>\n",
       "      <th>149</th>\n",
       "      <td>대전광역시 유성구 대덕대로 481</td>\n",
       "      <td>61</td>\n",
       "    </tr>\n",
       "    <tr>\n",
       "      <th>150</th>\n",
       "      <td>강원특별자치도 원주시 북원로 2777</td>\n",
       "      <td>1</td>\n",
       "    </tr>\n",
       "  </tbody>\n",
       "</table>\n",
       "</div>"
      ],
      "text/plain": [
       "                  중간집결지 주소  count\n",
       "146  충청북도 청주시 청원구  대성로 298     82\n",
       "147       서울특별시 동작구 솔밭로 51     78\n",
       "148    강원특별자치도 춘천시 강원대학길 1     69\n",
       "149     대전광역시 유성구 대덕대로 481     61\n",
       "150   강원특별자치도 원주시 북원로 2777      1"
      ]
     },
     "execution_count": 21,
     "metadata": {},
     "output_type": "execute_result"
    }
   ],
   "source": [
    "df.loc[df['count'] <= 100, :]"
   ]
  },
  {
   "cell_type": "code",
   "execution_count": null,
   "id": "a3ef3e47",
   "metadata": {},
   "outputs": [],
   "source": []
  }
 ],
 "metadata": {
  "kernelspec": {
   "display_name": "navermap",
   "language": "python",
   "name": "python3"
  },
  "language_info": {
   "codemirror_mode": {
    "name": "ipython",
    "version": 3
   },
   "file_extension": ".py",
   "mimetype": "text/x-python",
   "name": "python",
   "nbconvert_exporter": "python",
   "pygments_lexer": "ipython3",
   "version": "3.13.5"
  }
 },
 "nbformat": 4,
 "nbformat_minor": 5
}
