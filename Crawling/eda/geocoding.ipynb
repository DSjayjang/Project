{
 "cells": [
  {
   "cell_type": "code",
   "execution_count": 1,
   "id": "93e6b526",
   "metadata": {},
   "outputs": [],
   "source": [
    "import time\n",
    "import numpy as np\n",
    "import pandas as pd\n",
    "\n",
    "import requests"
   ]
  },
  {
   "cell_type": "code",
   "execution_count": 4,
   "id": "eb1c4fd1",
   "metadata": {},
   "outputs": [
    {
     "name": "stdout",
     "output_type": "stream",
     "text": [
      "   순번                   출발지 주소              중간집결지 주소            최종 도착지 주소  \\\n",
      "0   1  경기도 고양시 덕양구 중앙로633번길 12   경기도 고양시 덕양구 혜음로 142  경기도 고양시 덕양구 혜음로 142   \n",
      "1   2   대구광역시 서구 북비산로61길 20-24      경상북도 경주시 태종로 516  경기도 고양시 덕양구 동헌로 305   \n",
      "2   3   서울특별시 양천구 목동중앙본로11길 19  서울특별시 서초구 사평대로45길 26  강원특별자치도 동해시 대동로 430   \n",
      "3   4        서울특별시 강남구 학동로 432       경기도 과천시 중앙로 294      경기도 과천시 중앙로 294   \n",
      "4   5         대구광역시 남구 명덕로 236      대구광역시 수성구 무열로 56     대구광역시 수성구 무열로 56   \n",
      "\n",
      "    중간집결 기한    최종도착 기한 이동방법  \n",
      "0  0+1일 14시   0+1일 14시   개별  \n",
      "1  0+28일 9시  0+28일 14시   집단  \n",
      "2   0+3일 8시   0+3일 14시   집단  \n",
      "3  0+1일 14시   0+1일 14시   개별  \n",
      "4  0+3일 14시   0+3일 14시   개별  \n"
     ]
    }
   ],
   "source": [
    "df = pd.read_excel(r'..\\datasets\\250716.xlsx')\n",
    "print(df.head())\n",
    "\n",
    "# df = pd.read_csv(r'..\\datasets\\df_na.csv', encoding = 'cp949')\n",
    "# print(df.head())"
   ]
  },
  {
   "cell_type": "code",
   "execution_count": 5,
   "id": "1119e529",
   "metadata": {},
   "outputs": [],
   "source": [
    "num = np.array(df['순번'])\n",
    "\n",
    "start = np.array(df['출발지 주소'])\n",
    "mid = np.array(df['중간집결지 주소'])\n",
    "end = np.array(df['최종 도착지 주소'])\n",
    "\n",
    "# start = np.array(df['출발주소_수정'])\n",
    "# mid = np.array(df['중간주소_수정'])\n",
    "# end = np.array(df['최종주소_수정'])"
   ]
  },
  {
   "cell_type": "code",
   "execution_count": null,
   "id": "c9fa4c28",
   "metadata": {},
   "outputs": [],
   "source": [
    "# def geocoding(address: list):\n",
    "#     url = \"https://maps.apigw.ntruss.com/map-geocode/v2/geocode\"\n",
    "    \n",
    "#     headers = {\n",
    "#         \"x-ncp-apigw-api-key-id\": \"oa77i9oz1h\",\n",
    "#         \"x-ncp-apigw-api-key\": \"xvC9h8wAZLXjsokASCSKjLfNJ5uR63sKBGz705KA\",\n",
    "#         \"Accept\": \"application/json\"\n",
    "#     }\n",
    "\n",
    "#     params = {\"query\": address}\n",
    "#     resp = requests.get(url, headers = headers, params = params)\n",
    "#     resp.raise_for_status()\n",
    "#     data = resp.json()\n",
    "\n",
    "#     if data.get('addresses'):\n",
    "#         lat = float(data['addresses'][0]['y']) # 위도\n",
    "#         lng = float(data['addresses'][0]['x']) # 경도  \n",
    "#         return lat, lng\n",
    "    \n",
    "#     else:\n",
    "#         lat = None\n",
    "#         lng = None\n",
    "#         return lat, lng"
   ]
  },
  {
   "cell_type": "code",
   "execution_count": null,
   "id": "79351868",
   "metadata": {},
   "outputs": [],
   "source": [
    "def geocoding(address: list):\n",
    "    url = \"https://maps.apigw.ntruss.com/map-geocode/v2/geocode\"\n",
    "    \n",
    "    headers = {\n",
    "        \"x-ncp-apigw-api-key-id\": \"oa77i9oz1h\",\n",
    "        \"x-ncp-apigw-api-key\": \"xvC9h8wAZLXjsokASCSKjLfNJ5uR63sKBGz705KA\",\n",
    "        \"Accept\": \"application/json\"\n",
    "    }\n",
    "\n",
    "    params = {\"query\": address}\n",
    "    resp = requests.get(url, headers = headers, params = params)\n",
    "    resp.raise_for_status()\n",
    "    data = resp.json()\n",
    "\n",
    "    try:\n",
    "        # if data.get('addresses'):\n",
    "        lat = float(data['addresses'][0]['y']) # 위도\n",
    "        lng = float(data['addresses'][0]['x']) # 경도\n",
    "        return lat, lng\n",
    "    \n",
    "    except Exception as e:\n",
    "        print(f'{address} 변환 실패: {e}')\n",
    "\n",
    "        lat = None\n",
    "        lng = None\n",
    "        return lat, lng\n"
   ]
  },
  {
   "cell_type": "code",
   "execution_count": null,
   "id": "7cc234f0",
   "metadata": {},
   "outputs": [
    {
     "name": "stdout",
     "output_type": "stream",
     "text": [
      "Processing records 0 to 10...\n",
      "걸린시간(분): 0.05\n",
      "0 to 10 저장 완료\n"
     ]
    }
   ],
   "source": [
    "# geocoding\n",
    "if __name__ == \"__main__\":\n",
    "    chunk = 1000\n",
    "    start_index = 0\n",
    "    last_index = 10\n",
    " \n",
    "    for i in range(start_index, last_index, chunk):\n",
    "        slc = slice(i, min(i + chunk, last_index))\n",
    "        print(f'Processing records {slc.start} to {slc.stop}...')\n",
    "\n",
    "        t0 = time.time()\n",
    "        start_lat, start_lng = zip(*(geocoding(addr) for addr in start[slc]))\n",
    "        mid_lat, mid_lng = zip(*(geocoding(addr) for addr in mid[slc]))\n",
    "        end_lat, end_lng = zip(*(geocoding(addr) for addr in end[slc]))\n",
    "        t1 = time.time()\n",
    "\n",
    "        print(f'걸린시간(분): {(t1-t0)/60:.2f}')\n",
    "\n",
    "        df_chunk = pd.DataFrame({'num': num[slc],\n",
    "                       'start_lat': start_lat,\n",
    "                       'start_lng': start_lng,\n",
    "                       'mid_lat': mid_lat,\n",
    "                       'mid_lng': mid_lng,\n",
    "                       'end_lat': end_lat,\n",
    "                       'end_lng': end_lng})\n",
    "        \n",
    "        mode = 'w' if i == start_index else 'a'\n",
    "        header = True if i == start_index else False\n",
    "\n",
    "        df_chunk.to_csv(r'..\\results\\geocoded.csv', mode = mode, header = header, index = False)\n",
    "        print(f'{slc.start} to {slc.stop} 저장 완료')"
   ]
  }
 ],
 "metadata": {
  "kernelspec": {
   "display_name": "navermap",
   "language": "python",
   "name": "python3"
  },
  "language_info": {
   "codemirror_mode": {
    "name": "ipython",
    "version": 3
   },
   "file_extension": ".py",
   "mimetype": "text/x-python",
   "name": "python",
   "nbconvert_exporter": "python",
   "pygments_lexer": "ipython3",
   "version": "3.13.5"
  }
 },
 "nbformat": 4,
 "nbformat_minor": 5
}
