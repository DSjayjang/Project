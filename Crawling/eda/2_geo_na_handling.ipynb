{
 "cells": [
  {
   "cell_type": "code",
   "execution_count": 136,
   "id": "d441c11f",
   "metadata": {},
   "outputs": [],
   "source": [
    "import numpy as np\n",
    "import pandas as pd\n",
    "import matplotlib.pyplot as plt\n",
    "import matplotlib.cm as cm\n",
    "from matplotlib.ticker import PercentFormatter\n",
    "from matplotlib.colors import Normalize"
   ]
  },
  {
   "cell_type": "code",
   "execution_count": 137,
   "id": "265a070a",
   "metadata": {},
   "outputs": [],
   "source": [
    "# 폰트 설정\n",
    "import matplotlib as mpl\n",
    "import matplotlib.font_manager as fm\n",
    "\n",
    "font_path = r\"C:\\Windows\\Fonts\\malgun.ttf\"  \n",
    "font_prop = fm.FontProperties(fname=font_path)\n",
    "mpl.rcParams['font.family'] = font_prop.get_name()\n",
    "mpl.rcParams['axes.unicode_minus'] = False"
   ]
  },
  {
   "cell_type": "code",
   "execution_count": 138,
   "id": "2c13a816",
   "metadata": {},
   "outputs": [
    {
     "name": "stdout",
     "output_type": "stream",
     "text": [
      "   순번                   출발지 주소              중간집결지 주소            최종 도착지 주소  \\\n",
      "0   1  경기도 고양시 덕양구 중앙로633번길 12   경기도 고양시 덕양구 혜음로 142  경기도 고양시 덕양구 혜음로 142   \n",
      "1   2   대구광역시 서구 북비산로61길 20-24      경상북도 경주시 태종로 516  경기도 고양시 덕양구 동헌로 305   \n",
      "2   3   서울특별시 양천구 목동중앙본로11길 19  서울특별시 서초구 사평대로45길 26  강원특별자치도 동해시 대동로 430   \n",
      "3   4        서울특별시 강남구 학동로 432       경기도 과천시 중앙로 294      경기도 과천시 중앙로 294   \n",
      "4   5         대구광역시 남구 명덕로 236      대구광역시 수성구 무열로 56     대구광역시 수성구 무열로 56   \n",
      "\n",
      "    중간집결 기한    최종도착 기한 이동방법  \n",
      "0  0+1일 14시   0+1일 14시   개별  \n",
      "1  0+28일 9시  0+28일 14시   집단  \n",
      "2   0+3일 8시   0+3일 14시   집단  \n",
      "3  0+1일 14시   0+1일 14시   개별  \n",
      "4  0+3일 14시   0+3일 14시   개별  \n",
      "   num  start_lat   start_lng    mid_lat     mid_lng    end_lat     end_lng\n",
      "0    1  37.626949  126.827581  37.713020  126.902443  37.713020  126.902443\n",
      "1    2  35.881731  128.567540  35.839566  129.185196  37.713651  126.889915\n",
      "2    3  37.540484  126.867756  37.506451  127.012692  37.503393  129.130509\n",
      "3    4  37.517981  127.048764  37.441493  126.996973  37.441493  126.996973\n",
      "4    5  35.854689  128.595157  35.863198  128.651230  35.863198  128.651230\n"
     ]
    }
   ],
   "source": [
    "# data load\n",
    "df = pd.read_excel(r'..\\datasets\\250716.xlsx')\n",
    "df_geo = pd.read_csv(r'..\\datasets\\df_geo.csv') # 위경도 좌표\n",
    "\n",
    "print(df.head())\n",
    "print(df_geo.head())"
   ]
  },
  {
   "cell_type": "code",
   "execution_count": 139,
   "id": "966a74f1",
   "metadata": {},
   "outputs": [
    {
     "name": "stdout",
     "output_type": "stream",
     "text": [
      "   순번                   출발지 주소              중간집결지 주소            최종 도착지 주소  \\\n",
      "0   1  경기도 고양시 덕양구 중앙로633번길 12   경기도 고양시 덕양구 혜음로 142  경기도 고양시 덕양구 혜음로 142   \n",
      "1   2   대구광역시 서구 북비산로61길 20-24      경상북도 경주시 태종로 516  경기도 고양시 덕양구 동헌로 305   \n",
      "2   3   서울특별시 양천구 목동중앙본로11길 19  서울특별시 서초구 사평대로45길 26  강원특별자치도 동해시 대동로 430   \n",
      "\n",
      "    중간집결 기한    최종도착 기한 이동방법  start_lat   start_lng    mid_lat     mid_lng  \\\n",
      "0  0+1일 14시   0+1일 14시   개별  37.626949  126.827581  37.713020  126.902443   \n",
      "1  0+28일 9시  0+28일 14시   집단  35.881731  128.567540  35.839566  129.185196   \n",
      "2   0+3일 8시   0+3일 14시   집단  37.540484  126.867756  37.506451  127.012692   \n",
      "\n",
      "     end_lat     end_lng  \n",
      "0  37.713020  126.902443  \n",
      "1  37.713651  126.889915  \n",
      "2  37.503393  129.130509  \n",
      "            순번                    출발지 주소               중간집결지 주소  \\\n",
      "815772  815773      광주광역시 광산구 장신로19번길 10       광주광역시 북구 우치로 339   \n",
      "815773  815774        서울특별시 동작구 사당로8길 55  서울특별시 강동구 양재대로156길 11   \n",
      "815774  815775  경기도 성남시 중원구 자혜로17번길 42-3     강원특별자치도 원주시 연세대길 1   \n",
      "\n",
      "                      최종 도착지 주소   중간집결 기한   최종도착 기한 이동방법  start_lat  \\\n",
      "815772         광주광역시 북구 우치로 339  0+1일 14시  0+1일 14시   개별  35.191980   \n",
      "815773  강원특별자치도 인제군 인제로277번길 20  0+7일 10시  0+7일 14시   집단  37.483031   \n",
      "815774       강원특별자치도 원주시 연세대길 1  0+2일 14시  0+2일 14시   개별  37.453652   \n",
      "\n",
      "         start_lng    mid_lat     mid_lng    end_lat    end_lng  \n",
      "815772  126.812837  35.194959  126.903760  35.194959  126.90376  \n",
      "815773  126.967851  37.556933  127.146625  38.075658  128.17835  \n",
      "815774  127.163587  37.280875  127.901000  37.280875  127.90100  \n"
     ]
    }
   ],
   "source": [
    "# Merge\n",
    "df_merge = pd.merge(df, df_geo, left_on = '순번', right_on = 'num', how = 'left').drop(columns = ['num'])\n",
    "\n",
    "print(df_merge.head(3))\n",
    "print(df_merge.tail(3))"
   ]
  },
  {
   "cell_type": "code",
   "execution_count": null,
   "id": "9d152457",
   "metadata": {},
   "outputs": [
    {
     "name": "stdout",
     "output_type": "stream",
     "text": [
      "(815775, 13)\n",
      "이동방법\n",
      "개별    412505\n",
      "집단    403270\n",
      "Name: count, dtype: int64\n",
      "num_na: 16233\n",
      "           순번                  출발지 주소                  중간집결지 주소  \\\n",
      "0          73   서울특별시 마포구 대흥로24라길 6-8  서울특별시 동대문구 답십리로11길 30-22   \n",
      "1          82      경기도 안성시 대덕면 내리5길 1      경기도 수원시 영통구 월드컵로 206   \n",
      "2         128   충청남도 천안시 동남구 수도산공원길 1  충청남도 천안시 동남구 천안대로 429-13   \n",
      "3         278     충청남도 천안시 동남구 일봉로 17  충청남도 천안시 동남구 천안대로 429-13   \n",
      "4         283   충청남도 천안시 서북구 부성18로 29  충청남도 천안시 동남구 천안대로 429-13   \n",
      "...       ...                     ...                       ...   \n",
      "16228  815580  충청남도 천안시 서북구 두정역동2길 33  충청남도 천안시 동남구 천안대로 429-13   \n",
      "16229  815585      경기도 화성시 동탄대로시범길 19  서울특별시 동대문구 답십리로11길 30-22   \n",
      "16230  815602    충청남도 천안시 서북구 불당25로 8  충청남도 천안시 동남구 천안대로 429-13   \n",
      "16231  815660        서울특별시 강서구 우현로 67  서울특별시 동대문구 답십리로11길 30-22   \n",
      "16232  815772         충청남도 아산시 실옥로 15  충청남도 천안시 동남구 천안대로 429-13   \n",
      "\n",
      "                  최종 도착지 주소    중간집결 기한    최종도착 기한 이동방법  start_lat   start_lng  \\\n",
      "0      강원특별자치도 원주시 북원로 3223   0+1일 11시   0+1일 14시   집단  37.554816  126.948123   \n",
      "1      경기도 수원시 영통구 월드컵로 206  0+14일 14시  0+14일 14시   개별  37.000611  127.223656   \n",
      "2          세종특별자치시  당산로 333   0+6일 12시   0+6일 14시   집단  36.793048  127.151206   \n",
      "3          세종특별자치시  당산로 333   0+6일 12시   0+6일 14시   집단  36.793980  127.129853   \n",
      "4          세종특별자치시  당산로 333   0+6일 12시   0+6일 14시   집단  36.846130  127.150747   \n",
      "...                     ...        ...        ...  ...        ...         ...   \n",
      "16228     세종특별자치시  세종로 2511   0+7일 12시   0+7일 14시   집단  36.838353  127.150333   \n",
      "16229  강원특별자치도 원주시 북원로 3223   0+1일 11시   0+1일 14시   집단  37.198695  127.100330   \n",
      "16230      세종특별자치시  당산로 333   0+1일 12시   0+1일 14시   집단  36.804032  127.104950   \n",
      "16231  강원특별자치도 원주시 북원로 3223   0+5일 11시   0+5일 14시   집단  37.547316  126.839268   \n",
      "16232      세종특별자치시  당산로 333   0+1일 12시   0+1일 14시   집단  36.784616  126.993744   \n",
      "\n",
      "       mid_lat  mid_lng    end_lat     end_lng  \n",
      "0          NaN      NaN  37.429018  127.967102  \n",
      "1          NaN      NaN  37.283381  127.046072  \n",
      "2          NaN      NaN  36.564962  127.277604  \n",
      "3          NaN      NaN  36.564962  127.277604  \n",
      "4          NaN      NaN  36.564962  127.277604  \n",
      "...        ...      ...        ...         ...  \n",
      "16228      NaN      NaN  36.610182  127.285706  \n",
      "16229      NaN      NaN  37.429018  127.967102  \n",
      "16230      NaN      NaN  36.564962  127.277604  \n",
      "16231      NaN      NaN  37.429018  127.967102  \n",
      "16232      NaN      NaN  36.564962  127.277604  \n",
      "\n",
      "[16233 rows x 13 columns]\n"
     ]
    }
   ],
   "source": [
    "# statistics\n",
    "print(df_merge.shape)\n",
    "print(df_merge['이동방법'].value_counts())\n",
    "\n",
    "# 위경도 NA 확인\n",
    "num_na = df_merge.isna().any(axis = 1).sum()\n",
    "mask = df_merge.isna().any(axis = 1)\n",
    "print('num_na:', num_na)\n",
    "\n",
    "df_na = df_merge[mask].copy().reset_index(drop = True)\n",
    "print(df_na)\n",
    "# 변환안된 것: 16,233행\n",
    "# 사용가능 총: 799,542행\n",
    "\n",
    "# df_na.to_csv('df_na.csv', index = False, encoding = 'cp949')"
   ]
  },
  {
   "cell_type": "code",
   "execution_count": 141,
   "id": "e523373c",
   "metadata": {},
   "outputs": [],
   "source": [
    "# 주소 제거\n",
    "import re\n",
    "\n",
    "def cut_addr(string):\n",
    "    # 맨 끝에 ' 공백 + 숫자+ (옵션: -숫자+)' 제거\n",
    "\n",
    "    return re.sub(r'\\s+\\d+(?:-\\d+)?$', '', string)"
   ]
  },
  {
   "cell_type": "code",
   "execution_count": 142,
   "id": "ac75ce7a",
   "metadata": {},
   "outputs": [],
   "source": [
    "# 주소 수정\n",
    "mask1 = df_na['start_lat'].isna() | df_na['start_lng'].isna()\n",
    "mask2 = df_na['mid_lat'].isna() | df_na['mid_lng'].isna()\n",
    "mask3 = df_na['end_lat'].isna() | df_na['end_lng'].isna()\n",
    "\n",
    "df_na.loc[mask1, '출발주소_수정'] = df_na.loc[mask1, '출발지 주소'].apply(cut_addr)\n",
    "df_na.loc[mask2, '중간주소_수정'] = df_na.loc[mask2, '중간집결지 주소'].apply(cut_addr)\n",
    "df_na.loc[mask3, '최종주소_수정'] = df_na.loc[mask3, '최종 도착지 주소'].apply(cut_addr)"
   ]
  },
  {
   "cell_type": "code",
   "execution_count": null,
   "id": "ec84d4cc",
   "metadata": {},
   "outputs": [],
   "source": [
    "# NA값 채우기\n",
    "df_na['출발주소_수정'] = df_na['출발주소_수정'].fillna(df_na['출발지 주소'])\n",
    "df_na['중간주소_수정'] = df_na['중간주소_수정'].fillna(df_na['중간집결지 주소'])\n",
    "df_na['최종주소_수정'] = df_na['최종주소_수정'].fillna(df_na['최종 도착지 주소'])\n",
    "df_na\n",
    "\n",
    "# df_na.to_csv('df_na2.csv', index = False, encoding = 'cp949')"
   ]
  }
 ],
 "metadata": {
  "kernelspec": {
   "display_name": "navermap",
   "language": "python",
   "name": "python3"
  },
  "language_info": {
   "codemirror_mode": {
    "name": "ipython",
    "version": 3
   },
   "file_extension": ".py",
   "mimetype": "text/x-python",
   "name": "python",
   "nbconvert_exporter": "python",
   "pygments_lexer": "ipython3",
   "version": "3.13.5"
  }
 },
 "nbformat": 4,
 "nbformat_minor": 5
}
