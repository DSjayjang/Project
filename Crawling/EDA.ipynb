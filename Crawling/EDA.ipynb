{
 "cells": [
  {
   "cell_type": "code",
   "execution_count": 2,
   "id": "d441c11f",
   "metadata": {},
   "outputs": [],
   "source": [
    "import numpy as np\n",
    "import pandas as pd\n",
    "import matplotlib.pyplot as plt"
   ]
  },
  {
   "cell_type": "code",
   "execution_count": 3,
   "id": "265a070a",
   "metadata": {},
   "outputs": [],
   "source": [
    "# 폰트 설정\n",
    "import matplotlib as mpl\n",
    "import matplotlib.font_manager as fm\n",
    "\n",
    "font_path = r\"C:\\Windows\\Fonts\\malgun.ttf\"  \n",
    "font_prop = fm.FontProperties(fname=font_path)\n",
    "mpl.rcParams['font.family'] = font_prop.get_name()\n",
    "mpl.rcParams['axes.unicode_minus'] = False"
   ]
  },
  {
   "cell_type": "code",
   "execution_count": 4,
   "id": "2c13a816",
   "metadata": {},
   "outputs": [
    {
     "name": "stdout",
     "output_type": "stream",
     "text": [
      "   순번                   출발지 주소              중간집결지 주소            최종 도착지 주소  \\\n",
      "0   1  경기도 고양시 덕양구 중앙로633번길 12   경기도 고양시 덕양구 혜음로 142  경기도 고양시 덕양구 혜음로 142   \n",
      "1   2   대구광역시 서구 북비산로61길 20-24      경상북도 경주시 태종로 516  경기도 고양시 덕양구 동헌로 305   \n",
      "2   3   서울특별시 양천구 목동중앙본로11길 19  서울특별시 서초구 사평대로45길 26  강원특별자치도 동해시 대동로 430   \n",
      "3   4        서울특별시 강남구 학동로 432       경기도 과천시 중앙로 294      경기도 과천시 중앙로 294   \n",
      "4   5         대구광역시 남구 명덕로 236      대구광역시 수성구 무열로 56     대구광역시 수성구 무열로 56   \n",
      "\n",
      "    중간집결 기한    최종도착 기한 이동방법  \n",
      "0  0+1일 14시   0+1일 14시   개별  \n",
      "1  0+28일 9시  0+28일 14시   집단  \n",
      "2   0+3일 8시   0+3일 14시   집단  \n",
      "3  0+1일 14시   0+1일 14시   개별  \n",
      "4  0+3일 14시   0+3일 14시   개별  \n"
     ]
    }
   ],
   "source": [
    "# data load\n",
    "df = pd.read_excel(r'.\\datasets\\250716.xlsx')\n",
    "print(df.head())"
   ]
  },
  {
   "cell_type": "code",
   "execution_count": 5,
   "id": "afa91985",
   "metadata": {},
   "outputs": [
    {
     "name": "stdout",
     "output_type": "stream",
     "text": [
      "(815775, 7)\n",
      "이동방법\n",
      "개별    412505\n",
      "집단    403270\n",
      "Name: count, dtype: int64\n"
     ]
    }
   ],
   "source": [
    "# statistics\n",
    "print(df.shape)\n",
    "print(df['이동방법'].value_counts())"
   ]
  },
  {
   "cell_type": "code",
   "execution_count": 109,
   "id": "563d36a8",
   "metadata": {},
   "outputs": [],
   "source": [
    "# 집단 / 개별 split\n",
    "df_group = df[df['이동방법'] == '집단'].drop(columns = '이동방법')\n",
    "df_solo = df[df['이동방법'] == '개별'].drop(columns = '이동방법')"
   ]
  },
  {
   "cell_type": "markdown",
   "id": "b47dc178",
   "metadata": {},
   "source": [
    "# EDA"
   ]
  },
  {
   "cell_type": "code",
   "execution_count": 110,
   "id": "9d069852",
   "metadata": {},
   "outputs": [
    {
     "name": "stdout",
     "output_type": "stream",
     "text": [
      "   순번                  출발지 주소              중간집결지 주소            최종 도착지 주소  \\\n",
      "1   2  대구광역시 서구 북비산로61길 20-24      경상북도 경주시 태종로 516  경기도 고양시 덕양구 동헌로 305   \n",
      "2   3  서울특별시 양천구 목동중앙본로11길 19  서울특별시 서초구 사평대로45길 26  강원특별자치도 동해시 대동로 430   \n",
      "5   6    충청북도 청주시 상당구 수영로 328     충청북도 증평군 초평로 1717    충청북도 증평군 초평로 1717   \n",
      "\n",
      "   Mday_mid  Mhour_mid  Mday_fin  Mhour_fin  \n",
      "1        28          9        28         14  \n",
      "2         3          8         3         14  \n",
      "5        23         14        23         14  \n"
     ]
    }
   ],
   "source": [
    "# 집단 / 중간집결 기한\n",
    "mid_group = df_group['중간집결 기한'].str.split('일', expand = True)\n",
    "mid_group.columns = ['Mday_mid', 'Mhour_mid']\n",
    "mid_group['Mday_mid'] = mid_group['Mday_mid'].str.replace('0+', '').astype(int)\n",
    "mid_group['Mhour_mid'] = mid_group['Mhour_mid'].str.replace('시', '').astype(int)\n",
    "\n",
    "# 집단 / 최종도착 기한\n",
    "fin_group = df_group['최종도착 기한'].str.split('일', expand = True)\n",
    "fin_group.columns = ['Mday_fin', 'Mhour_fin']\n",
    "fin_group['Mday_fin'] = fin_group['Mday_fin'].str.replace('0+', '').astype(int)\n",
    "fin_group['Mhour_fin'] = fin_group['Mhour_fin'].str.replace('시', '').astype(int)\n",
    "\n",
    "df_group = pd.concat([df_group, mid_group, fin_group], axis = 1).drop(columns = ['중간집결 기한', '최종도착 기한'])\n",
    "print(df_group.head(3))"
   ]
  },
  {
   "cell_type": "code",
   "execution_count": 120,
   "id": "f24ec6c4",
   "metadata": {},
   "outputs": [
    {
     "name": "stdout",
     "output_type": "stream",
     "text": [
      "(array([], dtype=int64),)\n"
     ]
    }
   ],
   "source": [
    "# 중간집결 일이 최종도착 일보다 늦은 경우\n",
    "print(np.where(df_group['Mday_mid'] > df_group['Mday_fin']))\n",
    "# 없다. 정상.\n",
    "\n",
    "# 중간집결 일+시 가 최종도착 일+시 보다 늦은 경우"
   ]
  },
  {
   "cell_type": "code",
   "execution_count": 117,
   "id": "9a23f6de",
   "metadata": {},
   "outputs": [
    {
     "data": {
      "text/plain": [
       "1         28\n",
       "2          3\n",
       "5         23\n",
       "9          1\n",
       "13         1\n",
       "          ..\n",
       "815766     7\n",
       "815767    21\n",
       "815768     7\n",
       "815771     1\n",
       "815773     7\n",
       "Name: Mday_mid, Length: 403270, dtype: int64"
      ]
     },
     "execution_count": 117,
     "metadata": {},
     "output_type": "execute_result"
    }
   ],
   "source": [
    "df_group['Mday_mid']"
   ]
  },
  {
   "cell_type": "code",
   "execution_count": 118,
   "id": "b3fc61ef",
   "metadata": {},
   "outputs": [
    {
     "data": {
      "text/plain": [
       "(array([], dtype=int64),)"
      ]
     },
     "execution_count": 118,
     "metadata": {},
     "output_type": "execute_result"
    }
   ],
   "source": [
    "np.where(df_group['Mday_mid'] > df_group['Mday_fin'])"
   ]
  },
  {
   "cell_type": "code",
   "execution_count": null,
   "id": "dd7fdef0",
   "metadata": {},
   "outputs": [],
   "source": []
  },
  {
   "cell_type": "code",
   "execution_count": null,
   "id": "46abca13",
   "metadata": {},
   "outputs": [],
   "source": []
  },
  {
   "cell_type": "code",
   "execution_count": null,
   "id": "a8b46293",
   "metadata": {},
   "outputs": [],
   "source": []
  },
  {
   "cell_type": "markdown",
   "id": "842d4416",
   "metadata": {},
   "source": [
    "# 시각화"
   ]
  },
  {
   "cell_type": "code",
   "execution_count": null,
   "id": "3af941ba",
   "metadata": {},
   "outputs": [
    {
     "data": {
      "image/png": "[encoded data removed]",
      "text/plain": [
       "<Figure size 1000x400 with 2 Axes>"
      ]
     },
     "metadata": {},
     "output_type": "display_data"
    }
   ],
   "source": [
    "# 막대그래프\n",
    "idx1 = np.sort(Mday_fin_group.unique())\n",
    "height1 = Mday_fin_group.value_counts().sort_index()\n",
    "\n",
    "idx2 = np.sort(Mhour_fin_group.unique())\n",
    "height2 = Mhour_fin_group.value_counts().sort_index()\n",
    "\n",
    "fig = plt.figure(figsize = (10,4))\n",
    "\n",
    "ax = fig.add_subplot(1, 2, 1)\n",
    "ax.bar(idx1, height1)\n",
    "ax.set_title('최종도착 기한(M)')\n",
    "\n",
    "ax = fig.add_subplot(1, 2, 2)\n",
    "ax.bar(idx2, height2)\n",
    "ax.set_title('최종도착 기한(시)')\n",
    "\n",
    "plt.show()"
   ]
  },
  {
   "cell_type": "code",
   "execution_count": null,
   "id": "0bc410ec",
   "metadata": {},
   "outputs": [],
   "source": []
  }
 ],
 "metadata": {
  "kernelspec": {
   "display_name": "navermap",
   "language": "python",
   "name": "python3"
  },
  "language_info": {
   "codemirror_mode": {
    "name": "ipython",
    "version": 3
   },
   "file_extension": ".py",
   "mimetype": "text/x-python",
   "name": "python",
   "nbconvert_exporter": "python",
   "pygments_lexer": "ipython3",
   "version": "3.13.5"
  }
 },
 "nbformat": 4,
 "nbformat_minor": 5
}
