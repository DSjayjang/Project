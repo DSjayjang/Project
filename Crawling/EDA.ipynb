{
 "cells": [
  {
   "cell_type": "code",
   "execution_count": 1,
   "id": "d441c11f",
   "metadata": {},
   "outputs": [],
   "source": [
    "import numpy as np\n",
    "import pandas as pd\n",
    "import matplotlib.pyplot as plt"
   ]
  },
  {
   "cell_type": "code",
   "execution_count": null,
   "id": "015fc348",
   "metadata": {},
   "outputs": [
    {
     "data": {
      "text/plain": [
       "np.float64(37.6667)"
      ]
     },
     "execution_count": 95,
     "metadata": {},
     "output_type": "execute_result"
    }
   ],
   "source": [
    "np.around(37.6666,4)"
   ]
  },
  {
   "cell_type": "code",
   "execution_count": 2,
   "id": "265a070a",
   "metadata": {},
   "outputs": [],
   "source": [
    "# 폰트 설정\n",
    "import matplotlib as mpl\n",
    "import matplotlib.font_manager as fm\n",
    "\n",
    "font_path = r\"C:\\Windows\\Fonts\\malgun.ttf\"  \n",
    "font_prop = fm.FontProperties(fname=font_path)\n",
    "mpl.rcParams['font.family'] = font_prop.get_name()\n",
    "mpl.rcParams['axes.unicode_minus'] = False"
   ]
  },
  {
   "cell_type": "code",
   "execution_count": 5,
   "id": "2c13a816",
   "metadata": {},
   "outputs": [
    {
     "name": "stdout",
     "output_type": "stream",
     "text": [
      "   순번                   출발지 주소              중간집결지 주소            최종 도착지 주소  \\\n",
      "0   1  경기도 고양시 덕양구 중앙로633번길 12   경기도 고양시 덕양구 혜음로 142  경기도 고양시 덕양구 혜음로 142   \n",
      "1   2   대구광역시 서구 북비산로61길 20-24      경상북도 경주시 태종로 516  경기도 고양시 덕양구 동헌로 305   \n",
      "2   3   서울특별시 양천구 목동중앙본로11길 19  서울특별시 서초구 사평대로45길 26  강원특별자치도 동해시 대동로 430   \n",
      "3   4        서울특별시 강남구 학동로 432       경기도 과천시 중앙로 294      경기도 과천시 중앙로 294   \n",
      "4   5         대구광역시 남구 명덕로 236      대구광역시 수성구 무열로 56     대구광역시 수성구 무열로 56   \n",
      "\n",
      "    중간집결 기한    최종도착 기한 이동방법  \n",
      "0  0+1일 14시   0+1일 14시   개별  \n",
      "1  0+28일 9시  0+28일 14시   집단  \n",
      "2   0+3일 8시   0+3일 14시   집단  \n",
      "3  0+1일 14시   0+1일 14시   개별  \n",
      "4  0+3일 14시   0+3일 14시   개별  \n",
      "   num  start_lat   start_lng    mid_lat     mid_lng    end_lat     end_lng\n",
      "0    1  37.626949  126.827581  37.713020  126.902443  37.713020  126.902443\n",
      "1    2  35.881731  128.567540  35.839566  129.185196  37.713651  126.889915\n",
      "2    3  37.540484  126.867756  37.506451  127.012692  37.503393  129.130509\n",
      "3    4  37.517981  127.048764  37.441493  126.996973  37.441493  126.996973\n",
      "4    5  35.854689  128.595157  35.863198  128.651230  35.863198  128.651230\n"
     ]
    }
   ],
   "source": [
    "# data load\n",
    "df = pd.read_excel(r'.\\datasets\\250716.xlsx')\n",
    "df_geo = pd.read_csv(r'.\\datasets\\df_geo.csv') # 위경도 좌표\n",
    "\n",
    "print(df.head())\n",
    "print(df_geo.head())"
   ]
  },
  {
   "cell_type": "code",
   "execution_count": 96,
   "id": "43b2912e",
   "metadata": {},
   "outputs": [],
   "source": [
    "# 위경도 소수점 넷 째 자리까지 반올림\n",
    "df_geo['start_lat'] = np.around(df_geo['start_lat'], 4)\n",
    "df_geo['start_lng'] = np.around(df_geo['start_lat'], 4)\n",
    "df_geo['mid_lat'] = np.around(df_geo['mid_lat'], 4)\n",
    "df_geo['mid_lng'] = np.around(df_geo['mid_lng'], 4)\n",
    "df_geo['end_lat'] = np.around(df_geo['end_lat'], 4)\n",
    "df_geo['end_lng'] = np.around(df_geo['end_lng'], 4)"
   ]
  },
  {
   "cell_type": "code",
   "execution_count": 97,
   "id": "fe36f874",
   "metadata": {},
   "outputs": [
    {
     "name": "stdout",
     "output_type": "stream",
     "text": [
      "   순번                   출발지 주소              중간집결지 주소            최종 도착지 주소  \\\n",
      "0   1  경기도 고양시 덕양구 중앙로633번길 12   경기도 고양시 덕양구 혜음로 142  경기도 고양시 덕양구 혜음로 142   \n",
      "1   2   대구광역시 서구 북비산로61길 20-24      경상북도 경주시 태종로 516  경기도 고양시 덕양구 동헌로 305   \n",
      "2   3   서울특별시 양천구 목동중앙본로11길 19  서울특별시 서초구 사평대로45길 26  강원특별자치도 동해시 대동로 430   \n",
      "\n",
      "    중간집결 기한    최종도착 기한 이동방법  start_lat  start_lng  mid_lat   mid_lng  end_lat  \\\n",
      "0  0+1일 14시   0+1일 14시   개별    37.6269    37.6269  37.7130  126.9024  37.7130   \n",
      "1  0+28일 9시  0+28일 14시   집단    35.8817    35.8817  35.8396  129.1852  37.7137   \n",
      "2   0+3일 8시   0+3일 14시   집단    37.5405    37.5405  37.5065  127.0127  37.5034   \n",
      "\n",
      "    end_lng  \n",
      "0  126.9024  \n",
      "1  126.8899  \n",
      "2  129.1305  \n",
      "            순번                    출발지 주소               중간집결지 주소  \\\n",
      "815772  815773      광주광역시 광산구 장신로19번길 10       광주광역시 북구 우치로 339   \n",
      "815773  815774        서울특별시 동작구 사당로8길 55  서울특별시 강동구 양재대로156길 11   \n",
      "815774  815775  경기도 성남시 중원구 자혜로17번길 42-3     강원특별자치도 원주시 연세대길 1   \n",
      "\n",
      "                      최종 도착지 주소   중간집결 기한   최종도착 기한 이동방법  start_lat  \\\n",
      "815772         광주광역시 북구 우치로 339  0+1일 14시  0+1일 14시   개별    35.1920   \n",
      "815773  강원특별자치도 인제군 인제로277번길 20  0+7일 10시  0+7일 14시   집단    37.4830   \n",
      "815774       강원특별자치도 원주시 연세대길 1  0+2일 14시  0+2일 14시   개별    37.4537   \n",
      "\n",
      "        start_lng  mid_lat   mid_lng  end_lat   end_lng  \n",
      "815772    35.1920  35.1950  126.9038  35.1950  126.9038  \n",
      "815773    37.4830  37.5569  127.1466  38.0757  128.1784  \n",
      "815774    37.4537  37.2809  127.9010  37.2809  127.9010  \n"
     ]
    }
   ],
   "source": [
    "# Merge\n",
    "df_merge = pd.merge(df, df_geo, left_on = '순번', right_on = 'num', how = 'left').drop(columns = ['num'])\n",
    "\n",
    "print(df_merge.head(3))\n",
    "print(df_merge.tail(3))"
   ]
  },
  {
   "cell_type": "code",
   "execution_count": 98,
   "id": "afa91985",
   "metadata": {},
   "outputs": [
    {
     "name": "stdout",
     "output_type": "stream",
     "text": [
      "(815775, 13)\n",
      "이동방법\n",
      "개별    412505\n",
      "집단    403270\n",
      "Name: count, dtype: int64\n",
      "num_na: 16233\n",
      "            순번                    출발지 주소               중간집결지 주소  \\\n",
      "0            1   경기도 고양시 덕양구 중앙로633번길 12    경기도 고양시 덕양구 혜음로 142   \n",
      "1            2    대구광역시 서구 북비산로61길 20-24       경상북도 경주시 태종로 516   \n",
      "2            3    서울특별시 양천구 목동중앙본로11길 19   서울특별시 서초구 사평대로45길 26   \n",
      "3            4         서울특별시 강남구 학동로 432        경기도 과천시 중앙로 294   \n",
      "4            5          대구광역시 남구 명덕로 236       대구광역시 수성구 무열로 56   \n",
      "...        ...                       ...                    ...   \n",
      "799537  815770  서울특별시 관악구 남부순환로230길 43-5   경기도 이천시 청강가창로 389-94   \n",
      "799538  815771         서울특별시 마포구 만리재로 60       경기도 남양주시 덕릉로 967   \n",
      "799539  815773      광주광역시 광산구 장신로19번길 10       광주광역시 북구 우치로 339   \n",
      "799540  815774        서울특별시 동작구 사당로8길 55  서울특별시 강동구 양재대로156길 11   \n",
      "799541  815775  경기도 성남시 중원구 자혜로17번길 42-3     강원특별자치도 원주시 연세대길 1   \n",
      "\n",
      "                      최종 도착지 주소    중간집결 기한    최종도착 기한 이동방법  start_lat  \\\n",
      "0           경기도 고양시 덕양구 혜음로 142   0+1일 14시   0+1일 14시   개별    37.6269   \n",
      "1           경기도 고양시 덕양구 동헌로 305   0+28일 9시  0+28일 14시   집단    35.8817   \n",
      "2           강원특별자치도 동해시 대동로 430    0+3일 8시   0+3일 14시   집단    37.5405   \n",
      "3               경기도 과천시 중앙로 294   0+1일 14시   0+1일 14시   개별    37.5180   \n",
      "4              대구광역시 수성구 무열로 56   0+3일 14시   0+3일 14시   개별    35.8547   \n",
      "...                         ...        ...        ...  ...        ...   \n",
      "799537     경기도 이천시 청강가창로 389-94  0+11일 14시  0+11일 14시   개별    37.4782   \n",
      "799538         경기도 남양주시 덕릉로 967   0+3일 14시   0+3일 14시   개별    37.5454   \n",
      "799539         광주광역시 북구 우치로 339   0+1일 14시   0+1일 14시   개별    35.1920   \n",
      "799540  강원특별자치도 인제군 인제로277번길 20   0+7일 10시   0+7일 14시   집단    37.4830   \n",
      "799541       강원특별자치도 원주시 연세대길 1   0+2일 14시   0+2일 14시   개별    37.4537   \n",
      "\n",
      "        start_lng  mid_lat   mid_lng  end_lat   end_lng  \n",
      "0         37.6269  37.7130  126.9024  37.7130  126.9024  \n",
      "1         35.8817  35.8396  129.1852  37.7137  126.8899  \n",
      "2         37.5405  37.5065  127.0127  37.5034  129.1305  \n",
      "3         37.5180  37.4415  126.9970  37.4415  126.9970  \n",
      "4         35.8547  35.8632  128.6512  35.8632  128.6512  \n",
      "...           ...      ...       ...      ...       ...  \n",
      "799537    37.4782  37.2051  127.3556  37.2051  127.3556  \n",
      "799538    37.5454  37.6810  127.0948  37.6810  127.0948  \n",
      "799539    35.1920  35.1950  126.9038  35.1950  126.9038  \n",
      "799540    37.4830  37.5569  127.1466  38.0757  128.1784  \n",
      "799541    37.4537  37.2809  127.9010  37.2809  127.9010  \n",
      "\n",
      "[799542 rows x 13 columns]\n"
     ]
    }
   ],
   "source": [
    "# statistics\n",
    "print(df_merge.shape)\n",
    "print(df_merge['이동방법'].value_counts())\n",
    "\n",
    "# 위경도 NA 확인\n",
    "num_na = df_merge.isna().any(axis = 1).sum()\n",
    "mask = df_merge.notna().all(axis = 1)\n",
    "print('num_na:', num_na)\n",
    "\n",
    "df_merge = df_merge[mask].reset_index(drop = True)\n",
    "print(df_merge)\n",
    "# 변환안된 것: 16,233행\n",
    "# 사용가능 총: 799,542행"
   ]
  },
  {
   "cell_type": "code",
   "execution_count": 99,
   "id": "563d36a8",
   "metadata": {},
   "outputs": [],
   "source": [
    "# 집단 / 개별 split\n",
    "df_group = df_merge[df_merge['이동방법'] == '집단'].drop(columns = '이동방법')\n",
    "df_solo = df_merge[df_merge['이동방법'] == '개별'].drop(columns = '이동방법')"
   ]
  },
  {
   "cell_type": "markdown",
   "id": "b47dc178",
   "metadata": {},
   "source": [
    "# EDA"
   ]
  },
  {
   "cell_type": "markdown",
   "id": "0a63b5a7",
   "metadata": {},
   "source": [
    "## 집단"
   ]
  },
  {
   "cell_type": "code",
   "execution_count": 100,
   "id": "9d069852",
   "metadata": {},
   "outputs": [
    {
     "name": "stdout",
     "output_type": "stream",
     "text": [
      "   순번                  출발지 주소              중간집결지 주소            최종 도착지 주소  \\\n",
      "1   2  대구광역시 서구 북비산로61길 20-24      경상북도 경주시 태종로 516  경기도 고양시 덕양구 동헌로 305   \n",
      "2   3  서울특별시 양천구 목동중앙본로11길 19  서울특별시 서초구 사평대로45길 26  강원특별자치도 동해시 대동로 430   \n",
      "5   6    충청북도 청주시 상당구 수영로 328     충청북도 증평군 초평로 1717    충청북도 증평군 초평로 1717   \n",
      "\n",
      "   start_lat  start_lng  mid_lat   mid_lng  end_lat   end_lng  \\\n",
      "1    35.8817    35.8817  35.8396  129.1852  37.7137  126.8899   \n",
      "2    37.5405    37.5405  37.5065  127.0127  37.5034  129.1305   \n",
      "5    36.6321    36.6321  36.8044  127.5606  36.8044  127.5606   \n",
      "\n",
      "            mid_td           end_td  \n",
      "1 28 days 09:00:00 28 days 14:00:00  \n",
      "2  3 days 08:00:00  3 days 14:00:00  \n",
      "5 23 days 14:00:00 23 days 14:00:00  \n"
     ]
    }
   ],
   "source": [
    "# 집단 / 중간집결 기한\n",
    "mid_group = df_group['중간집결 기한'].str.split('일', expand = True)\n",
    "mid_group.columns = ['Mday_mid', 'Mhour_mid']\n",
    "mid_group['Mday_mid'] = mid_group['Mday_mid'].str.replace('0+', '').astype(int)\n",
    "mid_group['Mhour_mid'] = mid_group['Mhour_mid'].str.replace('시', '').astype(int)\n",
    "mid_group['mid_td'] = (pd.to_timedelta(mid_group['Mday_mid'], unit = 'D') + pd.to_timedelta(mid_group['Mhour_mid'], unit = 'h'))\n",
    "\n",
    "# 집단 / 최종도착 기한\n",
    "end_group = df_group['최종도착 기한'].str.split('일', expand = True)\n",
    "end_group.columns = ['Mday_end', 'Mhour_end']\n",
    "end_group['Mday_end'] = end_group['Mday_end'].str.replace('0+', '').astype(int)\n",
    "end_group['Mhour_end'] = end_group['Mhour_end'].str.replace('시', '').astype(int)\n",
    "end_group['end_td'] = (pd.to_timedelta(end_group['Mday_end'], unit = 'D') + pd.to_timedelta(end_group['Mhour_end'], unit = 'h'))\n",
    "\n",
    "df_group = pd.concat([df_group, mid_group, end_group], axis = 1).drop(columns = ['중간집결 기한', '최종도착 기한', 'Mday_mid', 'Mhour_mid', 'Mday_end', 'Mhour_end'])\n",
    "print(df_group.head(3))"
   ]
  },
  {
   "cell_type": "code",
   "execution_count": 101,
   "id": "a403ab9c",
   "metadata": {},
   "outputs": [
    {
     "name": "stdout",
     "output_type": "stream",
     "text": [
      "(50640, 12)\n"
     ]
    },
    {
     "data": {
      "text/html": [
       "<div>\n",
       "<style scoped>\n",
       "    .dataframe tbody tr th:only-of-type {\n",
       "        vertical-align: middle;\n",
       "    }\n",
       "\n",
       "    .dataframe tbody tr th {\n",
       "        vertical-align: top;\n",
       "    }\n",
       "\n",
       "    .dataframe thead th {\n",
       "        text-align: right;\n",
       "    }\n",
       "</style>\n",
       "<table border=\"1\" class=\"dataframe\">\n",
       "  <thead>\n",
       "    <tr style=\"text-align: right;\">\n",
       "      <th></th>\n",
       "      <th>순번</th>\n",
       "      <th>출발지 주소</th>\n",
       "      <th>중간집결지 주소</th>\n",
       "      <th>최종 도착지 주소</th>\n",
       "      <th>start_lat</th>\n",
       "      <th>start_lng</th>\n",
       "      <th>mid_lat</th>\n",
       "      <th>mid_lng</th>\n",
       "      <th>end_lat</th>\n",
       "      <th>end_lng</th>\n",
       "      <th>mid_td</th>\n",
       "      <th>end_td</th>\n",
       "    </tr>\n",
       "  </thead>\n",
       "  <tbody>\n",
       "    <tr>\n",
       "      <th>168497</th>\n",
       "      <td>171406</td>\n",
       "      <td>경기도 시흥시 하중로209번길 9</td>\n",
       "      <td>강원특별자치도 원주시 북원로 2777</td>\n",
       "      <td>강원특별자치도 원주시 북원로 2777</td>\n",
       "      <td>37.3946</td>\n",
       "      <td>37.3946</td>\n",
       "      <td>37.39</td>\n",
       "      <td>127.9441</td>\n",
       "      <td>37.39</td>\n",
       "      <td>127.9441</td>\n",
       "      <td>3 days 11:00:00</td>\n",
       "      <td>3 days 14:00:00</td>\n",
       "    </tr>\n",
       "  </tbody>\n",
       "</table>\n",
       "</div>"
      ],
      "text/plain": [
       "            순번              출발지 주소              중간집결지 주소  \\\n",
       "168497  171406  경기도 시흥시 하중로209번길 9  강원특별자치도 원주시 북원로 2777   \n",
       "\n",
       "                   최종 도착지 주소  start_lat  start_lng  mid_lat   mid_lng  \\\n",
       "168497  강원특별자치도 원주시 북원로 2777    37.3946    37.3946    37.39  127.9441   \n",
       "\n",
       "        end_lat   end_lng          mid_td          end_td  \n",
       "168497    37.39  127.9441 3 days 11:00:00 3 days 14:00:00  "
      ]
     },
     "execution_count": 101,
     "metadata": {},
     "output_type": "execute_result"
    }
   ],
   "source": [
    "# (집단) 중간 장소 = 최종 장소\n",
    "mask1 = (df_group['mid_lat'] == df_group['end_lat']) & (df_group['mid_lng'] == df_group['end_lng'])\n",
    "print(df_group[mask1].shape)\n",
    "# 50,640건\n",
    "\n",
    "#  (중간 장소 = 최종 장소) & (중간 시간 != 도착 시간)\n",
    "mask2 = df_group['mid_td'] != df_group['end_td']\n",
    "mask3 = mask1 & mask2\n",
    "df_group[mask3]\n",
    "# 1건"
   ]
  },
  {
   "cell_type": "code",
   "execution_count": 102,
   "id": "2958d303",
   "metadata": {},
   "outputs": [
    {
     "data": {
      "text/html": [
       "<div>\n",
       "<style scoped>\n",
       "    .dataframe tbody tr th:only-of-type {\n",
       "        vertical-align: middle;\n",
       "    }\n",
       "\n",
       "    .dataframe tbody tr th {\n",
       "        vertical-align: top;\n",
       "    }\n",
       "\n",
       "    .dataframe thead th {\n",
       "        text-align: right;\n",
       "    }\n",
       "</style>\n",
       "<table border=\"1\" class=\"dataframe\">\n",
       "  <thead>\n",
       "    <tr style=\"text-align: right;\">\n",
       "      <th></th>\n",
       "      <th>순번</th>\n",
       "      <th>출발지 주소</th>\n",
       "      <th>중간집결지 주소</th>\n",
       "      <th>최종 도착지 주소</th>\n",
       "      <th>start_lat</th>\n",
       "      <th>start_lng</th>\n",
       "      <th>mid_lat</th>\n",
       "      <th>mid_lng</th>\n",
       "      <th>end_lat</th>\n",
       "      <th>end_lng</th>\n",
       "      <th>mid_td</th>\n",
       "      <th>end_td</th>\n",
       "    </tr>\n",
       "  </thead>\n",
       "  <tbody>\n",
       "    <tr>\n",
       "      <th>72</th>\n",
       "      <td>74</td>\n",
       "      <td>대전광역시 서구 정림서로 162-15</td>\n",
       "      <td>대전광역시 서구 구봉산북로94번길 77</td>\n",
       "      <td>대전광역시 서구 구봉산북로 184-105</td>\n",
       "      <td>36.3035</td>\n",
       "      <td>36.3035</td>\n",
       "      <td>36.2898</td>\n",
       "      <td>127.3309</td>\n",
       "      <td>36.2890</td>\n",
       "      <td>127.3443</td>\n",
       "      <td>1 days 14:00:00</td>\n",
       "      <td>1 days 14:00:00</td>\n",
       "    </tr>\n",
       "    <tr>\n",
       "      <th>116</th>\n",
       "      <td>119</td>\n",
       "      <td>충청북도 청주시 청원구 율봉로222번길 62</td>\n",
       "      <td>충청북도 청주시 청원구 외남로 39</td>\n",
       "      <td>충청북도 청주시 청원구 원통숲안1길 39</td>\n",
       "      <td>36.6652</td>\n",
       "      <td>36.6652</td>\n",
       "      <td>36.6994</td>\n",
       "      <td>127.4844</td>\n",
       "      <td>36.7020</td>\n",
       "      <td>127.5046</td>\n",
       "      <td>1 days 14:00:00</td>\n",
       "      <td>1 days 14:00:00</td>\n",
       "    </tr>\n",
       "    <tr>\n",
       "      <th>474</th>\n",
       "      <td>483</td>\n",
       "      <td>경상남도 창원시 성산구 원이대로878번길 10</td>\n",
       "      <td>경상남도 창원시 진해구 충장로 10-40</td>\n",
       "      <td>경상남도 창원시 진해구 충장로 1</td>\n",
       "      <td>35.2093</td>\n",
       "      <td>35.2093</td>\n",
       "      <td>35.1490</td>\n",
       "      <td>128.6521</td>\n",
       "      <td>35.1537</td>\n",
       "      <td>128.6520</td>\n",
       "      <td>1 days 14:00:00</td>\n",
       "      <td>1 days 14:00:00</td>\n",
       "    </tr>\n",
       "    <tr>\n",
       "      <th>590</th>\n",
       "      <td>600</td>\n",
       "      <td>경상남도 사천시 정동면 복상2길 45</td>\n",
       "      <td>경상남도 사천시 사천대로 1891-46</td>\n",
       "      <td>경상남도 사천시 사천대로 1949</td>\n",
       "      <td>35.0528</td>\n",
       "      <td>35.0528</td>\n",
       "      <td>35.0852</td>\n",
       "      <td>128.0765</td>\n",
       "      <td>35.0921</td>\n",
       "      <td>128.0812</td>\n",
       "      <td>5 days 14:00:00</td>\n",
       "      <td>5 days 14:00:00</td>\n",
       "    </tr>\n",
       "    <tr>\n",
       "      <th>608</th>\n",
       "      <td>619</td>\n",
       "      <td>광주광역시 북구 운암산길 48</td>\n",
       "      <td>광주광역시 북구  우치로 336</td>\n",
       "      <td>광주광역시 북구 우치로 339</td>\n",
       "      <td>35.1795</td>\n",
       "      <td>35.1795</td>\n",
       "      <td>35.1946</td>\n",
       "      <td>126.9040</td>\n",
       "      <td>35.1950</td>\n",
       "      <td>126.9038</td>\n",
       "      <td>28 days 14:00:00</td>\n",
       "      <td>28 days 14:00:00</td>\n",
       "    </tr>\n",
       "    <tr>\n",
       "      <th>...</th>\n",
       "      <td>...</td>\n",
       "      <td>...</td>\n",
       "      <td>...</td>\n",
       "      <td>...</td>\n",
       "      <td>...</td>\n",
       "      <td>...</td>\n",
       "      <td>...</td>\n",
       "      <td>...</td>\n",
       "      <td>...</td>\n",
       "      <td>...</td>\n",
       "      <td>...</td>\n",
       "      <td>...</td>\n",
       "    </tr>\n",
       "    <tr>\n",
       "      <th>799435</th>\n",
       "      <td>815668</td>\n",
       "      <td>충청북도 청주시 서원구 서원남로43번길 10</td>\n",
       "      <td>충청북도 청주시 청원구 외남로 39</td>\n",
       "      <td>충청북도 청주시 청원구 원통숲안1길 39</td>\n",
       "      <td>36.6219</td>\n",
       "      <td>36.6219</td>\n",
       "      <td>36.6994</td>\n",
       "      <td>127.4844</td>\n",
       "      <td>36.7020</td>\n",
       "      <td>127.5046</td>\n",
       "      <td>3 days 14:00:00</td>\n",
       "      <td>3 days 14:00:00</td>\n",
       "    </tr>\n",
       "    <tr>\n",
       "      <th>799436</th>\n",
       "      <td>815669</td>\n",
       "      <td>경상남도 창원시 마산회원구 양덕서로 30</td>\n",
       "      <td>경상남도 사천시 사천대로 1891-46</td>\n",
       "      <td>경상남도 사천시 사천대로 1949</td>\n",
       "      <td>35.2273</td>\n",
       "      <td>35.2273</td>\n",
       "      <td>35.0852</td>\n",
       "      <td>128.0765</td>\n",
       "      <td>35.0921</td>\n",
       "      <td>128.0812</td>\n",
       "      <td>3 days 14:00:00</td>\n",
       "      <td>3 days 14:00:00</td>\n",
       "    </tr>\n",
       "    <tr>\n",
       "      <th>799495</th>\n",
       "      <td>815728</td>\n",
       "      <td>경상남도 창원시 진해구 중원서로 41-1</td>\n",
       "      <td>경상남도 창원시 진해구 충무로 37</td>\n",
       "      <td>경상남도 창원시 진해구 충장로 1</td>\n",
       "      <td>35.1478</td>\n",
       "      <td>35.1478</td>\n",
       "      <td>35.1488</td>\n",
       "      <td>128.6562</td>\n",
       "      <td>35.1537</td>\n",
       "      <td>128.6520</td>\n",
       "      <td>1 days 14:00:00</td>\n",
       "      <td>1 days 14:00:00</td>\n",
       "    </tr>\n",
       "    <tr>\n",
       "      <th>799514</th>\n",
       "      <td>815747</td>\n",
       "      <td>충청남도 서산시 대산읍 평신2로 26</td>\n",
       "      <td>충청북도 청주시 청원구 외남로 39</td>\n",
       "      <td>충청북도 청주시 청원구 원통숲안1길 39</td>\n",
       "      <td>36.9929</td>\n",
       "      <td>36.9929</td>\n",
       "      <td>36.6994</td>\n",
       "      <td>127.4844</td>\n",
       "      <td>36.7020</td>\n",
       "      <td>127.5046</td>\n",
       "      <td>5 days 14:00:00</td>\n",
       "      <td>5 days 14:00:00</td>\n",
       "    </tr>\n",
       "    <tr>\n",
       "      <th>799515</th>\n",
       "      <td>815748</td>\n",
       "      <td>충청북도 청주시 흥덕구 증안로 108</td>\n",
       "      <td>충청북도 청주시 청원구 외남로 39</td>\n",
       "      <td>충청북도 청주시 청원구 원통숲안1길 39</td>\n",
       "      <td>36.6342</td>\n",
       "      <td>36.6342</td>\n",
       "      <td>36.6994</td>\n",
       "      <td>127.4844</td>\n",
       "      <td>36.7020</td>\n",
       "      <td>127.5046</td>\n",
       "      <td>3 days 14:00:00</td>\n",
       "      <td>3 days 14:00:00</td>\n",
       "    </tr>\n",
       "  </tbody>\n",
       "</table>\n",
       "<p>10959 rows × 12 columns</p>\n",
       "</div>"
      ],
      "text/plain": [
       "            순번                     출발지 주소                중간집결지 주소  \\\n",
       "72          74       대전광역시 서구 정림서로 162-15   대전광역시 서구 구봉산북로94번길 77   \n",
       "116        119   충청북도 청주시 청원구 율봉로222번길 62     충청북도 청주시 청원구 외남로 39   \n",
       "474        483  경상남도 창원시 성산구 원이대로878번길 10  경상남도 창원시 진해구 충장로 10-40   \n",
       "590        600       경상남도 사천시 정동면 복상2길 45   경상남도 사천시 사천대로 1891-46   \n",
       "608        619           광주광역시 북구 운암산길 48       광주광역시 북구  우치로 336   \n",
       "...        ...                        ...                     ...   \n",
       "799435  815668   충청북도 청주시 서원구 서원남로43번길 10     충청북도 청주시 청원구 외남로 39   \n",
       "799436  815669     경상남도 창원시 마산회원구 양덕서로 30   경상남도 사천시 사천대로 1891-46   \n",
       "799495  815728     경상남도 창원시 진해구 중원서로 41-1     경상남도 창원시 진해구 충무로 37   \n",
       "799514  815747       충청남도 서산시 대산읍 평신2로 26     충청북도 청주시 청원구 외남로 39   \n",
       "799515  815748       충청북도 청주시 흥덕구 증안로 108     충청북도 청주시 청원구 외남로 39   \n",
       "\n",
       "                     최종 도착지 주소  start_lat  start_lng  mid_lat   mid_lng  \\\n",
       "72      대전광역시 서구 구봉산북로 184-105    36.3035    36.3035  36.2898  127.3309   \n",
       "116     충청북도 청주시 청원구 원통숲안1길 39    36.6652    36.6652  36.6994  127.4844   \n",
       "474         경상남도 창원시 진해구 충장로 1    35.2093    35.2093  35.1490  128.6521   \n",
       "590         경상남도 사천시 사천대로 1949    35.0528    35.0528  35.0852  128.0765   \n",
       "608           광주광역시 북구 우치로 339    35.1795    35.1795  35.1946  126.9040   \n",
       "...                        ...        ...        ...      ...       ...   \n",
       "799435  충청북도 청주시 청원구 원통숲안1길 39    36.6219    36.6219  36.6994  127.4844   \n",
       "799436      경상남도 사천시 사천대로 1949    35.2273    35.2273  35.0852  128.0765   \n",
       "799495      경상남도 창원시 진해구 충장로 1    35.1478    35.1478  35.1488  128.6562   \n",
       "799514  충청북도 청주시 청원구 원통숲안1길 39    36.9929    36.9929  36.6994  127.4844   \n",
       "799515  충청북도 청주시 청원구 원통숲안1길 39    36.6342    36.6342  36.6994  127.4844   \n",
       "\n",
       "        end_lat   end_lng           mid_td           end_td  \n",
       "72      36.2890  127.3443  1 days 14:00:00  1 days 14:00:00  \n",
       "116     36.7020  127.5046  1 days 14:00:00  1 days 14:00:00  \n",
       "474     35.1537  128.6520  1 days 14:00:00  1 days 14:00:00  \n",
       "590     35.0921  128.0812  5 days 14:00:00  5 days 14:00:00  \n",
       "608     35.1950  126.9038 28 days 14:00:00 28 days 14:00:00  \n",
       "...         ...       ...              ...              ...  \n",
       "799435  36.7020  127.5046  3 days 14:00:00  3 days 14:00:00  \n",
       "799436  35.0921  128.0812  3 days 14:00:00  3 days 14:00:00  \n",
       "799495  35.1537  128.6520  1 days 14:00:00  1 days 14:00:00  \n",
       "799514  36.7020  127.5046  5 days 14:00:00  5 days 14:00:00  \n",
       "799515  36.7020  127.5046  3 days 14:00:00  3 days 14:00:00  \n",
       "\n",
       "[10959 rows x 12 columns]"
      ]
     },
     "execution_count": 102,
     "metadata": {},
     "output_type": "execute_result"
    }
   ],
   "source": [
    "#(중간 장소 != 최종 장소) & (중간 시간 = 도착 시간)\n",
    "mask1 = (df_group['mid_lat'] != df_group['end_lat']) | (df_group['mid_lng'] != df_group['end_lng'])\n",
    "mask2 = df_group['mid_td'] == df_group['end_td']\n",
    "mask3 = mask1 & mask2\n",
    "\n",
    "df_temp = df_group.loc[mask3].copy()\n",
    "df_temp\n",
    "# 12,313건 존재\n",
    "# 그렇다면 실제로 떨어진 거리는? 위경도로 거리 계산.\n",
    "# >> geopy 라이브러리 활용\n",
    "# from geopy.distance import geodesic\n",
    "\n",
    "# # 우선은 계산되는것만... (위경도 NA값이 있어서)\n",
    "# def distance(row):\n",
    "#     try:\n",
    "#         return geodesic((row['mid_lat'], row['mid_lng']), (row['end_lat'], row['end_lng'])).km\n",
    "#     except Exception:\n",
    "#         return np.nan\n",
    "\n",
    "# df_temp['mid_to_end'] = df_temp.apply(distance, axis = 1)\n",
    "\n",
    "# df_temp[df_temp[df_temp.notna()]['mid_to_end'] > 3]\n",
    "# # 가정: \"1시간에 늦어도 3km를 걷는다고 하면, 3km 이상 떨어진 것은 데이터가 잘못된 것이다.\"\n",
    "# # 2562건 존재."
   ]
  },
  {
   "cell_type": "code",
   "execution_count": 103,
   "id": "26f8d484",
   "metadata": {},
   "outputs": [
    {
     "data": {
      "text/html": [
       "<div>\n",
       "<style scoped>\n",
       "    .dataframe tbody tr th:only-of-type {\n",
       "        vertical-align: middle;\n",
       "    }\n",
       "\n",
       "    .dataframe tbody tr th {\n",
       "        vertical-align: top;\n",
       "    }\n",
       "\n",
       "    .dataframe thead th {\n",
       "        text-align: right;\n",
       "    }\n",
       "</style>\n",
       "<table border=\"1\" class=\"dataframe\">\n",
       "  <thead>\n",
       "    <tr style=\"text-align: right;\">\n",
       "      <th></th>\n",
       "      <th>순번</th>\n",
       "      <th>출발지 주소</th>\n",
       "      <th>중간집결지 주소</th>\n",
       "      <th>최종 도착지 주소</th>\n",
       "      <th>start_lat</th>\n",
       "      <th>start_lng</th>\n",
       "      <th>mid_lat</th>\n",
       "      <th>mid_lng</th>\n",
       "      <th>end_lat</th>\n",
       "      <th>end_lng</th>\n",
       "      <th>mid_td</th>\n",
       "      <th>end_td</th>\n",
       "    </tr>\n",
       "  </thead>\n",
       "  <tbody>\n",
       "  </tbody>\n",
       "</table>\n",
       "</div>"
      ],
      "text/plain": [
       "Empty DataFrame\n",
       "Columns: [순번, 출발지 주소, 중간집결지 주소, 최종 도착지 주소, start_lat, start_lng, mid_lat, mid_lng, end_lat, end_lng, mid_td, end_td]\n",
       "Index: []"
      ]
     },
     "execution_count": 103,
     "metadata": {},
     "output_type": "execute_result"
    }
   ],
   "source": [
    "# 중간집결 시간이 최종도착 시간 보다 늦은 경우?\n",
    "df_group[df_group['mid_td'] > df_group['end_td']]\n",
    "# 없다. 정상."
   ]
  },
  {
   "cell_type": "markdown",
   "id": "3bb1baa2",
   "metadata": {},
   "source": [
    "## ■ 개별"
   ]
  },
  {
   "cell_type": "code",
   "execution_count": 104,
   "id": "8e037695",
   "metadata": {},
   "outputs": [
    {
     "name": "stdout",
     "output_type": "stream",
     "text": [
      "   순번                   출발지 주소             중간집결지 주소            최종 도착지 주소  \\\n",
      "0   1  경기도 고양시 덕양구 중앙로633번길 12  경기도 고양시 덕양구 혜음로 142  경기도 고양시 덕양구 혜음로 142   \n",
      "3   4        서울특별시 강남구 학동로 432      경기도 과천시 중앙로 294      경기도 과천시 중앙로 294   \n",
      "4   5         대구광역시 남구 명덕로 236     대구광역시 수성구 무열로 56     대구광역시 수성구 무열로 56   \n",
      "\n",
      "   start_lat  start_lng  mid_lat   mid_lng  end_lat   end_lng          mid_td  \\\n",
      "0    37.6269    37.6269  37.7130  126.9024  37.7130  126.9024 1 days 14:00:00   \n",
      "3    37.5180    37.5180  37.4415  126.9970  37.4415  126.9970 1 days 14:00:00   \n",
      "4    35.8547    35.8547  35.8632  128.6512  35.8632  128.6512 3 days 14:00:00   \n",
      "\n",
      "           end_td  \n",
      "0 1 days 14:00:00  \n",
      "3 1 days 14:00:00  \n",
      "4 3 days 14:00:00  \n"
     ]
    }
   ],
   "source": [
    "# 개별 / 중간집결 기한\n",
    "mid_solo = df_solo['중간집결 기한'].str.split('일', expand = True)\n",
    "mid_solo.columns = ['Mday_mid', 'Mhour_mid']\n",
    "mid_solo['Mday_mid'] = mid_solo['Mday_mid'].str.replace('0+', '').astype(int)\n",
    "mid_solo['Mhour_mid'] = mid_solo['Mhour_mid'].str.replace('시', '').astype(int)\n",
    "mid_solo['mid_td'] = (pd.to_timedelta(mid_solo['Mday_mid'], unit = 'D') + pd.to_timedelta(mid_solo['Mhour_mid'], unit = 'h'))\n",
    "\n",
    "# 개별 / 최종도착 기한\n",
    "end_solo = df_solo['최종도착 기한'].str.split('일', expand = True)\n",
    "end_solo.columns = ['Mday_end', 'Mhour_end']\n",
    "end_solo['Mday_end'] = end_solo['Mday_end'].str.replace('0+', '').astype(int)\n",
    "end_solo['Mhour_end'] = end_solo['Mhour_end'].str.replace('시', '').astype(int)\n",
    "end_solo['end_td'] = (pd.to_timedelta(end_solo['Mday_end'], unit = 'D') + pd.to_timedelta(end_solo['Mhour_end'], unit = 'h'))\n",
    "\n",
    "df_solo = pd.concat([df_solo, mid_solo, end_solo], axis = 1).drop(columns = ['중간집결 기한', '최종도착 기한', 'Mday_mid', 'Mhour_mid', 'Mday_end', 'Mhour_end'])\n",
    "print(df_solo.head(3))"
   ]
  },
  {
   "cell_type": "code",
   "execution_count": 105,
   "id": "1ff04985",
   "metadata": {},
   "outputs": [
    {
     "name": "stdout",
     "output_type": "stream",
     "text": [
      "(1, 12)\n"
     ]
    },
    {
     "data": {
      "text/html": [
       "<div>\n",
       "<style scoped>\n",
       "    .dataframe tbody tr th:only-of-type {\n",
       "        vertical-align: middle;\n",
       "    }\n",
       "\n",
       "    .dataframe tbody tr th {\n",
       "        vertical-align: top;\n",
       "    }\n",
       "\n",
       "    .dataframe thead th {\n",
       "        text-align: right;\n",
       "    }\n",
       "</style>\n",
       "<table border=\"1\" class=\"dataframe\">\n",
       "  <thead>\n",
       "    <tr style=\"text-align: right;\">\n",
       "      <th></th>\n",
       "      <th>순번</th>\n",
       "      <th>출발지 주소</th>\n",
       "      <th>중간집결지 주소</th>\n",
       "      <th>최종 도착지 주소</th>\n",
       "      <th>start_lat</th>\n",
       "      <th>start_lng</th>\n",
       "      <th>mid_lat</th>\n",
       "      <th>mid_lng</th>\n",
       "      <th>end_lat</th>\n",
       "      <th>end_lng</th>\n",
       "      <th>mid_td</th>\n",
       "      <th>end_td</th>\n",
       "    </tr>\n",
       "  </thead>\n",
       "  <tbody>\n",
       "    <tr>\n",
       "      <th>304860</th>\n",
       "      <td>311085</td>\n",
       "      <td>경기도 수원시 권선구 권중로 110</td>\n",
       "      <td>경기도 화성시 푸른들판로 1263</td>\n",
       "      <td>경기도 화성시 푸른들판로 1263</td>\n",
       "      <td>37.2487</td>\n",
       "      <td>37.2487</td>\n",
       "      <td>37.216</td>\n",
       "      <td>126.8721</td>\n",
       "      <td>37.2161</td>\n",
       "      <td>126.8721</td>\n",
       "      <td>1 days 14:00:00</td>\n",
       "      <td>1 days 14:00:00</td>\n",
       "    </tr>\n",
       "  </tbody>\n",
       "</table>\n",
       "</div>"
      ],
      "text/plain": [
       "            순번               출발지 주소            중간집결지 주소           최종 도착지 주소  \\\n",
       "304860  311085  경기도 수원시 권선구 권중로 110  경기도 화성시 푸른들판로 1263  경기도 화성시 푸른들판로 1263   \n",
       "\n",
       "        start_lat  start_lng  mid_lat   mid_lng  end_lat   end_lng  \\\n",
       "304860    37.2487    37.2487   37.216  126.8721  37.2161  126.8721   \n",
       "\n",
       "                mid_td          end_td  \n",
       "304860 1 days 14:00:00 1 days 14:00:00  "
      ]
     },
     "execution_count": 105,
     "metadata": {},
     "output_type": "execute_result"
    }
   ],
   "source": [
    "# (개별) 중간장소와 최종장소가 다른 경우?\n",
    "print(df_solo[(df_solo['mid_lat'] != df_solo['end_lat']) | (df_solo['mid_lng'] != df_solo['end_lng'])].shape)\n",
    "df_solo[(df_solo['mid_lat'] != df_solo['end_lat']) | (df_solo['mid_lng'] != df_solo['end_lng'])].head()\n",
    "# 2건\n",
    "# 거의 차이 없음. 무시가능"
   ]
  },
  {
   "cell_type": "code",
   "execution_count": 106,
   "id": "b4b23d25",
   "metadata": {},
   "outputs": [
    {
     "name": "stdout",
     "output_type": "stream",
     "text": [
      "(296, 12)\n",
      "Empty DataFrame\n",
      "Columns: [순번, 출발지 주소, 중간집결지 주소, 최종 도착지 주소, start_lat, start_lng, mid_lat, mid_lng, end_lat, end_lng, mid_td, end_td]\n",
      "Index: []\n"
     ]
    },
    {
     "data": {
      "text/html": [
       "<div>\n",
       "<style scoped>\n",
       "    .dataframe tbody tr th:only-of-type {\n",
       "        vertical-align: middle;\n",
       "    }\n",
       "\n",
       "    .dataframe tbody tr th {\n",
       "        vertical-align: top;\n",
       "    }\n",
       "\n",
       "    .dataframe thead th {\n",
       "        text-align: right;\n",
       "    }\n",
       "</style>\n",
       "<table border=\"1\" class=\"dataframe\">\n",
       "  <thead>\n",
       "    <tr style=\"text-align: right;\">\n",
       "      <th></th>\n",
       "      <th>순번</th>\n",
       "      <th>출발지 주소</th>\n",
       "      <th>중간집결지 주소</th>\n",
       "      <th>최종 도착지 주소</th>\n",
       "      <th>start_lat</th>\n",
       "      <th>start_lng</th>\n",
       "      <th>mid_lat</th>\n",
       "      <th>mid_lng</th>\n",
       "      <th>end_lat</th>\n",
       "      <th>end_lng</th>\n",
       "      <th>mid_td</th>\n",
       "      <th>end_td</th>\n",
       "    </tr>\n",
       "  </thead>\n",
       "  <tbody>\n",
       "    <tr>\n",
       "      <th>8895</th>\n",
       "      <td>9022</td>\n",
       "      <td>강원특별자치도 원주시 서원대로 290</td>\n",
       "      <td>강원특별자치도 춘천시 영서로 3272-1</td>\n",
       "      <td>강원특별자치도 춘천시 영서로 3272-1</td>\n",
       "      <td>37.3372</td>\n",
       "      <td>37.3372</td>\n",
       "      <td>37.9418</td>\n",
       "      <td>127.7146</td>\n",
       "      <td>37.9418</td>\n",
       "      <td>127.7146</td>\n",
       "      <td>1 days 08:00:00</td>\n",
       "      <td>1 days 10:00:00</td>\n",
       "    </tr>\n",
       "    <tr>\n",
       "      <th>10457</th>\n",
       "      <td>10602</td>\n",
       "      <td>경기도 파주시 와석순환로 15</td>\n",
       "      <td>경기도 양주시 감악산로 218</td>\n",
       "      <td>경기도 양주시 감악산로 218</td>\n",
       "      <td>37.7093</td>\n",
       "      <td>37.7093</td>\n",
       "      <td>37.8847</td>\n",
       "      <td>126.9800</td>\n",
       "      <td>37.8847</td>\n",
       "      <td>126.9800</td>\n",
       "      <td>1 days 11:00:00</td>\n",
       "      <td>1 days 14:00:00</td>\n",
       "    </tr>\n",
       "    <tr>\n",
       "      <th>20730</th>\n",
       "      <td>21019</td>\n",
       "      <td>강원특별자치도 춘천시 영서로 3034</td>\n",
       "      <td>강원특별자치도 춘천시 영서로 3272-1</td>\n",
       "      <td>강원특별자치도 춘천시 영서로 3272-1</td>\n",
       "      <td>37.9230</td>\n",
       "      <td>37.9230</td>\n",
       "      <td>37.9418</td>\n",
       "      <td>127.7146</td>\n",
       "      <td>37.9418</td>\n",
       "      <td>127.7146</td>\n",
       "      <td>1 days 08:00:00</td>\n",
       "      <td>1 days 10:00:00</td>\n",
       "    </tr>\n",
       "    <tr>\n",
       "      <th>22497</th>\n",
       "      <td>22817</td>\n",
       "      <td>경기도 수원시 장안구 수성로 271</td>\n",
       "      <td>경기도 수원시 팔달구 고화로 120</td>\n",
       "      <td>경기도 수원시 팔달구 고화로 120</td>\n",
       "      <td>37.2904</td>\n",
       "      <td>37.2904</td>\n",
       "      <td>37.2802</td>\n",
       "      <td>127.0075</td>\n",
       "      <td>37.2802</td>\n",
       "      <td>127.0075</td>\n",
       "      <td>1 days 08:00:00</td>\n",
       "      <td>1 days 14:00:00</td>\n",
       "    </tr>\n",
       "    <tr>\n",
       "      <th>25616</th>\n",
       "      <td>25971</td>\n",
       "      <td>경기도 고양시 덕양구 신원로 60</td>\n",
       "      <td>경기도 양주시 감악산로 218</td>\n",
       "      <td>경기도 양주시 감악산로 218</td>\n",
       "      <td>37.6657</td>\n",
       "      <td>37.6657</td>\n",
       "      <td>37.8847</td>\n",
       "      <td>126.9800</td>\n",
       "      <td>37.8847</td>\n",
       "      <td>126.9800</td>\n",
       "      <td>1 days 11:00:00</td>\n",
       "      <td>1 days 14:00:00</td>\n",
       "    </tr>\n",
       "  </tbody>\n",
       "</table>\n",
       "</div>"
      ],
      "text/plain": [
       "          순번                출발지 주소                중간집결지 주소  \\\n",
       "8895    9022  강원특별자치도 원주시 서원대로 290  강원특별자치도 춘천시 영서로 3272-1   \n",
       "10457  10602      경기도 파주시 와석순환로 15        경기도 양주시 감악산로 218   \n",
       "20730  21019  강원특별자치도 춘천시 영서로 3034  강원특별자치도 춘천시 영서로 3272-1   \n",
       "22497  22817   경기도 수원시 장안구 수성로 271     경기도 수원시 팔달구 고화로 120   \n",
       "25616  25971    경기도 고양시 덕양구 신원로 60        경기도 양주시 감악산로 218   \n",
       "\n",
       "                    최종 도착지 주소  start_lat  start_lng  mid_lat   mid_lng  \\\n",
       "8895   강원특별자치도 춘천시 영서로 3272-1    37.3372    37.3372  37.9418  127.7146   \n",
       "10457        경기도 양주시 감악산로 218    37.7093    37.7093  37.8847  126.9800   \n",
       "20730  강원특별자치도 춘천시 영서로 3272-1    37.9230    37.9230  37.9418  127.7146   \n",
       "22497     경기도 수원시 팔달구 고화로 120    37.2904    37.2904  37.2802  127.0075   \n",
       "25616        경기도 양주시 감악산로 218    37.6657    37.6657  37.8847  126.9800   \n",
       "\n",
       "       end_lat   end_lng          mid_td          end_td  \n",
       "8895   37.9418  127.7146 1 days 08:00:00 1 days 10:00:00  \n",
       "10457  37.8847  126.9800 1 days 11:00:00 1 days 14:00:00  \n",
       "20730  37.9418  127.7146 1 days 08:00:00 1 days 10:00:00  \n",
       "22497  37.2802  127.0075 1 days 08:00:00 1 days 14:00:00  \n",
       "25616  37.8847  126.9800 1 days 11:00:00 1 days 14:00:00  "
      ]
     },
     "execution_count": 106,
     "metadata": {},
     "output_type": "execute_result"
    }
   ],
   "source": [
    "# (개별) 중간시간과 최종시간이 다른 경우?\n",
    "print(df_solo[df_solo['mid_td'] != df_solo['end_td']].shape)\n",
    "df_solo[df_solo['mid_td'] != df_solo['end_td']].head()\n",
    "# 296건\n",
    "\n",
    "# 중간장소와 최종장소도 다른가?\n",
    "df_temp = df_solo[df_solo['mid_td'] != df_solo['end_td']]\n",
    "print(df_temp[(df_temp['mid_lat'] != df_temp['end_lat']) | (df_temp['mid_lng'] != df_temp['end_lng'])])\n",
    "\n",
    "df_solo[df_solo['mid_td'] != df_solo['end_td']].head()\n",
    "# 결론\n",
    "# 중간장소와 최종장소는 모두 같은데, 도착시간이 다른 경우가 296건 있다."
   ]
  },
  {
   "cell_type": "code",
   "execution_count": null,
   "id": "acd6ae84",
   "metadata": {},
   "outputs": [],
   "source": []
  },
  {
   "cell_type": "code",
   "execution_count": null,
   "id": "6d49be37",
   "metadata": {},
   "outputs": [],
   "source": []
  },
  {
   "cell_type": "code",
   "execution_count": 148,
   "id": "dd7fdef0",
   "metadata": {},
   "outputs": [
    {
     "ename": "KeyError",
     "evalue": "\"None of [Index(['Mday_mid'], dtype='object')] are in the [columns]\"",
     "output_type": "error",
     "traceback": [
      "\u001b[31m---------------------------------------------------------------------------\u001b[39m",
      "\u001b[31mKeyError\u001b[39m                                  Traceback (most recent call last)",
      "\u001b[36mCell\u001b[39m\u001b[36m \u001b[39m\u001b[32mIn[148]\u001b[39m\u001b[32m, line 3\u001b[39m\n\u001b[32m      1\u001b[39m \u001b[38;5;66;03m# 중간집결과 최종도착 장소가 같고, 도착시간도 같은가?\u001b[39;00m\n\u001b[32m      2\u001b[39m num1 = df_group[df_group[\u001b[33m'\u001b[39m\u001b[33m중간집결지 주소\u001b[39m\u001b[33m'\u001b[39m] == df_group[\u001b[33m'\u001b[39m\u001b[33m최종 도착지 주소\u001b[39m\u001b[33m'\u001b[39m]].index.to_list()\n\u001b[32m----> \u001b[39m\u001b[32m3\u001b[39m \u001b[38;5;28mprint\u001b[39m(np.array_equal(\u001b[43mdf_group\u001b[49m\u001b[43m.\u001b[49m\u001b[43mloc\u001b[49m\u001b[43m[\u001b[49m\u001b[43mnum1\u001b[49m\u001b[43m,\u001b[49m\u001b[43m \u001b[49m\u001b[43m[\u001b[49m\u001b[33;43m'\u001b[39;49m\u001b[33;43mMday_mid\u001b[39;49m\u001b[33;43m'\u001b[39;49m\u001b[43m]\u001b[49m\u001b[43m]\u001b[49m.to_numpy(), df_group.loc[num1, [\u001b[33m'\u001b[39m\u001b[33mMday_end\u001b[39m\u001b[33m'\u001b[39m]].to_numpy()))\n\u001b[32m      4\u001b[39m \u001b[38;5;66;03m# True. 정상\u001b[39;00m\n\u001b[32m      5\u001b[39m \n\u001b[32m      6\u001b[39m \u001b[38;5;66;03m# 중간집결과 최종도착 장소가 다른데 도착시간이 같은 경우\u001b[39;00m\n\u001b[32m      7\u001b[39m num2 = df_group[df_group[\u001b[33m'\u001b[39m\u001b[33m중간집결지 주소\u001b[39m\u001b[33m'\u001b[39m] != df_group[\u001b[33m'\u001b[39m\u001b[33m최종 도착지 주소\u001b[39m\u001b[33m'\u001b[39m]].index.to_list()\n",
      "\u001b[36mFile \u001b[39m\u001b[32mc:\\Programming\\Anaconda\\envs\\navermap\\Lib\\site-packages\\pandas\\core\\indexing.py:1184\u001b[39m, in \u001b[36m_LocationIndexer.__getitem__\u001b[39m\u001b[34m(self, key)\u001b[39m\n\u001b[32m   1182\u001b[39m     \u001b[38;5;28;01mif\u001b[39;00m \u001b[38;5;28mself\u001b[39m._is_scalar_access(key):\n\u001b[32m   1183\u001b[39m         \u001b[38;5;28;01mreturn\u001b[39;00m \u001b[38;5;28mself\u001b[39m.obj._get_value(*key, takeable=\u001b[38;5;28mself\u001b[39m._takeable)\n\u001b[32m-> \u001b[39m\u001b[32m1184\u001b[39m     \u001b[38;5;28;01mreturn\u001b[39;00m \u001b[38;5;28;43mself\u001b[39;49m\u001b[43m.\u001b[49m\u001b[43m_getitem_tuple\u001b[49m\u001b[43m(\u001b[49m\u001b[43mkey\u001b[49m\u001b[43m)\u001b[49m\n\u001b[32m   1185\u001b[39m \u001b[38;5;28;01melse\u001b[39;00m:\n\u001b[32m   1186\u001b[39m     \u001b[38;5;66;03m# we by definition only have the 0th axis\u001b[39;00m\n\u001b[32m   1187\u001b[39m     axis = \u001b[38;5;28mself\u001b[39m.axis \u001b[38;5;129;01mor\u001b[39;00m \u001b[32m0\u001b[39m\n",
      "\u001b[36mFile \u001b[39m\u001b[32mc:\\Programming\\Anaconda\\envs\\navermap\\Lib\\site-packages\\pandas\\core\\indexing.py:1375\u001b[39m, in \u001b[36m_LocIndexer._getitem_tuple\u001b[39m\u001b[34m(self, tup)\u001b[39m\n\u001b[32m   1373\u001b[39m \u001b[38;5;66;03m# ugly hack for GH #836\u001b[39;00m\n\u001b[32m   1374\u001b[39m \u001b[38;5;28;01mif\u001b[39;00m \u001b[38;5;28mself\u001b[39m._multi_take_opportunity(tup):\n\u001b[32m-> \u001b[39m\u001b[32m1375\u001b[39m     \u001b[38;5;28;01mreturn\u001b[39;00m \u001b[38;5;28;43mself\u001b[39;49m\u001b[43m.\u001b[49m\u001b[43m_multi_take\u001b[49m\u001b[43m(\u001b[49m\u001b[43mtup\u001b[49m\u001b[43m)\u001b[49m\n\u001b[32m   1377\u001b[39m \u001b[38;5;28;01mreturn\u001b[39;00m \u001b[38;5;28mself\u001b[39m._getitem_tuple_same_dim(tup)\n",
      "\u001b[36mFile \u001b[39m\u001b[32mc:\\Programming\\Anaconda\\envs\\navermap\\Lib\\site-packages\\pandas\\core\\indexing.py:1327\u001b[39m, in \u001b[36m_LocIndexer._multi_take\u001b[39m\u001b[34m(self, tup)\u001b[39m\n\u001b[32m   1310\u001b[39m \u001b[38;5;250m\u001b[39m\u001b[33;03m\"\"\"\u001b[39;00m\n\u001b[32m   1311\u001b[39m \u001b[33;03mCreate the indexers for the passed tuple of keys, and\u001b[39;00m\n\u001b[32m   1312\u001b[39m \u001b[33;03mexecutes the take operation. This allows the take operation to be\u001b[39;00m\n\u001b[32m   (...)\u001b[39m\u001b[32m   1323\u001b[39m \u001b[33;03mvalues: same type as the object being indexed\u001b[39;00m\n\u001b[32m   1324\u001b[39m \u001b[33;03m\"\"\"\u001b[39;00m\n\u001b[32m   1325\u001b[39m \u001b[38;5;66;03m# GH 836\u001b[39;00m\n\u001b[32m   1326\u001b[39m d = {\n\u001b[32m-> \u001b[39m\u001b[32m1327\u001b[39m     axis: \u001b[38;5;28;43mself\u001b[39;49m\u001b[43m.\u001b[49m\u001b[43m_get_listlike_indexer\u001b[49m\u001b[43m(\u001b[49m\u001b[43mkey\u001b[49m\u001b[43m,\u001b[49m\u001b[43m \u001b[49m\u001b[43maxis\u001b[49m\u001b[43m)\u001b[49m\n\u001b[32m   1328\u001b[39m     \u001b[38;5;28;01mfor\u001b[39;00m (key, axis) \u001b[38;5;129;01min\u001b[39;00m \u001b[38;5;28mzip\u001b[39m(tup, \u001b[38;5;28mself\u001b[39m.obj._AXIS_ORDERS)\n\u001b[32m   1329\u001b[39m }\n\u001b[32m   1330\u001b[39m \u001b[38;5;28;01mreturn\u001b[39;00m \u001b[38;5;28mself\u001b[39m.obj._reindex_with_indexers(d, copy=\u001b[38;5;28;01mTrue\u001b[39;00m, allow_dups=\u001b[38;5;28;01mTrue\u001b[39;00m)\n",
      "\u001b[36mFile \u001b[39m\u001b[32mc:\\Programming\\Anaconda\\envs\\navermap\\Lib\\site-packages\\pandas\\core\\indexing.py:1558\u001b[39m, in \u001b[36m_LocIndexer._get_listlike_indexer\u001b[39m\u001b[34m(self, key, axis)\u001b[39m\n\u001b[32m   1555\u001b[39m ax = \u001b[38;5;28mself\u001b[39m.obj._get_axis(axis)\n\u001b[32m   1556\u001b[39m axis_name = \u001b[38;5;28mself\u001b[39m.obj._get_axis_name(axis)\n\u001b[32m-> \u001b[39m\u001b[32m1558\u001b[39m keyarr, indexer = \u001b[43max\u001b[49m\u001b[43m.\u001b[49m\u001b[43m_get_indexer_strict\u001b[49m\u001b[43m(\u001b[49m\u001b[43mkey\u001b[49m\u001b[43m,\u001b[49m\u001b[43m \u001b[49m\u001b[43maxis_name\u001b[49m\u001b[43m)\u001b[49m\n\u001b[32m   1560\u001b[39m \u001b[38;5;28;01mreturn\u001b[39;00m keyarr, indexer\n",
      "\u001b[36mFile \u001b[39m\u001b[32mc:\\Programming\\Anaconda\\envs\\navermap\\Lib\\site-packages\\pandas\\core\\indexes\\base.py:6212\u001b[39m, in \u001b[36mIndex._get_indexer_strict\u001b[39m\u001b[34m(self, key, axis_name)\u001b[39m\n\u001b[32m   6209\u001b[39m \u001b[38;5;28;01melse\u001b[39;00m:\n\u001b[32m   6210\u001b[39m     keyarr, indexer, new_indexer = \u001b[38;5;28mself\u001b[39m._reindex_non_unique(keyarr)\n\u001b[32m-> \u001b[39m\u001b[32m6212\u001b[39m \u001b[38;5;28;43mself\u001b[39;49m\u001b[43m.\u001b[49m\u001b[43m_raise_if_missing\u001b[49m\u001b[43m(\u001b[49m\u001b[43mkeyarr\u001b[49m\u001b[43m,\u001b[49m\u001b[43m \u001b[49m\u001b[43mindexer\u001b[49m\u001b[43m,\u001b[49m\u001b[43m \u001b[49m\u001b[43maxis_name\u001b[49m\u001b[43m)\u001b[49m\n\u001b[32m   6214\u001b[39m keyarr = \u001b[38;5;28mself\u001b[39m.take(indexer)\n\u001b[32m   6215\u001b[39m \u001b[38;5;28;01mif\u001b[39;00m \u001b[38;5;28misinstance\u001b[39m(key, Index):\n\u001b[32m   6216\u001b[39m     \u001b[38;5;66;03m# GH 42790 - Preserve name from an Index\u001b[39;00m\n",
      "\u001b[36mFile \u001b[39m\u001b[32mc:\\Programming\\Anaconda\\envs\\navermap\\Lib\\site-packages\\pandas\\core\\indexes\\base.py:6261\u001b[39m, in \u001b[36mIndex._raise_if_missing\u001b[39m\u001b[34m(self, key, indexer, axis_name)\u001b[39m\n\u001b[32m   6259\u001b[39m \u001b[38;5;28;01mif\u001b[39;00m nmissing:\n\u001b[32m   6260\u001b[39m     \u001b[38;5;28;01mif\u001b[39;00m nmissing == \u001b[38;5;28mlen\u001b[39m(indexer):\n\u001b[32m-> \u001b[39m\u001b[32m6261\u001b[39m         \u001b[38;5;28;01mraise\u001b[39;00m \u001b[38;5;167;01mKeyError\u001b[39;00m(\u001b[33mf\u001b[39m\u001b[33m\"\u001b[39m\u001b[33mNone of [\u001b[39m\u001b[38;5;132;01m{\u001b[39;00mkey\u001b[38;5;132;01m}\u001b[39;00m\u001b[33m] are in the [\u001b[39m\u001b[38;5;132;01m{\u001b[39;00maxis_name\u001b[38;5;132;01m}\u001b[39;00m\u001b[33m]\u001b[39m\u001b[33m\"\u001b[39m)\n\u001b[32m   6263\u001b[39m     not_found = \u001b[38;5;28mlist\u001b[39m(ensure_index(key)[missing_mask.nonzero()[\u001b[32m0\u001b[39m]].unique())\n\u001b[32m   6264\u001b[39m     \u001b[38;5;28;01mraise\u001b[39;00m \u001b[38;5;167;01mKeyError\u001b[39;00m(\u001b[33mf\u001b[39m\u001b[33m\"\u001b[39m\u001b[38;5;132;01m{\u001b[39;00mnot_found\u001b[38;5;132;01m}\u001b[39;00m\u001b[33m not in index\u001b[39m\u001b[33m\"\u001b[39m)\n",
      "\u001b[31mKeyError\u001b[39m: \"None of [Index(['Mday_mid'], dtype='object')] are in the [columns]\""
     ]
    }
   ],
   "source": [
    "# 중간집결과 최종도착 장소가 같고, 도착시간도 같은가?\n",
    "num1 = df_group[df_group['중간집결지 주소'] == df_group['최종 도착지 주소']].index.to_list()\n",
    "print(np.array_equal(df_group.loc[num1, ['Mday_mid']].to_numpy(), df_group.loc[num1, ['Mday_end']].to_numpy()))\n",
    "# True. 정상\n",
    "\n",
    "# 중간집결과 최종도착 장소가 다른데 도착시간이 같은 경우\n",
    "num2 = df_group[df_group['중간집결지 주소'] != df_group['최종 도착지 주소']].index.to_list()\n",
    "print(np.array_equal(df_group.loc[num2, ['Mday_mid']].to_numpy(), df_group.loc[num2, ['Mday_end']].to_numpy()))"
   ]
  },
  {
   "cell_type": "markdown",
   "id": "842d4416",
   "metadata": {},
   "source": [
    "# 시각화"
   ]
  },
  {
   "cell_type": "code",
   "execution_count": null,
   "id": "3af941ba",
   "metadata": {},
   "outputs": [
    {
     "data": {
      "image/png": "[encoded data removed]",
      "text/plain": [
       "<Figure size 1000x400 with 2 Axes>"
      ]
     },
     "metadata": {},
     "output_type": "display_data"
    }
   ],
   "source": [
    "# 막대그래프\n",
    "idx1 = np.sort(Mday_fin_group.unique())\n",
    "height1 = Mday_fin_group.value_counts().sort_index()\n",
    "\n",
    "idx2 = np.sort(Mhour_fin_group.unique())\n",
    "height2 = Mhour_fin_group.value_counts().sort_index()\n",
    "\n",
    "fig = plt.figure(figsize = (10,4))\n",
    "\n",
    "ax = fig.add_subplot(1, 2, 1)\n",
    "ax.bar(idx1, height1)\n",
    "ax.set_title('최종도착 기한(M)')\n",
    "\n",
    "ax = fig.add_subplot(1, 2, 2)\n",
    "ax.bar(idx2, height2)\n",
    "ax.set_title('최종도착 기한(시)')\n",
    "\n",
    "plt.show()"
   ]
  },
  {
   "cell_type": "markdown",
   "id": "ddfda592",
   "metadata": {},
   "source": [
    "# 위경도"
   ]
  },
  {
   "cell_type": "code",
   "execution_count": null,
   "id": "0bc410ec",
   "metadata": {},
   "outputs": [
    {
     "name": "stdout",
     "output_type": "stream",
     "text": [
      "   num  start_lat   start_lng    mid_lat     mid_lng    end_lat     end_lng\n",
      "0    1  37.626949  126.827581  37.713020  126.902443  37.713020  126.902443\n",
      "1    2  35.881731  128.567540  35.839566  129.185196  37.713651  126.889915\n",
      "2    3  37.540484  126.867756  37.506451  127.012692  37.503393  129.130509\n",
      "3    4  37.517981  127.048764  37.441493  126.996973  37.441493  126.996973\n",
      "4    5  35.854689  128.595157  35.863198  128.651230  35.863198  128.651230\n"
     ]
    }
   ],
   "source": [
    "# data load\n"
   ]
  },
  {
   "cell_type": "code",
   "execution_count": null,
   "id": "e8b6021c",
   "metadata": {},
   "outputs": [
    {
     "data": {
      "text/plain": [
       "0.0"
      ]
     },
     "execution_count": 155,
     "metadata": {},
     "output_type": "execute_result"
    }
   ],
   "source": []
  },
  {
   "cell_type": "code",
   "execution_count": 132,
   "id": "67e0a3a2",
   "metadata": {},
   "outputs": [
    {
     "data": {
      "text/plain": [
       "291.93534114858045"
      ]
     },
     "execution_count": 132,
     "metadata": {},
     "output_type": "execute_result"
    }
   ],
   "source": [
    "geodesic((df_geo['mid_lat'][1], df_geo['mid_lng'][1]), (df_geo['end_lat'][1], df_geo['end_lng'][1])).km"
   ]
  },
  {
   "cell_type": "code",
   "execution_count": 127,
   "id": "cfc667ca",
   "metadata": {},
   "outputs": [
    {
     "data": {
      "text/plain": [
       "7803.627610052918"
      ]
     },
     "execution_count": 127,
     "metadata": {},
     "output_type": "execute_result"
    }
   ],
   "source": [
    "geopy.distance.distance((df_geo['mid_lat'][1], df_geo['mid_lng'][1]), (df_geo['end_lat'][1], df_geo['end_lat'][1])).km"
   ]
  },
  {
   "cell_type": "code",
   "execution_count": 128,
   "id": "c89fc855",
   "metadata": {},
   "outputs": [
    {
     "data": {
      "text/plain": [
       "7520.834268313478"
      ]
     },
     "execution_count": 128,
     "metadata": {},
     "output_type": "execute_result"
    }
   ],
   "source": [
    "geopy.distance.distance((df_geo['mid_lat'][0], df_geo['mid_lng'][0]), (df_geo['end_lat'][0], df_geo['end_lat'][0])).km"
   ]
  },
  {
   "cell_type": "code",
   "execution_count": null,
   "id": "616dd869",
   "metadata": {},
   "outputs": [
    {
     "data": {
      "text/plain": [
       "0.0"
      ]
     },
     "execution_count": 154,
     "metadata": {},
     "output_type": "execute_result"
    }
   ],
   "source": []
  },
  {
   "cell_type": "code",
   "execution_count": null,
   "id": "f30361dc",
   "metadata": {},
   "outputs": [
    {
     "data": {
      "text/plain": [
       "np.float64(37.7130201)"
      ]
     },
     "execution_count": 131,
     "metadata": {},
     "output_type": "execute_result"
    }
   ],
   "source": [
    "df_geo['mid_lat'][0]\n",
    "df_geo['mid_lng'][0]\n"
   ]
  }
 ],
 "metadata": {
  "kernelspec": {
   "display_name": "navermap",
   "language": "python",
   "name": "python3"
  },
  "language_info": {
   "codemirror_mode": {
    "name": "ipython",
    "version": 3
   },
   "file_extension": ".py",
   "mimetype": "text/x-python",
   "name": "python",
   "nbconvert_exporter": "python",
   "pygments_lexer": "ipython3",
   "version": "3.13.5"
  }
 },
 "nbformat": 4,
 "nbformat_minor": 5
}
