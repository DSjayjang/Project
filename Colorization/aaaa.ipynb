{
 "cells": [
  {
   "cell_type": "code",
   "execution_count": 5,
   "id": "7b9333c9",
   "metadata": {},
   "outputs": [],
   "source": [
    "import os\n",
    "\n",
    "os.chdir(r'C:\\Programming\\Github\\Project\\Colorization\\LAVIS')"
   ]
  },
  {
   "cell_type": "code",
   "execution_count": 2,
   "id": "067ed4d7",
   "metadata": {},
   "outputs": [
    {
     "name": "stdout",
     "output_type": "stream",
     "text": [
      "LAVIS version: ModuleSpec(name='lavis', loader=<_frozen_importlib_external.SourceFileLoader object at 0x000001BCE9BDE010>, origin='c:\\\\Programming\\\\Anaconda\\\\envs\\\\lavis311\\\\Lib\\\\site-packages\\\\lavis\\\\__init__.py', submodule_search_locations=['c:\\\\Programming\\\\Anaconda\\\\envs\\\\lavis311\\\\Lib\\\\site-packages\\\\lavis'])\n"
     ]
    }
   ],
   "source": [
    "from lavis.models import load_model_and_preprocess\n",
    "import lavis\n",
    "print(\"LAVIS version:\", lavis.__spec__)\n"
   ]
  },
  {
   "cell_type": "code",
   "execution_count": 3,
   "id": "989d696d",
   "metadata": {},
   "outputs": [
    {
     "name": "stdout",
     "output_type": "stream",
     "text": [
      "==================================================\n",
      "Architectures                  Types\n",
      "==================================================\n",
      "albef_classification           ve\n",
      "albef_feature_extractor        base\n",
      "albef_nlvr                     nlvr\n",
      "albef_pretrain                 base\n",
      "albef_retrieval                coco, flickr\n",
      "albef_vqa                      vqav2\n",
      "alpro_qa                       msrvtt, msvd\n",
      "alpro_retrieval                msrvtt, didemo\n",
      "blip_caption                   base_coco, large_coco\n",
      "blip_classification            base\n",
      "blip_feature_extractor         base\n",
      "blip_image_text_matching       base, large\n",
      "blip_nlvr                      nlvr\n",
      "blip_pretrain                  base\n",
      "blip_retrieval                 coco, flickr\n",
      "blip_vqa                       vqav2, okvqa, aokvqa\n",
      "blip2_opt                      pretrain_opt2.7b, pretrain_opt6.7b, caption_coco_opt2.7b, caption_coco_opt6.7b\n",
      "blip2_t5                       pretrain_flant5xl, pretrain_flant5xl_vitL, pretrain_flant5xxl, caption_coco_flant5xl\n",
      "blip2_feature_extractor        pretrain, pretrain_vitL, coco\n",
      "blip2                          pretrain, pretrain_vitL, coco\n",
      "blip2_image_text_matching      pretrain, pretrain_vitL, coco\n",
      "pnp_vqa                        base, large, 3b\n",
      "pnp_unifiedqav2_fid            \n",
      "img2prompt_vqa                 base\n",
      "clip_feature_extractor         ViT-B-32, ViT-B-16, ViT-L-14, ViT-L-14-336, RN50\n",
      "clip                           ViT-B-32, ViT-B-16, ViT-L-14, ViT-L-14-336, RN50\n",
      "gpt_dialogue                   base\n"
     ]
    }
   ],
   "source": [
    "from lavis.models import model_zoo\n",
    "print(model_zoo)"
   ]
  },
  {
   "cell_type": "markdown",
   "id": "9dff60c9",
   "metadata": {},
   "source": [
    "# Image Captioning"
   ]
  },
  {
   "cell_type": "code",
   "execution_count": 14,
   "id": "5e593c93",
   "metadata": {},
   "outputs": [],
   "source": [
    "import torch\n",
    "from PIL import Image\n",
    "# setup device to use\n",
    "device = torch.device(\"cuda\" if torch.cuda.is_available() else \"cpu\")\n",
    "# load sample image\n",
    "raw_image = Image.open(\"docs/_static/Confusing-Pictures.jpg\").convert(\"RGB\")"
   ]
  },
  {
   "cell_type": "code",
   "execution_count": null,
   "id": "80790b1a",
   "metadata": {},
   "outputs": [
    {
     "name": "stderr",
     "output_type": "stream",
     "text": [
      "c:\\Programming\\Anaconda\\envs\\lavis311\\Lib\\site-packages\\huggingface_hub\\file_download.py:943: FutureWarning: `resume_download` is deprecated and will be removed in version 1.0.0. Downloads always resume when possible. If you want to force a new download, use `force_download=True`.\n",
      "  warnings.warn(\n"
     ]
    },
    {
     "data": {
      "text/plain": [
       "['a diagram of the different types of web pages']"
      ]
     },
     "execution_count": 12,
     "metadata": {},
     "output_type": "execute_result"
    }
   ],
   "source": [
    "import torch\n",
    "from lavis.models import load_model_and_preprocess\n",
    "device = torch.device(\"cuda\" if torch.cuda.is_available() else \"cpu\")\n",
    "# loads BLIP caption base model, with finetuned checkpoints on MSCOCO captioning dataset.\n",
    "# this also loads the associated image processors\n",
    "model, vis_processors, _ = load_model_and_preprocess(name=\"blip_caption\", model_type=\"base_coco\", is_eval=True, device=device)\n",
    "# preprocess the image\n",
    "# vis_processors stores image transforms for \"train\" and \"eval\" (validation / testing / inference)\n",
    "image = vis_processors[\"eval\"](raw_image).unsqueeze(0).to(device)\n",
    "# generate caption\n",
    "model.generate({\"image\": image})"
   ]
  },
  {
   "cell_type": "markdown",
   "id": "ea659155",
   "metadata": {},
   "source": [
    "# Visual question answering (VQA)"
   ]
  },
  {
   "cell_type": "code",
   "execution_count": null,
   "id": "6f85e0f8",
   "metadata": {},
   "outputs": [
    {
     "name": "stderr",
     "output_type": "stream",
     "text": [
      "c:\\Programming\\Anaconda\\envs\\lavis311\\Lib\\site-packages\\huggingface_hub\\file_download.py:943: FutureWarning: `resume_download` is deprecated and will be removed in version 1.0.0. Downloads always resume when possible. If you want to force a new download, use `force_download=True`.\n",
      "  warnings.warn(\n"
     ]
    },
    {
     "data": {
      "text/plain": [
       "['new york']"
      ]
     },
     "execution_count": 15,
     "metadata": {},
     "output_type": "execute_result"
    }
   ],
   "source": [
    "from lavis.models import load_model_and_preprocess\n",
    "model, vis_processors, txt_processors = load_model_and_preprocess(name=\"blip_vqa\", model_type=\"vqav2\", is_eval=True, device=device)\n",
    "# ask a random question.\n",
    "question = \"Which city is this photo taken?\"\n",
    "image = vis_processors[\"eval\"](raw_image).unsqueeze(0).to(device)\n",
    "question = txt_processors[\"eval\"](question)\n",
    "model.predict_answers(samples={\"image\": image, \"text_input\": question}, inference_method=\"generate\")"
   ]
  },
  {
   "cell_type": "markdown",
   "id": "2b112542",
   "metadata": {},
   "source": [
    "# Unified Feature Extraction Interface"
   ]
  },
  {
   "cell_type": "code",
   "execution_count": 16,
   "id": "e2d62534",
   "metadata": {},
   "outputs": [
    {
     "name": "stderr",
     "output_type": "stream",
     "text": [
      "100%|██████████| 1.97G/1.97G [05:48<00:00, 6.06MB/s]\n"
     ]
    },
    {
     "name": "stdout",
     "output_type": "stream",
     "text": [
      "torch.Size([1, 12, 768])\n",
      "torch.Size([1, 197, 768])\n",
      "torch.Size([1, 12, 768])\n",
      "torch.Size([1, 197, 256])\n",
      "torch.Size([1, 12, 256])\n",
      "tensor([[0.1059]])\n"
     ]
    }
   ],
   "source": [
    "from lavis.models import load_model_and_preprocess\n",
    "model, vis_processors, txt_processors = load_model_and_preprocess(name=\"blip_feature_extractor\", model_type=\"base\", is_eval=True, device=device)\n",
    "caption = \"a large fountain spewing water into the air\"\n",
    "image = vis_processors[\"eval\"](raw_image).unsqueeze(0).to(device)\n",
    "text_input = txt_processors[\"eval\"](caption)\n",
    "sample = {\"image\": image, \"text_input\": [text_input]}\n",
    "\n",
    "features_multimodal = model.extract_features(sample)\n",
    "print(features_multimodal.multimodal_embeds.shape)\n",
    "# torch.Size([1, 12, 768]), use features_multimodal[:,0,:] for multimodal classification tasks\n",
    "\n",
    "features_image = model.extract_features(sample, mode=\"image\")\n",
    "features_text = model.extract_features(sample, mode=\"text\")\n",
    "print(features_image.image_embeds.shape)\n",
    "# torch.Size([1, 197, 768])\n",
    "print(features_text.text_embeds.shape)\n",
    "# torch.Size([1, 12, 768])\n",
    "\n",
    "# low-dimensional projected features\n",
    "print(features_image.image_embeds_proj.shape)\n",
    "# torch.Size([1, 197, 256])\n",
    "print(features_text.text_embeds_proj.shape)\n",
    "# torch.Size([1, 12, 256])\n",
    "similarity = features_image.image_embeds_proj[:,0,:] @ features_text.text_embeds_proj[:,0,:].t()\n",
    "print(similarity)\n",
    "# tensor([[0.2622]])"
   ]
  }
 ],
 "metadata": {
  "kernelspec": {
   "display_name": "lavis311",
   "language": "python",
   "name": "python3"
  },
  "language_info": {
   "codemirror_mode": {
    "name": "ipython",
    "version": 3
   },
   "file_extension": ".py",
   "mimetype": "text/x-python",
   "name": "python",
   "nbconvert_exporter": "python",
   "pygments_lexer": "ipython3",
   "version": "3.11.13"
  }
 },
 "nbformat": 4,
 "nbformat_minor": 5
}
