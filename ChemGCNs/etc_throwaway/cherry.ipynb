{
 "cells": [
  {
   "cell_type": "code",
   "execution_count": 8,
   "id": "6c5d4291",
   "metadata": {},
   "outputs": [
    {
     "data": {
      "text/plain": [
       "'c:\\\\Programming\\\\Github\\\\Project\\\\ChemGCNs\\\\visualization'"
      ]
     },
     "execution_count": 8,
     "metadata": {},
     "output_type": "execute_result"
    }
   ],
   "source": [
    "import numpy as np\n",
    "import pandas as pd\n",
    "import matplotlib.pyplot as plt\n",
    "import os\n",
    "os.getcwd()"
   ]
  },
  {
   "cell_type": "code",
   "execution_count": 40,
   "id": "ff1798a9",
   "metadata": {},
   "outputs": [
    {
     "data": {
      "text/html": [
       "<div>\n",
       "<style scoped>\n",
       "    .dataframe tbody tr th:only-of-type {\n",
       "        vertical-align: middle;\n",
       "    }\n",
       "\n",
       "    .dataframe tbody tr th {\n",
       "        vertical-align: top;\n",
       "    }\n",
       "\n",
       "    .dataframe thead th {\n",
       "        text-align: right;\n",
       "    }\n",
       "</style>\n",
       "<table border=\"1\" class=\"dataframe\">\n",
       "  <thead>\n",
       "    <tr style=\"text-align: right;\">\n",
       "      <th></th>\n",
       "      <th>smiles</th>\n",
       "      <th>logvp</th>\n",
       "    </tr>\n",
       "  </thead>\n",
       "  <tbody>\n",
       "    <tr>\n",
       "      <th>0</th>\n",
       "      <td>COC(F)(F)C(F)(F)C(F)(F)F</td>\n",
       "      <td>2.750000</td>\n",
       "    </tr>\n",
       "    <tr>\n",
       "      <th>1</th>\n",
       "      <td>COC(F)(F)C(F)(F)F</td>\n",
       "      <td>3.210000</td>\n",
       "    </tr>\n",
       "    <tr>\n",
       "      <th>2</th>\n",
       "      <td>Brc1cc(Br)c(cc1)Oc1ccc(Br)c(Br)c1Br</td>\n",
       "      <td>-8.140000</td>\n",
       "    </tr>\n",
       "    <tr>\n",
       "      <th>3</th>\n",
       "      <td>Clc1c(Oc2ccccc2)c(Cl)ccc1Cl</td>\n",
       "      <td>-3.550000</td>\n",
       "    </tr>\n",
       "    <tr>\n",
       "      <th>4</th>\n",
       "      <td>Clc1cc(Oc2ccccc2)c(Cl)c(Cl)c1</td>\n",
       "      <td>-3.660000</td>\n",
       "    </tr>\n",
       "    <tr>\n",
       "      <th>...</th>\n",
       "      <td>...</td>\n",
       "      <td>...</td>\n",
       "    </tr>\n",
       "    <tr>\n",
       "      <th>3568</th>\n",
       "      <td>CCC1=CC2=C(C=C1)C(=O)C1=C(C=CC=C1)C2=O</td>\n",
       "      <td>-5.991400</td>\n",
       "    </tr>\n",
       "    <tr>\n",
       "      <th>3569</th>\n",
       "      <td>O=C1C2=CC=CC3=C2C(=CC=C3)C2=C1C=CC=C2</td>\n",
       "      <td>-6.657577</td>\n",
       "    </tr>\n",
       "    <tr>\n",
       "      <th>3570</th>\n",
       "      <td>OC(C1=CC=CC=C1)(C1=CC=CC=C1)C1=CC=CC=C1</td>\n",
       "      <td>-7.522879</td>\n",
       "    </tr>\n",
       "    <tr>\n",
       "      <th>3571</th>\n",
       "      <td>C1=CC=C(C=C1)C1=C2C=CC=CC2=CC2=C1C=CC=C2</td>\n",
       "      <td>-7.045757</td>\n",
       "    </tr>\n",
       "    <tr>\n",
       "      <th>3572</th>\n",
       "      <td>CC(C)=CC1C(C(=O)OCC2=C(C)C=C(C)C=C2)C1(C)C</td>\n",
       "      <td>-4.764472</td>\n",
       "    </tr>\n",
       "  </tbody>\n",
       "</table>\n",
       "<p>3573 rows × 2 columns</p>\n",
       "</div>"
      ],
      "text/plain": [
       "                                          smiles     logvp\n",
       "0                       COC(F)(F)C(F)(F)C(F)(F)F  2.750000\n",
       "1                              COC(F)(F)C(F)(F)F  3.210000\n",
       "2            Brc1cc(Br)c(cc1)Oc1ccc(Br)c(Br)c1Br -8.140000\n",
       "3                    Clc1c(Oc2ccccc2)c(Cl)ccc1Cl -3.550000\n",
       "4                  Clc1cc(Oc2ccccc2)c(Cl)c(Cl)c1 -3.660000\n",
       "...                                          ...       ...\n",
       "3568      CCC1=CC2=C(C=C1)C(=O)C1=C(C=CC=C1)C2=O -5.991400\n",
       "3569       O=C1C2=CC=CC3=C2C(=CC=C3)C2=C1C=CC=C2 -6.657577\n",
       "3570     OC(C1=CC=CC=C1)(C1=CC=CC=C1)C1=CC=CC=C1 -7.522879\n",
       "3571    C1=CC=C(C=C1)C1=C2C=CC=CC2=CC2=C1C=CC=C2 -7.045757\n",
       "3572  CC(C)=CC1C(C(=O)OCC2=C(C)C=C(C)C=C2)C1(C)C -4.764472\n",
       "\n",
       "[3573 rows x 2 columns]"
      ]
     },
     "execution_count": 40,
     "metadata": {},
     "output_type": "execute_result"
    }
   ],
   "source": [
    "df = pd.read_csv(r'..\\results_datasets\\cherry.csv')\n",
    "df\n",
    "\n",
    "logvp = pd.read_csv(r'..\\datasets\\VP.csv')\n",
    "logvp"
   ]
  },
  {
   "cell_type": "code",
   "execution_count": 10,
   "id": "7a6a7aab",
   "metadata": {},
   "outputs": [
    {
     "data": {
      "image/png": "[encoded data removed]",
      "text/plain": [
       "<Figure size 640x480 with 1 Axes>"
      ]
     },
     "metadata": {},
     "output_type": "display_data"
    }
   ],
   "source": [
    "plt.hist(df['abs_resid'])\n",
    "plt.show()"
   ]
  },
  {
   "cell_type": "code",
   "execution_count": 26,
   "id": "c964b4af",
   "metadata": {},
   "outputs": [
    {
     "data": {
      "text/plain": [
       "1.3428034099999995"
      ]
     },
     "execution_count": 26,
     "metadata": {},
     "output_type": "execute_result"
    }
   ],
   "source": [
    "np.quantile(df['abs_resid'],0.95)"
   ]
  },
  {
   "cell_type": "code",
   "execution_count": 42,
   "id": "2e3678f3",
   "metadata": {},
   "outputs": [
    {
     "name": "stderr",
     "output_type": "stream",
     "text": [
      "C:\\Users\\user\\AppData\\Local\\Temp\\ipykernel_33472\\3935288838.py:2: SettingWithCopyWarning: \n",
      "A value is trying to be set on a copy of a slice from a DataFrame\n",
      "\n",
      "See the caveats in the documentation: https://pandas.pydata.org/pandas-docs/stable/user_guide/indexing.html#returning-a-view-versus-a-copy\n",
      "  cherry_smiles.drop(columns = ['target', 'pred', 'residual', 'abs_resid'], inplace = True)\n"
     ]
    },
    {
     "data": {
      "text/html": [
       "<div>\n",
       "<style scoped>\n",
       "    .dataframe tbody tr th:only-of-type {\n",
       "        vertical-align: middle;\n",
       "    }\n",
       "\n",
       "    .dataframe tbody tr th {\n",
       "        vertical-align: top;\n",
       "    }\n",
       "\n",
       "    .dataframe thead th {\n",
       "        text-align: right;\n",
       "    }\n",
       "</style>\n",
       "<table border=\"1\" class=\"dataframe\">\n",
       "  <thead>\n",
       "    <tr style=\"text-align: right;\">\n",
       "      <th></th>\n",
       "      <th>smiles</th>\n",
       "    </tr>\n",
       "  </thead>\n",
       "  <tbody>\n",
       "    <tr>\n",
       "      <th>0</th>\n",
       "      <td>N#CC(=NOCC#N)c1ccccc1</td>\n",
       "    </tr>\n",
       "    <tr>\n",
       "      <th>1</th>\n",
       "      <td>CCNS(=O)(=O)C(F)(F)C(F)(F)C(F)(F)C(F)(F)C(F)(F...</td>\n",
       "    </tr>\n",
       "    <tr>\n",
       "      <th>2</th>\n",
       "      <td>c1ccccc1[As](c1ccccc1)c1ccccc1</td>\n",
       "    </tr>\n",
       "    <tr>\n",
       "      <th>3</th>\n",
       "      <td>COC(=O)c1ccccc1CS(=O)(=O)NC(=O)Nc1[n]c(cc([n]1...</td>\n",
       "    </tr>\n",
       "    <tr>\n",
       "      <th>4</th>\n",
       "      <td>Oc1ccc(Cl)cc1Cc1cc(Cl)ccc1O</td>\n",
       "    </tr>\n",
       "    <tr>\n",
       "      <th>...</th>\n",
       "      <td>...</td>\n",
       "    </tr>\n",
       "    <tr>\n",
       "      <th>352</th>\n",
       "      <td>CC(C)(C)N</td>\n",
       "    </tr>\n",
       "    <tr>\n",
       "      <th>353</th>\n",
       "      <td>Cc1[n][n](C)c(OCC(=O)c2ccccc2)c1C(=O)c1ccc(Cl)...</td>\n",
       "    </tr>\n",
       "    <tr>\n",
       "      <th>354</th>\n",
       "      <td>CC(C)CC=C</td>\n",
       "    </tr>\n",
       "    <tr>\n",
       "      <th>355</th>\n",
       "      <td>Oc1c(O)cccc1O</td>\n",
       "    </tr>\n",
       "    <tr>\n",
       "      <th>356</th>\n",
       "      <td>O=[S]1(=O)CCCC1</td>\n",
       "    </tr>\n",
       "  </tbody>\n",
       "</table>\n",
       "<p>357 rows × 1 columns</p>\n",
       "</div>"
      ],
      "text/plain": [
       "                                                smiles\n",
       "0                                N#CC(=NOCC#N)c1ccccc1\n",
       "1    CCNS(=O)(=O)C(F)(F)C(F)(F)C(F)(F)C(F)(F)C(F)(F...\n",
       "2                       c1ccccc1[As](c1ccccc1)c1ccccc1\n",
       "3    COC(=O)c1ccccc1CS(=O)(=O)NC(=O)Nc1[n]c(cc([n]1...\n",
       "4                          Oc1ccc(Cl)cc1Cc1cc(Cl)ccc1O\n",
       "..                                                 ...\n",
       "352                                          CC(C)(C)N\n",
       "353  Cc1[n][n](C)c(OCC(=O)c2ccccc2)c1C(=O)c1ccc(Cl)...\n",
       "354                                          CC(C)CC=C\n",
       "355                                      Oc1c(O)cccc1O\n",
       "356                                    O=[S]1(=O)CCCC1\n",
       "\n",
       "[357 rows x 1 columns]"
      ]
     },
     "execution_count": 42,
     "metadata": {},
     "output_type": "execute_result"
    }
   ],
   "source": [
    "cherry_smiles = df[df['abs_resid'] > np.quantile(df['abs_resid'],0.90)]\n",
    "cherry_smiles.drop(columns = ['target', 'pred', 'residual', 'abs_resid'], inplace = True)\n",
    "cherry_smiles"
   ]
  },
  {
   "cell_type": "code",
   "execution_count": 50,
   "id": "fbf6f57e",
   "metadata": {},
   "outputs": [],
   "source": [
    "rem = set(cherry_smiles['smiles'])"
   ]
  },
  {
   "cell_type": "code",
   "execution_count": 54,
   "id": "3dba1088",
   "metadata": {},
   "outputs": [
    {
     "data": {
      "text/html": [
       "<div>\n",
       "<style scoped>\n",
       "    .dataframe tbody tr th:only-of-type {\n",
       "        vertical-align: middle;\n",
       "    }\n",
       "\n",
       "    .dataframe tbody tr th {\n",
       "        vertical-align: top;\n",
       "    }\n",
       "\n",
       "    .dataframe thead th {\n",
       "        text-align: right;\n",
       "    }\n",
       "</style>\n",
       "<table border=\"1\" class=\"dataframe\">\n",
       "  <thead>\n",
       "    <tr style=\"text-align: right;\">\n",
       "      <th></th>\n",
       "      <th>smiles</th>\n",
       "      <th>logvp</th>\n",
       "    </tr>\n",
       "  </thead>\n",
       "  <tbody>\n",
       "    <tr>\n",
       "      <th>9</th>\n",
       "      <td>CCN(Cc1c[n]c(Cl)cc1)/C(=C/[N+]([O-])=O)/NC</td>\n",
       "      <td>-11.090000</td>\n",
       "    </tr>\n",
       "    <tr>\n",
       "      <th>18</th>\n",
       "      <td>CO/N=C(/C(O)=NC)\\c1ccccc1Oc1ccccc1</td>\n",
       "      <td>-6.870000</td>\n",
       "    </tr>\n",
       "    <tr>\n",
       "      <th>20</th>\n",
       "      <td>COC(=O)/C(=C/OC)/c1ccccc1Oc1cc([n]c[n]1)Oc1ccc...</td>\n",
       "      <td>-12.080000</td>\n",
       "    </tr>\n",
       "    <tr>\n",
       "      <th>24</th>\n",
       "      <td>Cc1cc(C)c(c(C)c1)S(=O)(=O)c1[n][n](c[n]1)C(=O)...</td>\n",
       "      <td>-10.650000</td>\n",
       "    </tr>\n",
       "    <tr>\n",
       "      <th>27</th>\n",
       "      <td>CCS(=O)(=O)c1ccc[n]c1S(=O)(=O)NC(=O)Nc1[n]c(cc...</td>\n",
       "      <td>-7.950000</td>\n",
       "    </tr>\n",
       "    <tr>\n",
       "      <th>...</th>\n",
       "      <td>...</td>\n",
       "      <td>...</td>\n",
       "    </tr>\n",
       "    <tr>\n",
       "      <th>3553</th>\n",
       "      <td>CCOC(OCC)C=C(C)CCC=C(C)C</td>\n",
       "      <td>1.487138</td>\n",
       "    </tr>\n",
       "    <tr>\n",
       "      <th>3561</th>\n",
       "      <td>C1=CC2=C3C(C=CC4=C3C(C=C2)=CC=C4)=C1</td>\n",
       "      <td>-5.346787</td>\n",
       "    </tr>\n",
       "    <tr>\n",
       "      <th>3562</th>\n",
       "      <td>O=C(OCC1=CC=CC=C1)C=CC1=CC=CC=C1</td>\n",
       "      <td>0.000000</td>\n",
       "    </tr>\n",
       "    <tr>\n",
       "      <th>3567</th>\n",
       "      <td>C1=CC2=C(C=C1)C1=C(C=CC3=CC=CC=C13)C=C2</td>\n",
       "      <td>-6.173925</td>\n",
       "    </tr>\n",
       "    <tr>\n",
       "      <th>3568</th>\n",
       "      <td>CCC1=CC2=C(C=C1)C(=O)C1=C(C=CC=C1)C2=O</td>\n",
       "      <td>-5.991400</td>\n",
       "    </tr>\n",
       "  </tbody>\n",
       "</table>\n",
       "<p>421 rows × 2 columns</p>\n",
       "</div>"
      ],
      "text/plain": [
       "                                                 smiles      logvp\n",
       "9            CCN(Cc1c[n]c(Cl)cc1)/C(=C/[N+]([O-])=O)/NC -11.090000\n",
       "18                   CO/N=C(/C(O)=NC)\\c1ccccc1Oc1ccccc1  -6.870000\n",
       "20    COC(=O)/C(=C/OC)/c1ccccc1Oc1cc([n]c[n]1)Oc1ccc... -12.080000\n",
       "24    Cc1cc(C)c(c(C)c1)S(=O)(=O)c1[n][n](c[n]1)C(=O)... -10.650000\n",
       "27    CCS(=O)(=O)c1ccc[n]c1S(=O)(=O)NC(=O)Nc1[n]c(cc...  -7.950000\n",
       "...                                                 ...        ...\n",
       "3553                           CCOC(OCC)C=C(C)CCC=C(C)C   1.487138\n",
       "3561               C1=CC2=C3C(C=CC4=C3C(C=C2)=CC=C4)=C1  -5.346787\n",
       "3562                   O=C(OCC1=CC=CC=C1)C=CC1=CC=CC=C1   0.000000\n",
       "3567            C1=CC2=C(C=C1)C1=C(C=CC3=CC=CC=C13)C=C2  -6.173925\n",
       "3568             CCC1=CC2=C(C=C1)C(=O)C1=C(C=CC=C1)C2=O  -5.991400\n",
       "\n",
       "[421 rows x 2 columns]"
      ]
     },
     "execution_count": 54,
     "metadata": {},
     "output_type": "execute_result"
    }
   ],
   "source": [
    "logvp[logvp['smiles'].isin(rem)]"
   ]
  },
  {
   "cell_type": "code",
   "execution_count": 61,
   "id": "356fc864",
   "metadata": {},
   "outputs": [
    {
     "name": "stdout",
     "output_type": "stream",
     "text": [
      "                                          smiles     logvp\n",
      "0                       COC(F)(F)C(F)(F)C(F)(F)F  2.750000\n",
      "1                              COC(F)(F)C(F)(F)F  3.210000\n",
      "2            Brc1cc(Br)c(cc1)Oc1ccc(Br)c(Br)c1Br -8.140000\n",
      "3                    Clc1c(Oc2ccccc2)c(Cl)ccc1Cl -3.550000\n",
      "4                  Clc1cc(Oc2ccccc2)c(Cl)c(Cl)c1 -3.660000\n",
      "...                                          ...       ...\n",
      "3147                 CC(C)CCCC(C)CCCC(C)CCCC(C)C -2.356547\n",
      "3148       O=C1C2=CC=CC3=C2C(=CC=C3)C2=C1C=CC=C2 -6.657577\n",
      "3149     OC(C1=CC=CC=C1)(C1=CC=CC=C1)C1=CC=CC=C1 -7.522879\n",
      "3150    C1=CC=C(C=C1)C1=C2C=CC=CC2=CC2=C1C=CC=C2 -7.045757\n",
      "3151  CC(C)=CC1C(C(=O)OCC2=C(C)C=C(C)C=C2)C1(C)C -4.764472\n",
      "\n",
      "[3152 rows x 2 columns]\n"
     ]
    }
   ],
   "source": [
    "# cherry_smiles에 존재하는 smiles를 제거\n",
    "logvp_filtered = logvp.merge(cherry_smiles, on='smiles', how='left', indicator=True)\n",
    "logvp_filtered\n",
    "logvp_filtered = logvp_filtered[logvp_filtered['_merge'] == 'left_only'].drop(columns=['_merge'])\n",
    "\n",
    "# 인덱스 재정렬\n",
    "logvp_filtered = logvp_filtered.reset_index(drop=True)\n",
    "\n",
    "# 결과 확인\n",
    "print(logvp_filtered)\n"
   ]
  },
  {
   "cell_type": "code",
   "execution_count": 56,
   "id": "13809095",
   "metadata": {},
   "outputs": [
    {
     "data": {
      "text/plain": [
       "(3573, 2)"
      ]
     },
     "execution_count": 56,
     "metadata": {},
     "output_type": "execute_result"
    }
   ],
   "source": [
    "logvp.shape"
   ]
  },
  {
   "cell_type": "code",
   "execution_count": 57,
   "id": "58e7a37d",
   "metadata": {},
   "outputs": [
    {
     "data": {
      "text/plain": [
       "(357, 1)"
      ]
     },
     "execution_count": 57,
     "metadata": {},
     "output_type": "execute_result"
    }
   ],
   "source": [
    "cherry_smiles.shape"
   ]
  },
  {
   "cell_type": "code",
   "execution_count": 58,
   "id": "5c7b3cf8",
   "metadata": {},
   "outputs": [
    {
     "data": {
      "text/plain": [
       "3216"
      ]
     },
     "execution_count": 58,
     "metadata": {},
     "output_type": "execute_result"
    }
   ],
   "source": [
    "3573-357"
   ]
  },
  {
   "cell_type": "code",
   "execution_count": 62,
   "id": "792a84a9",
   "metadata": {},
   "outputs": [],
   "source": [
    "logvp_filtered.to_csv('logvp_cp.csv',index = False)"
   ]
  },
  {
   "cell_type": "code",
   "execution_count": null,
   "id": "c6a69d50",
   "metadata": {},
   "outputs": [],
   "source": []
  },
  {
   "cell_type": "markdown",
   "id": "bfc20a0d",
   "metadata": {},
   "source": [
    "# 중복된거 제거"
   ]
  },
  {
   "cell_type": "code",
   "execution_count": 64,
   "id": "73a7275f",
   "metadata": {},
   "outputs": [
    {
     "data": {
      "text/html": [
       "<div>\n",
       "<style scoped>\n",
       "    .dataframe tbody tr th:only-of-type {\n",
       "        vertical-align: middle;\n",
       "    }\n",
       "\n",
       "    .dataframe tbody tr th {\n",
       "        vertical-align: top;\n",
       "    }\n",
       "\n",
       "    .dataframe thead th {\n",
       "        text-align: right;\n",
       "    }\n",
       "</style>\n",
       "<table border=\"1\" class=\"dataframe\">\n",
       "  <thead>\n",
       "    <tr style=\"text-align: right;\">\n",
       "      <th></th>\n",
       "      <th>smiles</th>\n",
       "      <th>logvp</th>\n",
       "    </tr>\n",
       "  </thead>\n",
       "  <tbody>\n",
       "    <tr>\n",
       "      <th>0</th>\n",
       "      <td>COC(F)(F)C(F)(F)C(F)(F)F</td>\n",
       "      <td>2.750000</td>\n",
       "    </tr>\n",
       "    <tr>\n",
       "      <th>1</th>\n",
       "      <td>COC(F)(F)C(F)(F)F</td>\n",
       "      <td>3.210000</td>\n",
       "    </tr>\n",
       "    <tr>\n",
       "      <th>2</th>\n",
       "      <td>Brc1cc(Br)c(cc1)Oc1ccc(Br)c(Br)c1Br</td>\n",
       "      <td>-8.140000</td>\n",
       "    </tr>\n",
       "    <tr>\n",
       "      <th>3</th>\n",
       "      <td>Clc1c(Oc2ccccc2)c(Cl)ccc1Cl</td>\n",
       "      <td>-3.550000</td>\n",
       "    </tr>\n",
       "    <tr>\n",
       "      <th>4</th>\n",
       "      <td>Clc1cc(Oc2ccccc2)c(Cl)c(Cl)c1</td>\n",
       "      <td>-3.660000</td>\n",
       "    </tr>\n",
       "    <tr>\n",
       "      <th>...</th>\n",
       "      <td>...</td>\n",
       "      <td>...</td>\n",
       "    </tr>\n",
       "    <tr>\n",
       "      <th>3568</th>\n",
       "      <td>CCC1=CC2=C(C=C1)C(=O)C1=C(C=CC=C1)C2=O</td>\n",
       "      <td>-5.991400</td>\n",
       "    </tr>\n",
       "    <tr>\n",
       "      <th>3569</th>\n",
       "      <td>O=C1C2=CC=CC3=C2C(=CC=C3)C2=C1C=CC=C2</td>\n",
       "      <td>-6.657577</td>\n",
       "    </tr>\n",
       "    <tr>\n",
       "      <th>3570</th>\n",
       "      <td>OC(C1=CC=CC=C1)(C1=CC=CC=C1)C1=CC=CC=C1</td>\n",
       "      <td>-7.522879</td>\n",
       "    </tr>\n",
       "    <tr>\n",
       "      <th>3571</th>\n",
       "      <td>C1=CC=C(C=C1)C1=C2C=CC=CC2=CC2=C1C=CC=C2</td>\n",
       "      <td>-7.045757</td>\n",
       "    </tr>\n",
       "    <tr>\n",
       "      <th>3572</th>\n",
       "      <td>CC(C)=CC1C(C(=O)OCC2=C(C)C=C(C)C=C2)C1(C)C</td>\n",
       "      <td>-4.764472</td>\n",
       "    </tr>\n",
       "  </tbody>\n",
       "</table>\n",
       "<p>3573 rows × 2 columns</p>\n",
       "</div>"
      ],
      "text/plain": [
       "                                          smiles     logvp\n",
       "0                       COC(F)(F)C(F)(F)C(F)(F)F  2.750000\n",
       "1                              COC(F)(F)C(F)(F)F  3.210000\n",
       "2            Brc1cc(Br)c(cc1)Oc1ccc(Br)c(Br)c1Br -8.140000\n",
       "3                    Clc1c(Oc2ccccc2)c(Cl)ccc1Cl -3.550000\n",
       "4                  Clc1cc(Oc2ccccc2)c(Cl)c(Cl)c1 -3.660000\n",
       "...                                          ...       ...\n",
       "3568      CCC1=CC2=C(C=C1)C(=O)C1=C(C=CC=C1)C2=O -5.991400\n",
       "3569       O=C1C2=CC=CC3=C2C(=CC=C3)C2=C1C=CC=C2 -6.657577\n",
       "3570     OC(C1=CC=CC=C1)(C1=CC=CC=C1)C1=CC=CC=C1 -7.522879\n",
       "3571    C1=CC=C(C=C1)C1=C2C=CC=CC2=CC2=C1C=CC=C2 -7.045757\n",
       "3572  CC(C)=CC1C(C(=O)OCC2=C(C)C=C(C)C=C2)C1(C)C -4.764472\n",
       "\n",
       "[3573 rows x 2 columns]"
      ]
     },
     "execution_count": 64,
     "metadata": {},
     "output_type": "execute_result"
    }
   ],
   "source": [
    "vp = pd.read_csv(r'..\\datasets\\VP.csv')\n",
    "vp"
   ]
  },
  {
   "cell_type": "code",
   "execution_count": 65,
   "id": "c62068b7",
   "metadata": {},
   "outputs": [
    {
     "name": "stdout",
     "output_type": "stream",
     "text": [
      "원래 행 수: 3573\n",
      "중복 제거 후 행 수: 3281\n"
     ]
    },
    {
     "data": {
      "text/html": [
       "<div>\n",
       "<style scoped>\n",
       "    .dataframe tbody tr th:only-of-type {\n",
       "        vertical-align: middle;\n",
       "    }\n",
       "\n",
       "    .dataframe tbody tr th {\n",
       "        vertical-align: top;\n",
       "    }\n",
       "\n",
       "    .dataframe thead th {\n",
       "        text-align: right;\n",
       "    }\n",
       "</style>\n",
       "<table border=\"1\" class=\"dataframe\">\n",
       "  <thead>\n",
       "    <tr style=\"text-align: right;\">\n",
       "      <th></th>\n",
       "      <th>smiles</th>\n",
       "      <th>logvp</th>\n",
       "    </tr>\n",
       "  </thead>\n",
       "  <tbody>\n",
       "    <tr>\n",
       "      <th>0</th>\n",
       "      <td>COC(F)(F)C(F)(F)C(F)(F)F</td>\n",
       "      <td>2.75</td>\n",
       "    </tr>\n",
       "    <tr>\n",
       "      <th>1</th>\n",
       "      <td>COC(F)(F)C(F)(F)F</td>\n",
       "      <td>3.21</td>\n",
       "    </tr>\n",
       "    <tr>\n",
       "      <th>2</th>\n",
       "      <td>Brc1cc(Br)c(cc1)Oc1ccc(Br)c(Br)c1Br</td>\n",
       "      <td>-8.14</td>\n",
       "    </tr>\n",
       "    <tr>\n",
       "      <th>3</th>\n",
       "      <td>Clc1c(Oc2ccccc2)c(Cl)ccc1Cl</td>\n",
       "      <td>-3.55</td>\n",
       "    </tr>\n",
       "    <tr>\n",
       "      <th>4</th>\n",
       "      <td>Clc1cc(Oc2ccccc2)c(Cl)c(Cl)c1</td>\n",
       "      <td>-3.66</td>\n",
       "    </tr>\n",
       "  </tbody>\n",
       "</table>\n",
       "</div>"
      ],
      "text/plain": [
       "                                smiles  logvp\n",
       "0             COC(F)(F)C(F)(F)C(F)(F)F   2.75\n",
       "1                    COC(F)(F)C(F)(F)F   3.21\n",
       "2  Brc1cc(Br)c(cc1)Oc1ccc(Br)c(Br)c1Br  -8.14\n",
       "3          Clc1c(Oc2ccccc2)c(Cl)ccc1Cl  -3.55\n",
       "4        Clc1cc(Oc2ccccc2)c(Cl)c(Cl)c1  -3.66"
      ]
     },
     "execution_count": 65,
     "metadata": {},
     "output_type": "execute_result"
    }
   ],
   "source": [
    "vp_unique = vp.drop_duplicates(subset=['smiles'], keep='first').reset_index(drop=True)\n",
    "\n",
    "print(f\"원래 행 수: {len(vp)}\")\n",
    "print(f\"중복 제거 후 행 수: {len(vp_unique)}\")\n",
    "\n",
    "vp_unique.head()"
   ]
  },
  {
   "cell_type": "code",
   "execution_count": 66,
   "id": "45053382",
   "metadata": {},
   "outputs": [],
   "source": [
    "vp_unique.to_csv('vp_unique.csv', index = False)"
   ]
  },
  {
   "cell_type": "code",
   "execution_count": null,
   "id": "f270c839",
   "metadata": {},
   "outputs": [],
   "source": []
  }
 ],
 "metadata": {
  "kernelspec": {
   "display_name": "chem",
   "language": "python",
   "name": "python3"
  },
  "language_info": {
   "codemirror_mode": {
    "name": "ipython",
    "version": 3
   },
   "file_extension": ".py",
   "mimetype": "text/x-python",
   "name": "python",
   "nbconvert_exporter": "python",
   "pygments_lexer": "ipython3",
   "version": "3.8.20"
  }
 },
 "nbformat": 4,
 "nbformat_minor": 5
}
