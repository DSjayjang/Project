{
 "cells": [
  {
   "cell_type": "code",
   "execution_count": 2,
   "id": "44a84251",
   "metadata": {},
   "outputs": [
    {
     "name": "stderr",
     "output_type": "stream",
     "text": [
      "c:\\Programming\\Anaconda\\envs\\chem\\lib\\site-packages\\tqdm\\auto.py:21: TqdmWarning: IProgress not found. Please update jupyter and ipywidgets. See https://ipywidgets.readthedocs.io/en/stable/user_install.html\n",
      "  from .autonotebook import tqdm as notebook_tqdm\n"
     ]
    }
   ],
   "source": [
    "import os\n",
    "import pandas as pd\n",
    "import numpy as np\n",
    "import random\n",
    "\n",
    "import torch\n",
    "import torch.nn as nn\n",
    "import dgl"
   ]
  },
  {
   "cell_type": "code",
   "execution_count": 3,
   "id": "c8c01f8c",
   "metadata": {},
   "outputs": [
    {
     "name": "stdout",
     "output_type": "stream",
     "text": [
      "cuda\n"
     ]
    }
   ],
   "source": [
    "device = torch.device('cuda' if torch.cuda.is_available() else 'cpu')\n",
    "print(device)"
   ]
  },
  {
   "cell_type": "code",
   "execution_count": 1,
   "id": "8a6185d6",
   "metadata": {},
   "outputs": [
    {
     "name": "stderr",
     "output_type": "stream",
     "text": [
      "c:\\Programming\\anaconda3\\envs\\egcntest3\\lib\\site-packages\\tqdm\\auto.py:21: TqdmWarning: IProgress not found. Please update jupyter and ipywidgets. See https://ipywidgets.readthedocs.io/en/stable/user_install.html\n",
      "  from .autonotebook import tqdm as notebook_tqdm\n"
     ]
    }
   ],
   "source": [
    "import torch\n",
    "import torch.nn as nn\n",
    "import torch.nn.functional as F\n",
    "\n",
    "import dgl\n",
    "import dgl.function as fn\n"
   ]
  },
  {
   "cell_type": "code",
   "execution_count": null,
   "id": "31f611ba",
   "metadata": {},
   "outputs": [
    {
     "name": "stdout",
     "output_type": "stream",
     "text": [
      "tensor([[1.],\n",
      "        [2.],\n",
      "        [3.]])\n"
     ]
    }
   ],
   "source": [
    "# 예제: 작은 그래프\n",
    "g = dgl.graph(([0, 1, 2], [1, 2, 0]))  # 0→1, 1→2, 2→0\n",
    "\n",
    "# 노드 특징을 간단히 1차원 스칼라로 설정\n",
    "g.ndata['h'] = torch.tensor([[1.0], [2.0], [3.0]])\n",
    "\n",
    "# 1) msg 함수를 직접 엣지에 적용\n",
    "g.apply_edges(fn.copy_u('h', 'm'))\n",
    "\n",
    "# 2) edge data 'm' 에 담긴 메시지를 확인\n",
    "print(g.edata['m'])\n",
    "# tensor([[1.],  # from node 0 to 1\n",
    "#         [2.],  # from node 1 to 2\n",
    "#         [3.]]) # from node 2 to 0"
   ]
  },
  {
   "cell_type": "code",
   "execution_count": 13,
   "id": "7e023d44",
   "metadata": {},
   "outputs": [
    {
     "name": "stdout",
     "output_type": "stream",
     "text": [
      "mailbox['m']: tensor([[[3.]],\n",
      "\n",
      "        [[1.]],\n",
      "\n",
      "        [[2.]]])\n",
      "accum tensor([[3.],\n",
      "        [1.],\n",
      "        [2.]])\n"
     ]
    }
   ],
   "source": [
    "def debug_reduce(nodes):\n",
    "    mbox = nodes.mailbox['m']         # shape: (num_nodes, num_in_edges, feat_dim)\n",
    "    print(\"mailbox['m']:\", mbox)       # 디버그용 출력\n",
    "    accum = torch.mean(mbox, dim=1)   # 원래 reduce 로직\n",
    "    print('accum',accum)\n",
    "    return {'h': accum}\n",
    "\n",
    "# 예제: 작은 그래프\n",
    "g = dgl.graph(([0, 1, 2], [1, 2, 0]))  # 0→1, 1→2, 2→0\n",
    "\n",
    "feature = [[1.0], [2.0], [3.0]]\n",
    "g.ndata['h'] = torch.tensor(feature)\n",
    "g.update_all(fn.copy_u('h', 'm'), debug_reduce)"
   ]
  },
  {
   "cell_type": "code",
   "execution_count": null,
   "id": "260c97c3",
   "metadata": {},
   "outputs": [],
   "source": []
  }
 ],
 "metadata": {
  "kernelspec": {
   "display_name": "chem",
   "language": "python",
   "name": "python3"
  },
  "language_info": {
   "codemirror_mode": {
    "name": "ipython",
    "version": 3
   },
   "file_extension": ".py",
   "mimetype": "text/x-python",
   "name": "python",
   "nbconvert_exporter": "python",
   "pygments_lexer": "ipython3",
   "version": "3.8.20"
  }
 },
 "nbformat": 4,
 "nbformat_minor": 5
}
