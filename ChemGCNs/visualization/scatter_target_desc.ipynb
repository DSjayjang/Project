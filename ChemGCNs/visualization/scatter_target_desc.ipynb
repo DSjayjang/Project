{
 "cells": [
  {
   "cell_type": "code",
   "execution_count": 3,
   "id": "4a04e0a7",
   "metadata": {},
   "outputs": [
    {
     "name": "stderr",
     "output_type": "stream",
     "text": [
      "c:\\Programming\\Anaconda\\envs\\chem\\lib\\site-packages\\tqdm\\auto.py:21: TqdmWarning: IProgress not found. Please update jupyter and ipywidgets. See https://ipywidgets.readthedocs.io/en/stable/user_install.html\n",
      "  from .autonotebook import tqdm as notebook_tqdm\n"
     ]
    }
   ],
   "source": [
    "import os\n",
    "import sys\n",
    "import random\n",
    "import numpy as np\n",
    "import pandas as pd\n",
    "import matplotlib.pyplot as plt\n",
    "\n",
    "import dgl\n",
    "import torch\n",
    "\n",
    "# 현재 파일의 상위 디렉토리를 sys.path에 추가\n",
    "sys.path.append(os.path.abspath(os.path.join(os.getcwd(), \"..\")))"
   ]
  },
  {
   "cell_type": "code",
   "execution_count": 4,
   "id": "e0d014b3",
   "metadata": {},
   "outputs": [],
   "source": [
    "# 재현성 난수 고정\n",
    "def SET_SEED():\n",
    "    random.seed(SEED)\n",
    "    np.random.seed(SEED)\n",
    "    torch.manual_seed(SEED)\n",
    "    dgl.random.seed(SEED)\n",
    "\n",
    "    os.environ['PYTHONHASHSEED'] = str(SEED)\n",
    "    os.environ['TF_DETERMINISTIC_OPS'] = '1'\n",
    "    os.environ['KMP_DUPLICATE_LIB_OK'] = 'True'\n",
    "\n",
    "    torch.backends.cudnn.deterministic = True\n",
    "    torch.backends.cudnn.benchmark = False\n",
    "\n",
    "SEED = 100\n",
    "SET_SEED()"
   ]
  },
  {
   "cell_type": "code",
   "execution_count": 5,
   "id": "d74008cc",
   "metadata": {},
   "outputs": [],
   "source": [
    "dataset = 'logvp' # freesolv / esol / lipo / logp / logvp\n",
    "save_dir = r'..\\results_figure'"
   ]
  },
  {
   "cell_type": "code",
   "execution_count": 6,
   "id": "ccc3700d",
   "metadata": {},
   "outputs": [
    {
     "name": "stdout",
     "output_type": "stream",
     "text": [
      "['C=O', 'CNN', 'C(=O)O', 'CCl', 'CN']\n",
      "0    8.266164\n",
      "1    3.912023\n",
      "2    3.751854\n",
      "3    8.366370\n",
      "4    7.882315\n",
      "Name: logvp, dtype: float64\n"
     ]
    }
   ],
   "source": [
    "df = pd.read_csv(r'..\\datasets\\\\' + dataset + '.csv')\n",
    "smiles_list = df['smiles'].tolist()\n",
    "\n",
    "# target 정의\n",
    "target = df.iloc[:,-1]\n",
    "\n",
    "print(smiles_list[:5])\n",
    "print(target[:5])"
   ]
  },
  {
   "cell_type": "code",
   "execution_count": 7,
   "id": "952574ae",
   "metadata": {},
   "outputs": [
    {
     "name": "stderr",
     "output_type": "stream",
     "text": [
      "[16:29:16] SMILES Parse Error: syntax error while parsing: FH\n",
      "[16:29:16] SMILES Parse Error: Failed parsing SMILES 'FH' for input: 'FH'\n",
      "[16:29:16] Explicit valence for atom # 1 Br, 5, is greater than permitted\n"
     ]
    }
   ],
   "source": [
    "from utils.utils import MolecularFeatureExtractor\n",
    "# 분자 특성 추출 및 데이터프레임 정의\n",
    "extractor = MolecularFeatureExtractor()\n",
    "df_all_features = extractor.extract_molecular_features(smiles_list)\n",
    "\n",
    "df_all_features['target'] = target\n",
    "df_all_features\n",
    "\n",
    "num_all_features = df_all_features.shape[1] - 1 \n",
    "# na handling\n",
    "# NA 확인\n",
    "df_all_features[df_all_features.isna().any(axis = 1)] # 행방향\n",
    "\n",
    "\n",
    "df_removed_features = df_all_features.dropna()\n",
    "\n",
    "# 결측치가 포함된 feature 제거\n",
    "# df_removed_features = df_all_features.dropna(axis = 1)\n",
    "num_removed_features = df_removed_features.shape[1] - 1  # logvp 열 제외\n",
    "\n",
    "\n",
    "\n",
    "# nunique == 1 인 경우는 제\n",
    "unique_columns = list(df_removed_features.loc[:, df_removed_features.nunique() == 1].columns)\n",
    "# nunique == 1인 feature 제거\n",
    "#df_removed_features.drop(columns = unique_columns, inplace = True)\n",
    "df_removed_features = df_removed_features.drop(columns = unique_columns).copy()\n",
    "\n",
    "num_removed_features = df_removed_features.shape[1] - 1  # logvp 열 제외\n",
    "\n",
    "\n",
    "# 너무 낮은 vairnace를 가지는 경\n",
    "low_variances = sorted(df_removed_features.var())\n",
    "low_variances[:10]\n",
    "\n",
    "columns_low_variances = []\n",
    "\n",
    "for i in low_variances:\n",
    "    if i < 0.001:\n",
    "        column = df_removed_features.loc[:, df_removed_features.var() == i].columns\n",
    "        columns_low_variances.append(column)\n",
    "columns_low_variances = [item for index in columns_low_variances for item in index]\n",
    "\n",
    "# 2. 중복 제거 및 유니크 값 추출\n",
    "columns_low_variances = list(set(columns_low_variances))\n",
    "\n",
    "# 낮은 분산의 변수 제거\n",
    "df_removed_features = df_removed_features.drop(columns = columns_low_variances).reset_index(drop=True).copy()\n",
    "num_removed_features = df_removed_features.shape[1] - 1  # logvp 열 제외"
   ]
  },
  {
   "cell_type": "code",
   "execution_count": 8,
   "id": "9d766c72",
   "metadata": {},
   "outputs": [
    {
     "data": {
      "image/png": "[encoded data removed]",
      "text/plain": [
       "<Figure size 640x480 with 1 Axes>"
      ]
     },
     "metadata": {},
     "output_type": "display_data"
    }
   ],
   "source": [
    "import matplotlib.pyplot as plt\n",
    "\n",
    "plt.scatter(x = df_removed_features['NumHDonors'], y = df_removed_features['target'])\n",
    "plt.scatter(x = df_removed_features['LabuteASA'], y = df_removed_features['target'])\n",
    "plt.legend(['NumHDonors', 'LabuteASA'] ,loc='best')\n",
    "plt.show()\n"
   ]
  },
  {
   "cell_type": "code",
   "execution_count": null,
   "id": "99b393c1",
   "metadata": {},
   "outputs": [],
   "source": [
    "# # logP\n",
    "\n",
    "# plt.scatter(x = df_removed_features['MolLogP'], y = df_removed_features['target'])\n",
    "# plt.scatter(x = df_removed_features['VSA_EState1'], y = df_removed_features['target'])\n",
    "# plt.scatter(x = df_removed_features['PEOE_VSA2'], y = df_removed_features['target'])\n",
    "# plt.legend(['MolLogP', 'VSA_EState1', 'PEOE_VSA2'],loc='best')\n",
    "# plt.show()"
   ]
  },
  {
   "cell_type": "code",
   "execution_count": null,
   "id": "515d5020",
   "metadata": {},
   "outputs": [],
   "source": []
  }
 ],
 "metadata": {
  "kernelspec": {
   "display_name": "chem",
   "language": "python",
   "name": "python3"
  },
  "language_info": {
   "codemirror_mode": {
    "name": "ipython",
    "version": 3
   },
   "file_extension": ".py",
   "mimetype": "text/x-python",
   "name": "python",
   "nbconvert_exporter": "python",
   "pygments_lexer": "ipython3",
   "version": "3.8.20"
  }
 },
 "nbformat": 4,
 "nbformat_minor": 5
}
