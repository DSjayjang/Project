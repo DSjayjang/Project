{
 "cells": [
  {
   "cell_type": "code",
   "execution_count": 1,
   "id": "ba302eb3",
   "metadata": {},
   "outputs": [],
   "source": [
    "import os\n",
    "import numpy as np\n",
    "import pandas as pd\n",
    "import seaborn as sns\n",
    "import matplotlib.pyplot as plt"
   ]
  },
  {
   "cell_type": "markdown",
   "id": "95cddcd2",
   "metadata": {},
   "source": [
    "# vapor pressure"
   ]
  },
  {
   "cell_type": "code",
   "execution_count": 11,
   "id": "24919f8b",
   "metadata": {},
   "outputs": [],
   "source": [
    "dataset_vp = 'logvp_cp'\n",
    "dataset_vp = pd.read_csv(f'..\\datasets\\{dataset_vp}.csv')\n",
    "\n",
    "save_dir = r'..\\results_figure\\boxplot'"
   ]
  },
  {
   "cell_type": "code",
   "execution_count": 12,
   "id": "3bc989f5",
   "metadata": {},
   "outputs": [
    {
     "name": "stdout",
     "output_type": "stream",
     "text": [
      "..\\results_figure\\boxplot\\6.pdf\n"
     ]
    },
    {
     "data": {
      "image/png": "[encoded data removed]",
      "text/plain": [
       "<Figure size 669x200 with 1 Axes>"
      ]
     },
     "metadata": {},
     "output_type": "display_data"
    }
   ],
   "source": [
    "y = 'logvp'\n",
    "\n",
    "fig = plt.figure(figsize=(6.69, 2.0))\n",
    "ax1 = fig.add_subplot(111)\n",
    "\n",
    "sns.boxplot(x=dataset_vp[y], color='darkgray')\n",
    "\n",
    "ax1.set_xlabel('')\n",
    "ax1.set_ylabel('')\n",
    "ax1.set_xticks(range(dataset_vp['logvp'].min().astype(int), dataset_vp['logvp'].max().astype(int)+5, 5))\n",
    "ax1.set_yticks(np.arange(0, 0.22, 0.04))\n",
    "ax1.tick_params(axis='both', labelsize=8)\n",
    "\n",
    "# 저장\n",
    "file_name = '6.pdf'\n",
    "file_path = os.path.join(save_dir, file_name)\n",
    "print(file_path)\n",
    "plt.savefig(file_path, dpi=300, bbox_inches = \"tight\")\n",
    "\n",
    "plt.show()"
   ]
  },
  {
   "cell_type": "code",
   "execution_count": null,
   "id": "39aa8cf9",
   "metadata": {},
   "outputs": [],
   "source": []
  }
 ],
 "metadata": {
  "kernelspec": {
   "display_name": "chem",
   "language": "python",
   "name": "python3"
  },
  "language_info": {
   "codemirror_mode": {
    "name": "ipython",
    "version": 3
   },
   "file_extension": ".py",
   "mimetype": "text/x-python",
   "name": "python",
   "nbconvert_exporter": "python",
   "pygments_lexer": "ipython3",
   "version": "3.8.20"
  }
 },
 "nbformat": 4,
 "nbformat_minor": 5
}
