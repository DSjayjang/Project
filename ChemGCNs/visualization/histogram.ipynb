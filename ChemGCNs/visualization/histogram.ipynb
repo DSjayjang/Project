{
 "cells": [
  {
   "cell_type": "code",
   "execution_count": 26,
   "id": "ba302eb3",
   "metadata": {},
   "outputs": [],
   "source": [
    "import os\n",
    "import numpy as np\n",
    "import pandas as pd\n",
    "import seaborn as sns\n",
    "import matplotlib.pyplot as plt"
   ]
  },
  {
   "cell_type": "code",
   "execution_count": 27,
   "id": "c9616dc7",
   "metadata": {},
   "outputs": [
    {
     "data": {
      "text/html": [
       "<div>\n",
       "<style scoped>\n",
       "    .dataframe tbody tr th:only-of-type {\n",
       "        vertical-align: middle;\n",
       "    }\n",
       "\n",
       "    .dataframe tbody tr th {\n",
       "        vertical-align: top;\n",
       "    }\n",
       "\n",
       "    .dataframe thead th {\n",
       "        text-align: right;\n",
       "    }\n",
       "</style>\n",
       "<table border=\"1\" class=\"dataframe\">\n",
       "  <thead>\n",
       "    <tr style=\"text-align: right;\">\n",
       "      <th></th>\n",
       "      <th>smiles</th>\n",
       "      <th>logvp</th>\n",
       "    </tr>\n",
       "  </thead>\n",
       "  <tbody>\n",
       "    <tr>\n",
       "      <th>0</th>\n",
       "      <td>C=O</td>\n",
       "      <td>8.27</td>\n",
       "    </tr>\n",
       "    <tr>\n",
       "      <th>1</th>\n",
       "      <td>CNN</td>\n",
       "      <td>3.91</td>\n",
       "    </tr>\n",
       "    <tr>\n",
       "      <th>2</th>\n",
       "      <td>C(=O)O</td>\n",
       "      <td>3.75</td>\n",
       "    </tr>\n",
       "    <tr>\n",
       "      <th>3</th>\n",
       "      <td>CCl</td>\n",
       "      <td>8.37</td>\n",
       "    </tr>\n",
       "    <tr>\n",
       "      <th>4</th>\n",
       "      <td>CN</td>\n",
       "      <td>7.88</td>\n",
       "    </tr>\n",
       "    <tr>\n",
       "      <th>...</th>\n",
       "      <td>...</td>\n",
       "      <td>...</td>\n",
       "    </tr>\n",
       "    <tr>\n",
       "      <th>77</th>\n",
       "      <td>C1CCCCC1</td>\n",
       "      <td>4.57</td>\n",
       "    </tr>\n",
       "    <tr>\n",
       "      <th>78</th>\n",
       "      <td>COP(=O)(C)OC</td>\n",
       "      <td>-0.04</td>\n",
       "    </tr>\n",
       "    <tr>\n",
       "      <th>79</th>\n",
       "      <td>CC(=O)NC1=CC=C(C=C1)O</td>\n",
       "      <td>-9.67</td>\n",
       "    </tr>\n",
       "    <tr>\n",
       "      <th>80</th>\n",
       "      <td>CC(=O)OC1=CC=CC=C1C(=O)O</td>\n",
       "      <td>-10.59</td>\n",
       "    </tr>\n",
       "    <tr>\n",
       "      <th>81</th>\n",
       "      <td>C(C(=O)O)NCP(=O)(O)O</td>\n",
       "      <td>-16.14</td>\n",
       "    </tr>\n",
       "  </tbody>\n",
       "</table>\n",
       "<p>82 rows × 2 columns</p>\n",
       "</div>"
      ],
      "text/plain": [
       "                      smiles  logvp\n",
       "0                        C=O   8.27\n",
       "1                        CNN   3.91\n",
       "2                     C(=O)O   3.75\n",
       "3                        CCl   8.37\n",
       "4                         CN   7.88\n",
       "..                       ...    ...\n",
       "77                  C1CCCCC1   4.57\n",
       "78              COP(=O)(C)OC  -0.04\n",
       "79     CC(=O)NC1=CC=C(C=C1)O  -9.67\n",
       "80  CC(=O)OC1=CC=CC=C1C(=O)O -10.59\n",
       "81      C(C(=O)O)NCP(=O)(O)O -16.14\n",
       "\n",
       "[82 rows x 2 columns]"
      ]
     },
     "execution_count": 27,
     "metadata": {},
     "output_type": "execute_result"
    }
   ],
   "source": [
    "dataset = 'logvp' # freesolv / esol / lipo / logvp\n",
    "df = pd.read_csv(f'..\\datasets\\{dataset}.csv')\n",
    "df"
   ]
  },
  {
   "cell_type": "code",
   "execution_count": 28,
   "id": "a6f44cd7",
   "metadata": {},
   "outputs": [],
   "source": [
    "if dataset == 'esol':\n",
    "    y = 'logp'\n",
    "elif dataset == 'freesolv':\n",
    "    y = 'freesolv'\n",
    "elif dataset == 'lipo':\n",
    "    y = 'lipo'\n",
    "elif dataset == 'logvp':\n",
    "    y = 'logvp'"
   ]
  },
  {
   "cell_type": "code",
   "execution_count": null,
   "id": "0a0634f1",
   "metadata": {},
   "outputs": [
    {
     "name": "stdout",
     "output_type": "stream",
     "text": [
      "..\\results_figure\\histogram\\histogram_logvp.png\n"
     ]
    },
    {
     "data": {
      "image/png": "[encoded data removed]",
      "text/plain": [
       "<Figure size 800x600 with 1 Axes>"
      ]
     },
     "metadata": {},
     "output_type": "display_data"
    }
   ],
   "source": [
    "plt.figure(figsize = (8,6))\n",
    "ax = sns.histplot(df[y], color = 'darkgray', edgecolor='white', bins=20,  alpha = 1, stat='density')\n",
    "sns.kdeplot(df[y], ax=ax, linewidth=1.5, color='black')\n",
    "plt.xlabel('')\n",
    "plt.ylabel('')\n",
    "\n",
    "# # 저장\n",
    "# save_dir = r'..\\results_figure\\histogram'\n",
    "# file_name = f'histogram_{dataset}.png'\n",
    "# file_path = os.path.join(save_dir, file_name)\n",
    "# print(file_path)\n",
    "# plt.savefig(file_path, dpi = 300, bbox_inches = 'tight')\n",
    "\n",
    "plt.show()"
   ]
  }
 ],
 "metadata": {
  "kernelspec": {
   "display_name": "chem",
   "language": "python",
   "name": "python3"
  },
  "language_info": {
   "codemirror_mode": {
    "name": "ipython",
    "version": 3
   },
   "file_extension": ".py",
   "mimetype": "text/x-python",
   "name": "python",
   "nbconvert_exporter": "python",
   "pygments_lexer": "ipython3",
   "version": "3.8.20"
  }
 },
 "nbformat": 4,
 "nbformat_minor": 5
}
