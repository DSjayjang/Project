{
 "cells": [
  {
   "cell_type": "code",
   "execution_count": 11,
   "id": "ba302eb3",
   "metadata": {},
   "outputs": [],
   "source": [
    "import os\n",
    "import numpy as np\n",
    "import pandas as pd\n",
    "import seaborn as sns\n",
    "import matplotlib.pyplot as plt"
   ]
  },
  {
   "cell_type": "code",
   "execution_count": 12,
   "id": "c9616dc7",
   "metadata": {},
   "outputs": [
    {
     "data": {
      "text/html": [
       "<div>\n",
       "<style scoped>\n",
       "    .dataframe tbody tr th:only-of-type {\n",
       "        vertical-align: middle;\n",
       "    }\n",
       "\n",
       "    .dataframe tbody tr th {\n",
       "        vertical-align: top;\n",
       "    }\n",
       "\n",
       "    .dataframe thead th {\n",
       "        text-align: right;\n",
       "    }\n",
       "</style>\n",
       "<table border=\"1\" class=\"dataframe\">\n",
       "  <thead>\n",
       "    <tr style=\"text-align: right;\">\n",
       "      <th></th>\n",
       "      <th>smiles</th>\n",
       "      <th>logvp</th>\n",
       "    </tr>\n",
       "  </thead>\n",
       "  <tbody>\n",
       "    <tr>\n",
       "      <th>0</th>\n",
       "      <td>COC(F)(F)C(F)(F)C(F)(F)F</td>\n",
       "      <td>2.750000</td>\n",
       "    </tr>\n",
       "    <tr>\n",
       "      <th>1</th>\n",
       "      <td>COC(F)(F)C(F)(F)F</td>\n",
       "      <td>3.210000</td>\n",
       "    </tr>\n",
       "    <tr>\n",
       "      <th>2</th>\n",
       "      <td>Brc1cc(Br)c(cc1)Oc1ccc(Br)c(Br)c1Br</td>\n",
       "      <td>-8.140000</td>\n",
       "    </tr>\n",
       "    <tr>\n",
       "      <th>3</th>\n",
       "      <td>Clc1c(Oc2ccccc2)c(Cl)ccc1Cl</td>\n",
       "      <td>-3.550000</td>\n",
       "    </tr>\n",
       "    <tr>\n",
       "      <th>4</th>\n",
       "      <td>Clc1cc(Oc2ccccc2)c(Cl)c(Cl)c1</td>\n",
       "      <td>-3.660000</td>\n",
       "    </tr>\n",
       "    <tr>\n",
       "      <th>...</th>\n",
       "      <td>...</td>\n",
       "      <td>...</td>\n",
       "    </tr>\n",
       "    <tr>\n",
       "      <th>3568</th>\n",
       "      <td>CCC1=CC2=C(C=C1)C(=O)C1=C(C=CC=C1)C2=O</td>\n",
       "      <td>-5.991400</td>\n",
       "    </tr>\n",
       "    <tr>\n",
       "      <th>3569</th>\n",
       "      <td>O=C1C2=CC=CC3=C2C(=CC=C3)C2=C1C=CC=C2</td>\n",
       "      <td>-6.657577</td>\n",
       "    </tr>\n",
       "    <tr>\n",
       "      <th>3570</th>\n",
       "      <td>OC(C1=CC=CC=C1)(C1=CC=CC=C1)C1=CC=CC=C1</td>\n",
       "      <td>-7.522879</td>\n",
       "    </tr>\n",
       "    <tr>\n",
       "      <th>3571</th>\n",
       "      <td>C1=CC=C(C=C1)C1=C2C=CC=CC2=CC2=C1C=CC=C2</td>\n",
       "      <td>-7.045757</td>\n",
       "    </tr>\n",
       "    <tr>\n",
       "      <th>3572</th>\n",
       "      <td>CC(C)=CC1C(C(=O)OCC2=C(C)C=C(C)C=C2)C1(C)C</td>\n",
       "      <td>-4.764472</td>\n",
       "    </tr>\n",
       "  </tbody>\n",
       "</table>\n",
       "<p>3573 rows × 2 columns</p>\n",
       "</div>"
      ],
      "text/plain": [
       "                                          smiles     logvp\n",
       "0                       COC(F)(F)C(F)(F)C(F)(F)F  2.750000\n",
       "1                              COC(F)(F)C(F)(F)F  3.210000\n",
       "2            Brc1cc(Br)c(cc1)Oc1ccc(Br)c(Br)c1Br -8.140000\n",
       "3                    Clc1c(Oc2ccccc2)c(Cl)ccc1Cl -3.550000\n",
       "4                  Clc1cc(Oc2ccccc2)c(Cl)c(Cl)c1 -3.660000\n",
       "...                                          ...       ...\n",
       "3568      CCC1=CC2=C(C=C1)C(=O)C1=C(C=CC=C1)C2=O -5.991400\n",
       "3569       O=C1C2=CC=CC3=C2C(=CC=C3)C2=C1C=CC=C2 -6.657577\n",
       "3570     OC(C1=CC=CC=C1)(C1=CC=CC=C1)C1=CC=CC=C1 -7.522879\n",
       "3571    C1=CC=C(C=C1)C1=C2C=CC=CC2=CC2=C1C=CC=C2 -7.045757\n",
       "3572  CC(C)=CC1C(C(=O)OCC2=C(C)C=C(C)C=C2)C1(C)C -4.764472\n",
       "\n",
       "[3573 rows x 2 columns]"
      ]
     },
     "execution_count": 12,
     "metadata": {},
     "output_type": "execute_result"
    }
   ],
   "source": [
    "dataset = 'VP' # freesolv / esol / lipo / logvp / VP\n",
    "df = pd.read_csv(f'..\\datasets\\{dataset}.csv')\n",
    "df"
   ]
  },
  {
   "cell_type": "code",
   "execution_count": 13,
   "id": "a6f44cd7",
   "metadata": {},
   "outputs": [],
   "source": [
    "if dataset == 'esol':\n",
    "    y = 'logp'\n",
    "elif dataset == 'freesolv':\n",
    "    y = 'freesolv'\n",
    "elif dataset == 'lipo':\n",
    "    y = 'lipo'\n",
    "elif dataset == 'logvp':\n",
    "    y = 'logvp'\n",
    "elif dataset == 'VP':\n",
    "    y = 'logvp'"
   ]
  },
  {
   "cell_type": "code",
   "execution_count": null,
   "id": "0a0634f1",
   "metadata": {},
   "outputs": [
    {
     "name": "stdout",
     "output_type": "stream",
     "text": [
      "..\\results_figure\\histogram\\histogram_VP.png\n"
     ]
    },
    {
     "data": {
      "image/png": "[encoded data removed]",
      "text/plain": [
       "<Figure size 800x600 with 1 Axes>"
      ]
     },
     "metadata": {},
     "output_type": "display_data"
    }
   ],
   "source": [
    "plt.figure(figsize = (8,6))\n",
    "ax = sns.histplot(df[y], color = 'darkgray', edgecolor='white', bins=20,  alpha = 1, stat='density')\n",
    "sns.kdeplot(df[y], ax=ax, linewidth=1.5, color='black')\n",
    "plt.xlabel('')\n",
    "plt.ylabel('')\n",
    "\n",
    "# # 저장\n",
    "# save_dir = r'..\\results_figure\\histogram'\n",
    "# file_name = f'histogram_{dataset}.png'\n",
    "# file_path = os.path.join(save_dir, file_name)\n",
    "# print(file_path)\n",
    "# plt.savefig(file_path, dpi = 300, bbox_inches = 'tight')\n",
    "\n",
    "plt.show()"
   ]
  },
  {
   "cell_type": "code",
   "execution_count": null,
   "id": "37406386",
   "metadata": {},
   "outputs": [],
   "source": []
  }
 ],
 "metadata": {
  "kernelspec": {
   "display_name": "chem",
   "language": "python",
   "name": "python3"
  },
  "language_info": {
   "codemirror_mode": {
    "name": "ipython",
    "version": 3
   },
   "file_extension": ".py",
   "mimetype": "text/x-python",
   "name": "python",
   "nbconvert_exporter": "python",
   "pygments_lexer": "ipython3",
   "version": "3.8.20"
  }
 },
 "nbformat": 4,
 "nbformat_minor": 5
}
